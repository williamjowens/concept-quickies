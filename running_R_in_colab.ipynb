{
  "nbformat": 4,
  "nbformat_minor": 0,
  "metadata": {
    "colab": {
      "provenance": []
    },
    "kernelspec": {
      "name": "python3",
      "display_name": "Python 3"
    },
    "language_info": {
      "name": "python"
    }
  },
  "cells": [
    {
      "cell_type": "code",
      "execution_count": 1,
      "metadata": {
        "colab": {
          "base_uri": "https://localhost:8080/"
        },
        "id": "jtm3FyDwXy1x",
        "outputId": "a7c0d956-a716-4b0e-dbf8-120f5123ce49"
      },
      "outputs": [
        {
          "output_type": "stream",
          "name": "stdout",
          "text": [
            "/usr/bin/Rscript\n"
          ]
        }
      ],
      "source": [
        "!which Rscript"
      ]
    },
    {
      "cell_type": "code",
      "source": [
        "%%bash\n",
        "Rscript -e \"x <- c(1, 2, 3, 4); print(mean(x))\""
      ],
      "metadata": {
        "colab": {
          "base_uri": "https://localhost:8080/"
        },
        "id": "OmfFbU-LX0IO",
        "outputId": "da9bafa6-8b3b-4377-ed29-66265db24b63"
      },
      "execution_count": 2,
      "outputs": [
        {
          "output_type": "stream",
          "name": "stdout",
          "text": [
            "[1] 2.5\n"
          ]
        }
      ]
    },
    {
      "cell_type": "code",
      "source": [
        "%%bash\n",
        "cat << 'EOF' > temp_script.R\n",
        "x <- c(1, 2, 3, 4)\n",
        "print(mean(x))\n",
        "EOF\n",
        "\n",
        "Rscript temp_script.R"
      ],
      "metadata": {
        "colab": {
          "base_uri": "https://localhost:8080/"
        },
        "id": "LYvrSb_LX39U",
        "outputId": "579fdfe0-cf34-4ec2-e232-567233b7a9e1"
      },
      "execution_count": 3,
      "outputs": [
        {
          "output_type": "stream",
          "name": "stdout",
          "text": [
            "[1] 2.5\n"
          ]
        }
      ]
    },
    {
      "cell_type": "code",
      "source": [
        "%%bash\n",
        "Rscript -e \"install.packages('dplyr', repos='http://cran.r-project.org')\""
      ],
      "metadata": {
        "colab": {
          "base_uri": "https://localhost:8080/"
        },
        "id": "CGolsYnyX7Qm",
        "outputId": "c61c223a-94ad-47ea-8225-c1b80553c333"
      },
      "execution_count": 4,
      "outputs": [
        {
          "output_type": "stream",
          "name": "stdout",
          "text": [
            "g++ -std=gnu++17 -I\"/usr/share/R/include\" -DNDEBUG       -fpic  -g -O2 -ffile-prefix-map=/build/r-base-JpkSDg/r-base-4.4.3=. -fstack-protector-strong -Wformat -Werror=format-security -Wdate-time -D_FORTIFY_SOURCE=2   -c chop.cpp -o chop.o\n",
            "g++ -std=gnu++17 -I\"/usr/share/R/include\" -DNDEBUG       -fpic  -g -O2 -ffile-prefix-map=/build/r-base-JpkSDg/r-base-4.4.3=. -fstack-protector-strong -Wformat -Werror=format-security -Wdate-time -D_FORTIFY_SOURCE=2   -c filter.cpp -o filter.o\n",
            "g++ -std=gnu++17 -I\"/usr/share/R/include\" -DNDEBUG       -fpic  -g -O2 -ffile-prefix-map=/build/r-base-JpkSDg/r-base-4.4.3=. -fstack-protector-strong -Wformat -Werror=format-security -Wdate-time -D_FORTIFY_SOURCE=2   -c funs.cpp -o funs.o\n",
            "g++ -std=gnu++17 -I\"/usr/share/R/include\" -DNDEBUG       -fpic  -g -O2 -ffile-prefix-map=/build/r-base-JpkSDg/r-base-4.4.3=. -fstack-protector-strong -Wformat -Werror=format-security -Wdate-time -D_FORTIFY_SOURCE=2   -c group_by.cpp -o group_by.o\n",
            "g++ -std=gnu++17 -I\"/usr/share/R/include\" -DNDEBUG       -fpic  -g -O2 -ffile-prefix-map=/build/r-base-JpkSDg/r-base-4.4.3=. -fstack-protector-strong -Wformat -Werror=format-security -Wdate-time -D_FORTIFY_SOURCE=2   -c group_data.cpp -o group_data.o\n",
            "g++ -std=gnu++17 -I\"/usr/share/R/include\" -DNDEBUG       -fpic  -g -O2 -ffile-prefix-map=/build/r-base-JpkSDg/r-base-4.4.3=. -fstack-protector-strong -Wformat -Werror=format-security -Wdate-time -D_FORTIFY_SOURCE=2   -c imports.cpp -o imports.o\n",
            "g++ -std=gnu++17 -I\"/usr/share/R/include\" -DNDEBUG       -fpic  -g -O2 -ffile-prefix-map=/build/r-base-JpkSDg/r-base-4.4.3=. -fstack-protector-strong -Wformat -Werror=format-security -Wdate-time -D_FORTIFY_SOURCE=2   -c init.cpp -o init.o\n",
            "g++ -std=gnu++17 -I\"/usr/share/R/include\" -DNDEBUG       -fpic  -g -O2 -ffile-prefix-map=/build/r-base-JpkSDg/r-base-4.4.3=. -fstack-protector-strong -Wformat -Werror=format-security -Wdate-time -D_FORTIFY_SOURCE=2   -c mask.cpp -o mask.o\n",
            "g++ -std=gnu++17 -I\"/usr/share/R/include\" -DNDEBUG       -fpic  -g -O2 -ffile-prefix-map=/build/r-base-JpkSDg/r-base-4.4.3=. -fstack-protector-strong -Wformat -Werror=format-security -Wdate-time -D_FORTIFY_SOURCE=2   -c mutate.cpp -o mutate.o\n",
            "g++ -std=gnu++17 -I\"/usr/share/R/include\" -DNDEBUG       -fpic  -g -O2 -ffile-prefix-map=/build/r-base-JpkSDg/r-base-4.4.3=. -fstack-protector-strong -Wformat -Werror=format-security -Wdate-time -D_FORTIFY_SOURCE=2   -c reconstruct.cpp -o reconstruct.o\n",
            "g++ -std=gnu++17 -I\"/usr/share/R/include\" -DNDEBUG       -fpic  -g -O2 -ffile-prefix-map=/build/r-base-JpkSDg/r-base-4.4.3=. -fstack-protector-strong -Wformat -Werror=format-security -Wdate-time -D_FORTIFY_SOURCE=2   -c slice.cpp -o slice.o\n",
            "g++ -std=gnu++17 -I\"/usr/share/R/include\" -DNDEBUG       -fpic  -g -O2 -ffile-prefix-map=/build/r-base-JpkSDg/r-base-4.4.3=. -fstack-protector-strong -Wformat -Werror=format-security -Wdate-time -D_FORTIFY_SOURCE=2   -c summarise.cpp -o summarise.o\n",
            "g++ -std=gnu++17 -shared -L/usr/lib/R/lib -Wl,-Bsymbolic-functions -flto=auto -ffat-lto-objects -flto=auto -Wl,-z,relro -o dplyr.so chop.o filter.o funs.o group_by.o group_data.o imports.o init.o mask.o mutate.o reconstruct.o slice.o summarise.o -L/usr/lib/R/lib -lR\n"
          ]
        },
        {
          "output_type": "stream",
          "name": "stderr",
          "text": [
            "Installing package into ‘/usr/local/lib/R/site-library’\n",
            "(as ‘lib’ is unspecified)\n",
            "trying URL 'http://cran.r-project.org/src/contrib/dplyr_1.1.4.tar.gz'\n",
            "Content type 'application/x-gzip' length 1207521 bytes (1.2 MB)\n",
            "==================================================\n",
            "downloaded 1.2 MB\n",
            "\n",
            "* installing *source* package ‘dplyr’ ...\n",
            "** package ‘dplyr’ successfully unpacked and MD5 sums checked\n",
            "** using staged installation\n",
            "** libs\n",
            "using C++ compiler: ‘g++ (Ubuntu 11.4.0-1ubuntu1~22.04) 11.4.0’\n",
            "installing to /usr/local/lib/R/site-library/00LOCK-dplyr/00new/dplyr/libs\n",
            "** R\n",
            "** data\n",
            "*** moving datasets to lazyload DB\n",
            "** inst\n",
            "** byte-compile and prepare package for lazy loading\n",
            "** help\n",
            "*** installing help indices\n",
            "*** copying figures\n",
            "** building package indices\n",
            "** installing vignettes\n",
            "** testing if installed package can be loaded from temporary location\n",
            "** checking absolute paths in shared objects and dynamic libraries\n",
            "** testing if installed package can be loaded from final location\n",
            "** testing if installed package keeps a record of temporary installation path\n",
            "* DONE (dplyr)\n",
            "\n",
            "The downloaded source packages are in\n",
            "\t‘/tmp/Rtmp9AnRtL/downloaded_packages’\n"
          ]
        }
      ]
    },
    {
      "cell_type": "code",
      "source": [
        "%%bash\n",
        "Rscript -e \"library(dplyr); print(head(mtcars))\""
      ],
      "metadata": {
        "colab": {
          "base_uri": "https://localhost:8080/"
        },
        "id": "OYxrobW2YEim",
        "outputId": "b46b47ed-a77a-43da-daf8-194b4138b135"
      },
      "execution_count": 5,
      "outputs": [
        {
          "output_type": "stream",
          "name": "stdout",
          "text": [
            "                   mpg cyl disp  hp drat    wt  qsec vs am gear carb\n",
            "Mazda RX4         21.0   6  160 110 3.90 2.620 16.46  0  1    4    4\n",
            "Mazda RX4 Wag     21.0   6  160 110 3.90 2.875 17.02  0  1    4    4\n",
            "Datsun 710        22.8   4  108  93 3.85 2.320 18.61  1  1    4    1\n",
            "Hornet 4 Drive    21.4   6  258 110 3.08 3.215 19.44  1  0    3    1\n",
            "Hornet Sportabout 18.7   8  360 175 3.15 3.440 17.02  0  0    3    2\n",
            "Valiant           18.1   6  225 105 2.76 3.460 20.22  1  0    3    1\n"
          ]
        },
        {
          "output_type": "stream",
          "name": "stderr",
          "text": [
            "\n",
            "Attaching package: ‘dplyr’\n",
            "\n",
            "The following objects are masked from ‘package:stats’:\n",
            "\n",
            "    filter, lag\n",
            "\n",
            "The following objects are masked from ‘package:base’:\n",
            "\n",
            "    intersect, setdiff, setequal, union\n",
            "\n"
          ]
        }
      ]
    },
    {
      "cell_type": "code",
      "source": [
        "%%bash\n",
        "Rscript -e \"if (!require('stringr')) install.packages('stringr', repos='http://cran.r-project.org'); library(stringr); print(str_to_upper('hello world'))\""
      ],
      "metadata": {
        "colab": {
          "base_uri": "https://localhost:8080/"
        },
        "id": "lemMOWaPYGMo",
        "outputId": "9cf5026e-6e9e-4742-bb72-4c9b5c801e2a"
      },
      "execution_count": 6,
      "outputs": [
        {
          "output_type": "stream",
          "name": "stdout",
          "text": [
            "[1] \"HELLO WORLD\"\n"
          ]
        },
        {
          "output_type": "stream",
          "name": "stderr",
          "text": [
            "Loading required package: stringr\n"
          ]
        }
      ]
    },
    {
      "cell_type": "code",
      "source": [
        "%%bash\n",
        "# Write the R script to a file\n",
        "cat << 'EOF' > my_script.R\n",
        "# Check if 'stringr' package is installed; install if not\n",
        "if (!require(\"stringr\", character.only = TRUE)) {\n",
        "  install.packages(\"stringr\", repos=\"http://cran.r-project.org\")\n",
        "}\n",
        "\n",
        "# Load the stringr package\n",
        "library(stringr)\n",
        "\n",
        "# Create a vector of words\n",
        "words <- c(\"hello\", \"world\", \"google\", \"colab\", \"r\", \"programming\")\n",
        "\n",
        "# Convert each word to title case using stringr\n",
        "words_title <- str_to_title(words)\n",
        "\n",
        "# Print the original and transformed words\n",
        "cat(\"Original words: \", paste(words, collapse=\", \"), \"\\n\")\n",
        "cat(\"Title-cased words: \", paste(words_title, collapse=\", \"), \"\\n\")\n",
        "EOF\n",
        "\n",
        "# Execute the R script\n",
        "Rscript my_script.R"
      ],
      "metadata": {
        "colab": {
          "base_uri": "https://localhost:8080/"
        },
        "id": "No0sl8F8af2r",
        "outputId": "a779a084-c91d-4a65-8150-0e1eb1763910"
      },
      "execution_count": 7,
      "outputs": [
        {
          "output_type": "stream",
          "name": "stdout",
          "text": [
            "Original words:  hello, world, google, colab, r, programming \n",
            "Title-cased words:  Hello, World, Google, Colab, R, Programming \n"
          ]
        },
        {
          "output_type": "stream",
          "name": "stderr",
          "text": [
            "Loading required package: stringr\n"
          ]
        }
      ]
    },
    {
      "cell_type": "code",
      "source": [
        "%%bash\n",
        "# Write the R script to a file named ml_script.R\n",
        "cat << 'EOF' > ml_script.R\n",
        "# Set seed for reproducibility\n",
        "set.seed(42)\n",
        "\n",
        "# Install and load the rpart package if necessary\n",
        "if (!require(\"rpart\", character.only = TRUE)) {\n",
        "  install.packages(\"rpart\", repos=\"http://cran.r-project.org\")\n",
        "  library(rpart)\n",
        "} else {\n",
        "  library(rpart)\n",
        "}\n",
        "\n",
        "# Load the iris dataset\n",
        "data(iris)\n",
        "\n",
        "# Split the data: 80% for training and 20% for testing\n",
        "train_idx <- sample(seq_len(nrow(iris)), size = 0.8 * nrow(iris))\n",
        "train_data <- iris[train_idx, ]\n",
        "test_data <- iris[-train_idx, ]\n",
        "\n",
        "# Train a decision tree model to predict Species\n",
        "model <- rpart(Species ~ ., data = train_data)\n",
        "\n",
        "# Print a summary of the model\n",
        "print(summary(model))\n",
        "\n",
        "# Predict the Species on the test dataset\n",
        "predictions <- predict(model, test_data, type = \"class\")\n",
        "\n",
        "# Create a confusion matrix to evaluate performance\n",
        "conf_matrix <- table(Predicted = predictions, Actual = test_data$Species)\n",
        "cat(\"Confusion Matrix:\\n\")\n",
        "print(conf_matrix)\n",
        "\n",
        "# Calculate and print the model's accuracy\n",
        "accuracy <- sum(diag(conf_matrix)) / sum(conf_matrix)\n",
        "cat(\"Accuracy:\", accuracy, \"\\n\")\n",
        "EOF\n",
        "\n",
        "# Execute the R script\n",
        "Rscript ml_script.R"
      ],
      "metadata": {
        "colab": {
          "base_uri": "https://localhost:8080/"
        },
        "id": "6UkQXWSLavHy",
        "outputId": "59675435-f5e5-48d0-d53e-a91288685120"
      },
      "execution_count": 8,
      "outputs": [
        {
          "output_type": "stream",
          "name": "stdout",
          "text": [
            "Call:\n",
            "rpart(formula = Species ~ ., data = train_data)\n",
            "  n= 120 \n",
            "\n",
            "         CP nsplit  rel error    xerror       xstd\n",
            "1 0.5063291      0 1.00000000 1.1772152 0.05790361\n",
            "2 0.4430380      1 0.49367089 0.6582278 0.06871292\n",
            "3 0.0100000      2 0.05063291 0.1012658 0.03458886\n",
            "\n",
            "Variable importance\n",
            " Petal.Width Petal.Length Sepal.Length  Sepal.Width \n",
            "          35           31           21           13 \n",
            "\n",
            "Node number 1: 120 observations,    complexity param=0.5063291\n",
            "  predicted class=setosa      expected loss=0.6583333  P(node) =1\n",
            "    class counts:    41    39    40\n",
            "   probabilities: 0.342 0.325 0.333 \n",
            "  left son=2 (41 obs) right son=3 (79 obs)\n",
            "  Primary splits:\n",
            "      Petal.Length < 2.45 to the left,  improve=40.48966, (0 missing)\n",
            "      Petal.Width  < 0.8  to the left,  improve=40.48966, (0 missing)\n",
            "      Sepal.Length < 5.45 to the left,  improve=27.81444, (0 missing)\n",
            "      Sepal.Width  < 3.15 to the right, improve=13.53936, (0 missing)\n",
            "  Surrogate splits:\n",
            "      Petal.Width  < 0.8  to the left,  agree=1.000, adj=1.000, (0 split)\n",
            "      Sepal.Length < 5.45 to the left,  agree=0.917, adj=0.756, (0 split)\n",
            "      Sepal.Width  < 3.35 to the right, agree=0.808, adj=0.439, (0 split)\n",
            "\n",
            "Node number 2: 41 observations\n",
            "  predicted class=setosa      expected loss=0  P(node) =0.3416667\n",
            "    class counts:    41     0     0\n",
            "   probabilities: 1.000 0.000 0.000 \n",
            "\n",
            "Node number 3: 79 observations,    complexity param=0.443038\n",
            "  predicted class=virginica   expected loss=0.4936709  P(node) =0.6583333\n",
            "    class counts:     0    39    40\n",
            "   probabilities: 0.000 0.494 0.506 \n",
            "  left son=6 (41 obs) right son=7 (38 obs)\n",
            "  Primary splits:\n",
            "      Petal.Width  < 1.65 to the left,  improve=31.985330, (0 missing)\n",
            "      Petal.Length < 4.85 to the left,  improve=30.143220, (0 missing)\n",
            "      Sepal.Length < 6.35 to the left,  improve= 9.191252, (0 missing)\n",
            "      Sepal.Width  < 2.45 to the left,  improve= 3.173036, (0 missing)\n",
            "  Surrogate splits:\n",
            "      Petal.Length < 4.75 to the left,  agree=0.899, adj=0.789, (0 split)\n",
            "      Sepal.Length < 6.25 to the left,  agree=0.734, adj=0.447, (0 split)\n",
            "      Sepal.Width  < 2.95 to the left,  agree=0.646, adj=0.263, (0 split)\n",
            "\n",
            "Node number 6: 41 observations\n",
            "  predicted class=versicolor  expected loss=0.07317073  P(node) =0.3416667\n",
            "    class counts:     0    38     3\n",
            "   probabilities: 0.000 0.927 0.073 \n",
            "\n",
            "Node number 7: 38 observations\n",
            "  predicted class=virginica   expected loss=0.02631579  P(node) =0.3166667\n",
            "    class counts:     0     1    37\n",
            "   probabilities: 0.000 0.026 0.974 \n",
            "\n",
            "n= 120 \n",
            "\n",
            "node), split, n, loss, yval, (yprob)\n",
            "      * denotes terminal node\n",
            "\n",
            "1) root 120 79 setosa (0.34166667 0.32500000 0.33333333)  \n",
            "  2) Petal.Length< 2.45 41  0 setosa (1.00000000 0.00000000 0.00000000) *\n",
            "  3) Petal.Length>=2.45 79 39 virginica (0.00000000 0.49367089 0.50632911)  \n",
            "    6) Petal.Width< 1.65 41  3 versicolor (0.00000000 0.92682927 0.07317073) *\n",
            "    7) Petal.Width>=1.65 38  1 virginica (0.00000000 0.02631579 0.97368421) *\n",
            "Confusion Matrix:\n",
            "            Actual\n",
            "Predicted    setosa versicolor virginica\n",
            "  setosa          9          0         0\n",
            "  versicolor      0         10         1\n",
            "  virginica       0          1         9\n",
            "Accuracy: 0.9333333 \n"
          ]
        },
        {
          "output_type": "stream",
          "name": "stderr",
          "text": [
            "Loading required package: rpart\n"
          ]
        }
      ]
    }
  ]
}