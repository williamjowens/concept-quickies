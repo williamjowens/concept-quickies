{
  "nbformat": 4,
  "nbformat_minor": 0,
  "metadata": {
    "colab": {
      "provenance": [],
      "machine_shape": "hm",
      "gpuType": "T4"
    },
    "kernelspec": {
      "name": "python3",
      "display_name": "Python 3"
    },
    "language_info": {
      "name": "python"
    },
    "accelerator": "GPU"
  },
  "cells": [
    {
      "cell_type": "markdown",
      "source": [
        "# Installs & Imports"
      ],
      "metadata": {
        "id": "ScBDLq2sTetX"
      }
    },
    {
      "cell_type": "code",
      "source": [
        "!pip install -q torch torchvision"
      ],
      "metadata": {
        "id": "UmaYi2uHTpSg"
      },
      "execution_count": 1,
      "outputs": []
    },
    {
      "cell_type": "code",
      "source": [
        "import numpy as np\n",
        "import pandas as pd\n",
        "import matplotlib.pyplot as plt\n",
        "import torch\n",
        "import torch.nn as nn\n",
        "import torch.optim as optim\n",
        "from torch.utils.data import DataLoader, random_split, TensorDataset\n",
        "from torchvision import datasets, transforms\n",
        "from sklearn.metrics import accuracy_score, precision_score, recall_score, f1_score\n",
        "from sklearn.decomposition import PCA"
      ],
      "metadata": {
        "id": "ru289W0SX0wG"
      },
      "execution_count": 2,
      "outputs": []
    },
    {
      "cell_type": "markdown",
      "source": [
        "# Data Loading"
      ],
      "metadata": {
        "id": "IHaEJDwUX7F3"
      }
    },
    {
      "cell_type": "code",
      "source": [
        "def load_mnist_data():\n",
        "    \"\"\"\n",
        "    Load the MNIST training set for later splitting into train and test data.\n",
        "    \"\"\"\n",
        "    transform = transforms.Compose([transforms.ToTensor()])\n",
        "    dataset = datasets.MNIST(root='./data', train=True, transform=transform, download=True)\n",
        "    return dataset"
      ],
      "metadata": {
        "id": "W7xvEIN8X0tf"
      },
      "execution_count": 3,
      "outputs": []
    },
    {
      "cell_type": "code",
      "source": [
        "# Load the data\n",
        "mnist_dataset = load_mnist_data()"
      ],
      "metadata": {
        "id": "RzfnP3h9X0qn"
      },
      "execution_count": 4,
      "outputs": []
    },
    {
      "cell_type": "markdown",
      "source": [
        "# Data Preparation"
      ],
      "metadata": {
        "id": "DsWgR374X-Pt"
      }
    },
    {
      "cell_type": "code",
      "source": [
        "def split_dataset(dataset, train_ratio=0.8):\n",
        "    \"\"\"\n",
        "    Split the dataset into training and testing subsets using the specified ratio.\n",
        "    \"\"\"\n",
        "    train_size = int(train_ratio * len(dataset))\n",
        "    test_size = len(dataset) - train_size\n",
        "    return random_split(dataset, [train_size, test_size])"
      ],
      "metadata": {
        "id": "55PM-C4aYIOi"
      },
      "execution_count": 5,
      "outputs": []
    },
    {
      "cell_type": "code",
      "source": [
        "# Split the full dataset into 80% train and 20% test\n",
        "train_dataset, test_dataset = split_dataset(mnist_dataset)"
      ],
      "metadata": {
        "id": "uos8jXpvYIHQ"
      },
      "execution_count": 6,
      "outputs": []
    },
    {
      "cell_type": "code",
      "source": [
        "# Print shapes\n",
        "print(\"Train dataset shape:\", len(train_dataset))\n",
        "print(\"Test dataset shape:\", len(test_dataset))"
      ],
      "metadata": {
        "colab": {
          "base_uri": "https://localhost:8080/"
        },
        "id": "CsHtdSHzudxM",
        "outputId": "e5582eb8-0bd6-4f11-cc36-1d21683eb271"
      },
      "execution_count": 7,
      "outputs": [
        {
          "output_type": "stream",
          "name": "stdout",
          "text": [
            "Train dataset shape: 48000\n",
            "Test dataset shape: 12000\n"
          ]
        }
      ]
    },
    {
      "cell_type": "code",
      "source": [
        "def prepare_data(dataset, flatten=True):\n",
        "    \"\"\"\n",
        "    Prepare data from the given dataset and return numpy arrays for inputs and labels.\n",
        "    If flatten is True, images are reshaped to vectors; otherwise the original image shape is kept.\n",
        "    \"\"\"\n",
        "    X, y = [], []\n",
        "    for img, label in dataset:\n",
        "        if flatten:\n",
        "            X.append(img.view(-1).numpy())\n",
        "        else:\n",
        "            X.append(img.numpy())\n",
        "        y.append(label)\n",
        "    return np.array(X), np.array(y)"
      ],
      "metadata": {
        "id": "V3T8UAl_YBFC"
      },
      "execution_count": 8,
      "outputs": []
    },
    {
      "cell_type": "code",
      "source": [
        "# Prepare flattened data for DBN and ELM\n",
        "X_train_flat, y_train_flat = prepare_data(train_dataset, flatten=True)\n",
        "X_test_flat, y_test_flat = prepare_data(test_dataset, flatten=True)"
      ],
      "metadata": {
        "id": "a-71bzdPYLbw"
      },
      "execution_count": 9,
      "outputs": []
    },
    {
      "cell_type": "code",
      "source": [
        "# Prepare image data for CNN (original shape, e.g. 28x28)\n",
        "X_train_img, y_train_img = prepare_data(train_dataset, flatten=False)\n",
        "X_test_img, y_test_img = prepare_data(test_dataset, flatten=False)"
      ],
      "metadata": {
        "id": "Ui5f7Jc9YNuX"
      },
      "execution_count": 10,
      "outputs": []
    },
    {
      "cell_type": "code",
      "source": [
        "def apply_pca(X_train, X_test, n_components=100):\n",
        "    \"\"\"\n",
        "    Apply PCA to the training data and transform the test data accordingly.\n",
        "    \"\"\"\n",
        "    pca = PCA(n_components=n_components)\n",
        "    X_train_pca = pca.fit_transform(X_train)\n",
        "    X_test_pca = pca.transform(X_test)\n",
        "    return X_train_pca, X_test_pca, pca"
      ],
      "metadata": {
        "id": "b0MY47XsYP6M"
      },
      "execution_count": 11,
      "outputs": []
    },
    {
      "cell_type": "code",
      "source": [
        "# Apply PCA for dimensionality reduction for MLP only (from flattened data)\n",
        "X_train_pca, X_test_pca, pca_model = apply_pca(X_train_flat, X_test_flat, n_components=100)"
      ],
      "metadata": {
        "id": "7xrxUxivYP33"
      },
      "execution_count": 12,
      "outputs": []
    },
    {
      "cell_type": "markdown",
      "source": [
        "# Model Definition"
      ],
      "metadata": {
        "id": "W3hHeOsxYP1S"
      }
    },
    {
      "cell_type": "code",
      "source": [
        "# --- RBM for DBN pretraining ---\n",
        "class RBM(nn.Module):\n",
        "    def __init__(self, n_visible, n_hidden):\n",
        "        \"\"\"\n",
        "        Initialize the RBM with the given visible and hidden dimensions.\n",
        "        \"\"\"\n",
        "        super(RBM, self).__init__()\n",
        "        self.n_visible = n_visible\n",
        "        self.n_hidden = n_hidden\n",
        "        # Initialize weight matrix and biases\n",
        "        self.W = nn.Parameter(torch.randn(n_hidden, n_visible) * 0.1)\n",
        "        self.h_bias = nn.Parameter(torch.zeros(n_hidden))\n",
        "        self.v_bias = nn.Parameter(torch.zeros(n_visible))\n",
        "        # Initialize momentum buffers\n",
        "        self.W_mom = torch.zeros_like(self.W)\n",
        "        self.h_bias_mom = torch.zeros_like(self.h_bias)\n",
        "        self.v_bias_mom = torch.zeros_like(self.v_bias)\n",
        "\n",
        "    def sample_h(self, v):\n",
        "        \"\"\"\n",
        "        Compute hidden unit probabilities and sample hidden activations.\n",
        "        \"\"\"\n",
        "        activation = torch.matmul(v, self.W.t()) + self.h_bias\n",
        "        p_h = torch.sigmoid(activation)\n",
        "        return p_h, torch.bernoulli(p_h)\n",
        "\n",
        "    def sample_v(self, h):\n",
        "        \"\"\"\n",
        "        Compute visible unit probabilities and sample visible activations.\n",
        "        \"\"\"\n",
        "        activation = torch.matmul(h, self.W) + self.v_bias\n",
        "        p_v = torch.sigmoid(activation)\n",
        "        return p_v, torch.bernoulli(p_v)\n",
        "\n",
        "    def contrastive_divergence(self, v0, k=1):\n",
        "        \"\"\"\n",
        "        Run k steps of Gibbs sampling starting from v0.\n",
        "        \"\"\"\n",
        "        v = v0\n",
        "        for _ in range(k):\n",
        "            p_h, h = self.sample_h(v)\n",
        "            p_v, v = self.sample_v(h)\n",
        "        return v"
      ],
      "metadata": {
        "id": "6OzdB--7YXGE"
      },
      "execution_count": 13,
      "outputs": []
    },
    {
      "cell_type": "code",
      "source": [
        "# DBN classifier that stacks two pretrained RBM layers and a final output layer\n",
        "class DBNClassifier(nn.Module):\n",
        "    def __init__(self, n_visible, n_hidden1, n_hidden2, n_classes):\n",
        "        \"\"\"\n",
        "        Initialize the DBN classifier with two hidden layers and an output layer.\n",
        "        \"\"\"\n",
        "        super(DBNClassifier, self).__init__()\n",
        "        self.fc1 = nn.Linear(n_visible, n_hidden1)\n",
        "        self.fc2 = nn.Linear(n_hidden1, n_hidden2)\n",
        "        self.fc3 = nn.Linear(n_hidden2, n_classes)\n",
        "        self.relu = nn.ReLU()\n",
        "\n",
        "    def forward(self, x):\n",
        "        \"\"\"\n",
        "        Define the forward pass of the DBN classifier.\n",
        "        \"\"\"\n",
        "        x = self.relu(self.fc1(x))\n",
        "        x = self.relu(self.fc2(x))\n",
        "        x = self.fc3(x)\n",
        "        return x"
      ],
      "metadata": {
        "id": "x2nezRGXYb5A"
      },
      "execution_count": 14,
      "outputs": []
    },
    {
      "cell_type": "code",
      "source": [
        "# --- Extreme Learning Machine (ELM) ---\n",
        "class ELM(nn.Module):\n",
        "    def __init__(self, n_input, n_hidden, n_output):\n",
        "        \"\"\"\n",
        "        Initialize the ELM with fixed random hidden weights and a trainable output layer.\n",
        "        \"\"\"\n",
        "        super(ELM, self).__init__()\n",
        "        self.n_input = n_input\n",
        "        self.n_hidden = n_hidden\n",
        "        self.n_output = n_output\n",
        "        # Random, fixed weights for the hidden layer\n",
        "        self.input_weights = nn.Parameter(torch.randn(n_hidden, n_input), requires_grad=False)\n",
        "        self.bias = nn.Parameter(torch.randn(n_hidden), requires_grad=False)\n",
        "        self.output_layer = nn.Linear(n_hidden, n_output)\n",
        "\n",
        "    def forward(self, x):\n",
        "        \"\"\"\n",
        "        Define the forward pass of the ELM.\n",
        "        \"\"\"\n",
        "        hidden = torch.sigmoid(torch.matmul(x, self.input_weights.t()) + self.bias)\n",
        "        out = self.output_layer(hidden)\n",
        "        return out"
      ],
      "metadata": {
        "id": "8Ocx186dYb2q"
      },
      "execution_count": 15,
      "outputs": []
    },
    {
      "cell_type": "code",
      "source": [
        "# --- Multi-Layer Perceptron (MLP) ---\n",
        "class MLP(nn.Module):\n",
        "    def __init__(self, n_input, n_hidden, n_output):\n",
        "        \"\"\"\n",
        "        Initialize the MLP with one hidden layer.\n",
        "        \"\"\"\n",
        "        super(MLP, self).__init__()\n",
        "        self.model = nn.Sequential(\n",
        "            nn.Linear(n_input, n_hidden),\n",
        "            nn.ReLU(),\n",
        "            nn.Linear(n_hidden, n_output)\n",
        "        )\n",
        "\n",
        "    def forward(self, x):\n",
        "        \"\"\"\n",
        "        Define the forward pass of the MLP.\n",
        "        \"\"\"\n",
        "        return self.model(x)"
      ],
      "metadata": {
        "id": "1tPyMjkCYb0E"
      },
      "execution_count": 16,
      "outputs": []
    },
    {
      "cell_type": "code",
      "source": [
        "# --- Convolutional Neural Network (CNN) ---\n",
        "class CNN(nn.Module):\n",
        "    def __init__(self, n_classes=10):\n",
        "        \"\"\"\n",
        "        Initialize the CNN for image data (original MNIST images).\n",
        "        \"\"\"\n",
        "        super(CNN, self).__init__()\n",
        "        self.conv_layers = nn.Sequential(\n",
        "            nn.Conv2d(1, 32, kernel_size=3, padding=1),\n",
        "            nn.ReLU(),\n",
        "            nn.MaxPool2d(2),  # 28x28 -> 14x14\n",
        "            nn.Conv2d(32, 64, kernel_size=3, padding=1),\n",
        "            nn.ReLU(),\n",
        "            nn.MaxPool2d(2)   # 14x14 -> 7x7\n",
        "        )\n",
        "        self.fc_layers = nn.Sequential(\n",
        "            nn.Linear(64 * 7 * 7, 128),\n",
        "            nn.ReLU(),\n",
        "            nn.Linear(128, n_classes)\n",
        "        )\n",
        "\n",
        "    def forward(self, x):\n",
        "        \"\"\"\n",
        "        Define the forward pass of the CNN.\n",
        "        \"\"\"\n",
        "        x = self.conv_layers(x)\n",
        "        x = x.view(x.size(0), -1)\n",
        "        x = self.fc_layers(x)\n",
        "        return x"
      ],
      "metadata": {
        "id": "N6G7SvgEYl_W"
      },
      "execution_count": 17,
      "outputs": []
    },
    {
      "cell_type": "markdown",
      "source": [
        "# Model Training"
      ],
      "metadata": {
        "id": "DhicVM2fYl8v"
      }
    },
    {
      "cell_type": "code",
      "source": [
        "def train_rbm(\n",
        "    rbm,\n",
        "    data_loader,\n",
        "    lr=0.01,\n",
        "    k=1,\n",
        "    epochs=5,\n",
        "    momentum=0.5,\n",
        "    weight_decay=0.0002\n",
        "):\n",
        "    \"\"\"\n",
        "    Train the given RBM using Contrastive Divergence with momentum and weight decay.\n",
        "    \"\"\"\n",
        "    rbm.train()\n",
        "    for epoch in range(epochs):\n",
        "        epoch_loss = 0.0\n",
        "        for batch, _ in data_loader:\n",
        "            # Flatten batch and binarize input (MNIST pixels are in [0,1])\n",
        "            v0 = batch.view(-1, rbm.n_visible)\n",
        "            v0 = torch.bernoulli(v0)\n",
        "\n",
        "            # Positive phase\n",
        "            p_h0, h0 = rbm.sample_h(v0)\n",
        "            positive_grad = torch.matmul(p_h0.t(), v0)\n",
        "\n",
        "            # Negative phase via k-step Gibbs sampling\n",
        "            v_k = v0\n",
        "            for _ in range(k):\n",
        "                p_hk, h_k = rbm.sample_h(v_k)\n",
        "                p_vk, v_k = rbm.sample_v(h_k)\n",
        "            p_hk, _ = rbm.sample_h(v_k)\n",
        "            negative_grad = torch.matmul(p_hk.t(), v_k)\n",
        "\n",
        "            # Compute gradients\n",
        "            grad_W = (positive_grad - negative_grad) / v0.size(0) - weight_decay * rbm.W\n",
        "            grad_v_bias = torch.mean(v0 - v_k, dim=0)\n",
        "            grad_h_bias = torch.mean(p_h0 - p_hk, dim=0)\n",
        "\n",
        "            # Update momentum buffers\n",
        "            rbm.W_mom = momentum * rbm.W_mom + lr * grad_W\n",
        "            rbm.v_bias_mom = momentum * rbm.v_bias_mom + lr * grad_v_bias\n",
        "            rbm.h_bias_mom = momentum * rbm.h_bias_mom + lr * grad_h_bias\n",
        "\n",
        "            # Update parameters\n",
        "            rbm.W.data += rbm.W_mom\n",
        "            rbm.v_bias.data += rbm.v_bias_mom\n",
        "            rbm.h_bias.data += rbm.h_bias_mom\n",
        "\n",
        "            # Compute reconstruction loss (mean squared error)\n",
        "            loss = torch.mean((v0 - v_k) ** 2)\n",
        "            epoch_loss += loss.item()\n",
        "        print(f\"RBM Epoch {epoch+1}/{epochs} Loss: {epoch_loss/len(data_loader):.4f}\")"
      ],
      "metadata": {
        "id": "tqstJWhSYl6b"
      },
      "execution_count": 18,
      "outputs": []
    },
    {
      "cell_type": "code",
      "source": [
        "def pretrain_dbn(\n",
        "    train_loader,\n",
        "    n_visible=784,\n",
        "    n_hidden1=256,\n",
        "    n_hidden2=128,\n",
        "    rbm_epochs=5,\n",
        "    lr=0.01,\n",
        "    k=1,\n",
        "    momentum=0.5,\n",
        "    weight_decay=0.0002\n",
        "):\n",
        "    \"\"\"\n",
        "    Pretrain two RBM layers and return the pretrained RBMs.\n",
        "    \"\"\"\n",
        "    # Pretrain first RBM on raw flattened data (dimension 784)\n",
        "    rbm1 = RBM(n_visible, n_hidden1)\n",
        "    print(\"Pretraining RBM 1...\")\n",
        "    train_rbm(rbm1, train_loader, lr=lr, k=k, epochs=rbm_epochs, momentum=momentum, weight_decay=weight_decay)\n",
        "\n",
        "    # Transform data through RBM1 for second-layer training\n",
        "    def transform(loader, rbm):\n",
        "        transformed = []\n",
        "        for batch, _ in loader:\n",
        "            v = batch.view(-1, rbm.n_visible)\n",
        "            with torch.no_grad():\n",
        "                p_h, _ = rbm.sample_h(v)\n",
        "            transformed.append(p_h)\n",
        "        return torch.cat(transformed, dim=0)\n",
        "\n",
        "    train_features_rbm1 = transform(train_loader, rbm1)\n",
        "    dataset_features = TensorDataset(train_features_rbm1, torch.zeros(train_features_rbm1.size(0)))\n",
        "    loader_features = DataLoader(dataset_features, batch_size=64, shuffle=True)\n",
        "\n",
        "    # Pretrain second RBM on features from RBM1\n",
        "    rbm2 = RBM(n_hidden1, n_hidden2)\n",
        "    print(\"\\nPretraining RBM 2...\")\n",
        "    train_rbm(rbm2, loader_features, lr=lr, k=k, epochs=rbm_epochs, momentum=momentum, weight_decay=weight_decay)\n",
        "\n",
        "    return rbm1, rbm2"
      ],
      "metadata": {
        "id": "MvSmxygbYl1u"
      },
      "execution_count": 19,
      "outputs": []
    },
    {
      "cell_type": "code",
      "source": [
        "def train_model(model, train_loader, optimizer, criterion, epochs=5):\n",
        "    \"\"\"\n",
        "    Generic training loop for supervised models.\n",
        "    \"\"\"\n",
        "    model.train()\n",
        "    for epoch in range(epochs):\n",
        "        total_loss = 0.0\n",
        "        for batch, labels in train_loader:\n",
        "            optimizer.zero_grad()\n",
        "            outputs = model(batch)\n",
        "            loss = criterion(outputs, labels)\n",
        "            loss.backward()\n",
        "            optimizer.step()\n",
        "            total_loss += loss.item()\n",
        "        print(f\"Epoch {epoch+1}/{epochs} Loss: {total_loss/len(train_loader):.4f}\")"
      ],
      "metadata": {
        "id": "Q1ou6-ZKY6kz"
      },
      "execution_count": 20,
      "outputs": []
    },
    {
      "cell_type": "code",
      "source": [
        "def predict_model(model, data_loader):\n",
        "    \"\"\"\n",
        "    Return a numpy array of predictions for the given model and data loader.\n",
        "    \"\"\"\n",
        "    model.eval()\n",
        "    preds = []\n",
        "    with torch.no_grad():\n",
        "        for batch, _ in data_loader:\n",
        "            outputs = model(batch)\n",
        "            predicted = torch.argmax(outputs, dim=1)\n",
        "            preds.extend(predicted.cpu().numpy())\n",
        "    return np.array(preds)"
      ],
      "metadata": {
        "id": "dVeBIBifY6iK"
      },
      "execution_count": 21,
      "outputs": []
    },
    {
      "cell_type": "code",
      "source": [
        "# For DBN and ELM, use the flattened data as is (dimension 784)\n",
        "X_train_flat_tensor = torch.tensor(X_train_flat, dtype=torch.float32)\n",
        "y_train_flat_tensor = torch.tensor(y_train_flat, dtype=torch.long)\n",
        "X_test_flat_tensor = torch.tensor(X_test_flat, dtype=torch.float32)\n",
        "y_test_flat_tensor = torch.tensor(y_test_flat, dtype=torch.long)"
      ],
      "metadata": {
        "id": "ej3JhmMCY6fk"
      },
      "execution_count": 22,
      "outputs": []
    },
    {
      "cell_type": "code",
      "source": [
        "# For MLP, use the PCA-transformed data (dimension 100)\n",
        "X_train_pca_tensor = torch.tensor(X_train_pca, dtype=torch.float32)\n",
        "X_test_pca_tensor = torch.tensor(X_test_pca, dtype=torch.float32)\n",
        "# Labels for MLP remain the same as flattened data\n",
        "y_train_mlp_tensor = y_train_flat_tensor\n",
        "y_test_mlp_tensor = y_test_flat_tensor"
      ],
      "metadata": {
        "id": "6ID2kPNSZDlE"
      },
      "execution_count": 23,
      "outputs": []
    },
    {
      "cell_type": "code",
      "source": [
        "# For CNN, use the original image data\n",
        "X_train_img_tensor = torch.tensor(X_train_img, dtype=torch.float32)\n",
        "y_train_img_tensor = torch.tensor(y_train_img, dtype=torch.long)\n",
        "X_test_img_tensor = torch.tensor(X_test_img, dtype=torch.float32)\n",
        "y_test_img_tensor = torch.tensor(y_test_img, dtype=torch.long)"
      ],
      "metadata": {
        "id": "_HVyRCuKZDif"
      },
      "execution_count": 24,
      "outputs": []
    },
    {
      "cell_type": "code",
      "source": [
        "# Create DataLoaders for DBN and ELM using flattened data\n",
        "train_dataset_flat = TensorDataset(X_train_flat_tensor, y_train_flat_tensor)\n",
        "test_dataset_flat = TensorDataset(X_test_flat_tensor, y_test_flat_tensor)\n",
        "train_loader_flat = DataLoader(train_dataset_flat, batch_size=64, shuffle=True)\n",
        "test_loader_flat = DataLoader(test_dataset_flat, batch_size=64, shuffle=False)"
      ],
      "metadata": {
        "id": "hpbl41BSZDf4"
      },
      "execution_count": 25,
      "outputs": []
    },
    {
      "cell_type": "code",
      "source": [
        "# Create DataLoaders for MLP using PCA-transformed data\n",
        "train_dataset_pca = TensorDataset(X_train_pca_tensor, y_train_mlp_tensor)\n",
        "test_dataset_pca = TensorDataset(X_test_pca_tensor, y_test_mlp_tensor)\n",
        "train_loader_pca = DataLoader(train_dataset_pca, batch_size=64, shuffle=True)\n",
        "test_loader_pca = DataLoader(test_dataset_pca, batch_size=64, shuffle=False)"
      ],
      "metadata": {
        "id": "QEGCk_d7ZJoT"
      },
      "execution_count": 26,
      "outputs": []
    },
    {
      "cell_type": "code",
      "source": [
        "# Create DataLoaders for CNN using image data\n",
        "train_dataset_img = TensorDataset(X_train_img_tensor, y_train_img_tensor)\n",
        "test_dataset_img = TensorDataset(X_test_img_tensor, y_test_img_tensor)\n",
        "train_loader_img = DataLoader(train_dataset_img, batch_size=64, shuffle=True)\n",
        "test_loader_img = DataLoader(test_dataset_img, batch_size=64, shuffle=False)"
      ],
      "metadata": {
        "id": "ZL4RDcVSZJl-"
      },
      "execution_count": 27,
      "outputs": []
    },
    {
      "cell_type": "code",
      "source": [
        "# Pretrain DBN using explicit RBMs and fine-tune classifier\n",
        "# DBN uses flattened data (dimension 784)\n",
        "rbm_epochs = 5\n",
        "rbm1, rbm2 = pretrain_dbn(\n",
        "    train_loader_flat,\n",
        "    n_visible=784,\n",
        "    n_hidden1=256,\n",
        "    n_hidden2=128,\n",
        "    rbm_epochs=rbm_epochs,\n",
        "    lr=0.01,\n",
        "    k=1,\n",
        "    momentum=0.5,\n",
        "    weight_decay=0.0002\n",
        ")"
      ],
      "metadata": {
        "id": "VPMUoJvxZJjH",
        "colab": {
          "base_uri": "https://localhost:8080/"
        },
        "outputId": "a3db5463-1017-4182-8687-4eadcf597180"
      },
      "execution_count": 28,
      "outputs": [
        {
          "output_type": "stream",
          "name": "stdout",
          "text": [
            "Pretraining RBM 1...\n",
            "RBM Epoch 1/5 Loss: 0.1192\n",
            "RBM Epoch 2/5 Loss: 0.0888\n",
            "RBM Epoch 3/5 Loss: 0.0812\n",
            "RBM Epoch 4/5 Loss: 0.0768\n",
            "RBM Epoch 5/5 Loss: 0.0737\n",
            "\n",
            "Pretraining RBM 2...\n",
            "RBM Epoch 1/5 Loss: 0.3174\n",
            "RBM Epoch 2/5 Loss: 0.2582\n",
            "RBM Epoch 3/5 Loss: 0.2389\n",
            "RBM Epoch 4/5 Loss: 0.2280\n",
            "RBM Epoch 5/5 Loss: 0.2208\n"
          ]
        }
      ]
    },
    {
      "cell_type": "code",
      "source": [
        "# Build DBN classifier and initialize with pretrained RBM weights\n",
        "dbn = DBNClassifier(n_visible=784, n_hidden1=256, n_hidden2=128, n_classes=10)\n",
        "with torch.no_grad():\n",
        "    dbn.fc1.weight.copy_(rbm1.W)\n",
        "    dbn.fc1.bias.copy_(rbm1.h_bias)\n",
        "    dbn.fc2.weight.copy_(rbm2.W)\n",
        "    dbn.fc2.bias.copy_(rbm2.h_bias)\n",
        "\n",
        "criterion_cls = nn.CrossEntropyLoss()\n",
        "optimizer_dbn = optim.Adam(dbn.parameters(), lr=0.001)\n",
        "print(\"Fine-tuning DBN...\")\n",
        "train_model(dbn, train_loader_flat, optimizer_dbn, criterion_cls, epochs=15)"
      ],
      "metadata": {
        "id": "UXQL75lgZZgc",
        "colab": {
          "base_uri": "https://localhost:8080/"
        },
        "outputId": "8a8f472e-9a6a-4799-db05-e2f9777e412c"
      },
      "execution_count": 29,
      "outputs": [
        {
          "output_type": "stream",
          "name": "stdout",
          "text": [
            "Fine-tuning DBN...\n",
            "Epoch 1/15 Loss: 0.3882\n",
            "Epoch 2/15 Loss: 0.1177\n",
            "Epoch 3/15 Loss: 0.0772\n",
            "Epoch 4/15 Loss: 0.0527\n",
            "Epoch 5/15 Loss: 0.0369\n",
            "Epoch 6/15 Loss: 0.0258\n",
            "Epoch 7/15 Loss: 0.0182\n",
            "Epoch 8/15 Loss: 0.0142\n",
            "Epoch 9/15 Loss: 0.0117\n",
            "Epoch 10/15 Loss: 0.0104\n",
            "Epoch 11/15 Loss: 0.0079\n",
            "Epoch 12/15 Loss: 0.0072\n",
            "Epoch 13/15 Loss: 0.0090\n",
            "Epoch 14/15 Loss: 0.0077\n",
            "Epoch 15/15 Loss: 0.0033\n"
          ]
        }
      ]
    },
    {
      "cell_type": "code",
      "source": [
        "# Train ELM on flattened data\n",
        "elm = ELM(n_input=784, n_hidden=256, n_output=10)\n",
        "criterion_elm = nn.CrossEntropyLoss()\n",
        "optimizer_elm = optim.Adam(elm.output_layer.parameters(), lr=0.001)\n",
        "print(\"Training ELM...\")\n",
        "train_model(elm, train_loader_flat, optimizer_elm, criterion_elm, epochs=15)"
      ],
      "metadata": {
        "id": "9Z6EgkWpZZeF",
        "colab": {
          "base_uri": "https://localhost:8080/"
        },
        "outputId": "5452872e-3b0d-44ba-f382-d647e844d75e"
      },
      "execution_count": 30,
      "outputs": [
        {
          "output_type": "stream",
          "name": "stdout",
          "text": [
            "Training ELM...\n",
            "Epoch 1/15 Loss: 0.8346\n",
            "Epoch 2/15 Loss: 0.4459\n",
            "Epoch 3/15 Loss: 0.3857\n",
            "Epoch 4/15 Loss: 0.3573\n",
            "Epoch 5/15 Loss: 0.3395\n",
            "Epoch 6/15 Loss: 0.3278\n",
            "Epoch 7/15 Loss: 0.3182\n",
            "Epoch 8/15 Loss: 0.3124\n",
            "Epoch 9/15 Loss: 0.3065\n",
            "Epoch 10/15 Loss: 0.3018\n",
            "Epoch 11/15 Loss: 0.2986\n",
            "Epoch 12/15 Loss: 0.2959\n",
            "Epoch 13/15 Loss: 0.2928\n",
            "Epoch 14/15 Loss: 0.2908\n",
            "Epoch 15/15 Loss: 0.2884\n"
          ]
        }
      ]
    },
    {
      "cell_type": "code",
      "source": [
        "# Train MLP on PCA-transformed data\n",
        "mlp = MLP(n_input=100, n_hidden=64, n_output=10)\n",
        "criterion_mlp = nn.CrossEntropyLoss()\n",
        "optimizer_mlp = optim.Adam(mlp.parameters(), lr=0.001)\n",
        "print(\"Training MLP...\")\n",
        "train_model(mlp, train_loader_pca, optimizer_mlp, criterion_mlp, epochs=15)"
      ],
      "metadata": {
        "id": "9QkF16QdZZa9",
        "colab": {
          "base_uri": "https://localhost:8080/"
        },
        "outputId": "7e2154b2-31dd-4aee-cced-608e68b15b74"
      },
      "execution_count": 31,
      "outputs": [
        {
          "output_type": "stream",
          "name": "stdout",
          "text": [
            "Training MLP...\n",
            "Epoch 1/15 Loss: 0.5707\n",
            "Epoch 2/15 Loss: 0.1994\n",
            "Epoch 3/15 Loss: 0.1502\n",
            "Epoch 4/15 Loss: 0.1206\n",
            "Epoch 5/15 Loss: 0.1013\n",
            "Epoch 6/15 Loss: 0.0870\n",
            "Epoch 7/15 Loss: 0.0756\n",
            "Epoch 8/15 Loss: 0.0672\n",
            "Epoch 9/15 Loss: 0.0597\n",
            "Epoch 10/15 Loss: 0.0537\n",
            "Epoch 11/15 Loss: 0.0484\n",
            "Epoch 12/15 Loss: 0.0440\n",
            "Epoch 13/15 Loss: 0.0396\n",
            "Epoch 14/15 Loss: 0.0364\n",
            "Epoch 15/15 Loss: 0.0331\n"
          ]
        }
      ]
    },
    {
      "cell_type": "code",
      "source": [
        "# Train CNN on original image data\n",
        "cnn = CNN(n_classes=10)\n",
        "criterion_cnn = nn.CrossEntropyLoss()\n",
        "optimizer_cnn = optim.Adam(cnn.parameters(), lr=0.001)\n",
        "print(\"Training CNN...\")\n",
        "train_model(cnn, train_loader_img, optimizer_cnn, criterion_cnn, epochs=15)"
      ],
      "metadata": {
        "id": "812FR78LZmN-",
        "colab": {
          "base_uri": "https://localhost:8080/"
        },
        "outputId": "6e410c24-d3fc-4cae-9b0e-a40840e7a4cc"
      },
      "execution_count": 32,
      "outputs": [
        {
          "output_type": "stream",
          "name": "stdout",
          "text": [
            "Training CNN...\n",
            "Epoch 1/15 Loss: 0.1968\n",
            "Epoch 2/15 Loss: 0.0549\n",
            "Epoch 3/15 Loss: 0.0370\n",
            "Epoch 4/15 Loss: 0.0275\n",
            "Epoch 5/15 Loss: 0.0213\n",
            "Epoch 6/15 Loss: 0.0167\n",
            "Epoch 7/15 Loss: 0.0119\n",
            "Epoch 8/15 Loss: 0.0113\n",
            "Epoch 9/15 Loss: 0.0092\n",
            "Epoch 10/15 Loss: 0.0074\n",
            "Epoch 11/15 Loss: 0.0056\n",
            "Epoch 12/15 Loss: 0.0068\n",
            "Epoch 13/15 Loss: 0.0051\n",
            "Epoch 14/15 Loss: 0.0047\n",
            "Epoch 15/15 Loss: 0.0050\n"
          ]
        }
      ]
    },
    {
      "cell_type": "markdown",
      "source": [
        "# Model Predictions"
      ],
      "metadata": {
        "id": "Pdy-rRxIZmLX"
      }
    },
    {
      "cell_type": "code",
      "source": [
        "# DBN predictions using flattened test data\n",
        "dbn_preds = predict_model(dbn, test_loader_flat)\n",
        "\n",
        "# ELM predictions using flattened test data\n",
        "elm_preds = predict_model(elm, test_loader_flat)\n",
        "\n",
        "# MLP predictions using PCA-transformed test data\n",
        "mlp_preds = predict_model(mlp, test_loader_pca)\n",
        "\n",
        "# CNN predictions using image test data\n",
        "cnn.eval()\n",
        "cnn_preds = []\n",
        "with torch.no_grad():\n",
        "    for batch, _ in test_loader_img:\n",
        "        outputs = cnn(batch)\n",
        "        predicted = torch.argmax(outputs, dim=1)\n",
        "        cnn_preds.extend(predicted.cpu().numpy())\n",
        "cnn_preds = np.array(cnn_preds)"
      ],
      "metadata": {
        "id": "D5DZPUrWZmIw"
      },
      "execution_count": 33,
      "outputs": []
    },
    {
      "cell_type": "markdown",
      "source": [
        "# Model Evaluation"
      ],
      "metadata": {
        "id": "5OmNqlKpZvgP"
      }
    },
    {
      "cell_type": "code",
      "source": [
        "models_preds = {\n",
        "    'DBN': dbn_preds,\n",
        "    'ELM': elm_preds,\n",
        "    'MLP': mlp_preds,\n",
        "    'CNN': cnn_preds\n",
        "}\n",
        "\n",
        "# Use true labels from the flattened test set\n",
        "true_labels = y_test_flat"
      ],
      "metadata": {
        "id": "KXC49FGNZvSt"
      },
      "execution_count": 34,
      "outputs": []
    },
    {
      "cell_type": "code",
      "source": [
        "metrics = {}\n",
        "for model_name, preds in models_preds.items():\n",
        "    acc = accuracy_score(true_labels, preds)\n",
        "    prec = precision_score(true_labels, preds, average='macro', zero_division=0)\n",
        "    rec = recall_score(true_labels, preds, average='macro', zero_division=0)\n",
        "    f1 = f1_score(true_labels, preds, average='macro', zero_division=0)\n",
        "    metrics[model_name] = {'Accuracy': acc, 'Precision': prec, 'Recall': rec, 'F1': f1}\n",
        "\n",
        "print(\"Evaluation Metrics\")\n",
        "for model, met in metrics.items():\n",
        "    print(model, met)"
      ],
      "metadata": {
        "id": "1QwLwImYZ5tX",
        "colab": {
          "base_uri": "https://localhost:8080/"
        },
        "outputId": "73f91a63-08e9-4c8f-c12b-54e9ee2513b1"
      },
      "execution_count": 35,
      "outputs": [
        {
          "output_type": "stream",
          "name": "stdout",
          "text": [
            "Evaluation Metrics\n",
            "DBN {'Accuracy': 0.98125, 'Precision': 0.9810448039725242, 'Recall': 0.9811557715665241, 'F1': 0.9810798430429426}\n",
            "ELM {'Accuracy': 0.9076666666666666, 'Precision': 0.9067219416867498, 'Recall': 0.9064734136863632, 'F1': 0.9063726326527661}\n",
            "MLP {'Accuracy': 0.9745833333333334, 'Precision': 0.9744099342288036, 'Recall': 0.9743589496869131, 'F1': 0.9743558700863144}\n",
            "CNN {'Accuracy': 0.9908333333333333, 'Precision': 0.9908702610085257, 'Recall': 0.9907356054300264, 'F1': 0.9907941062344827}\n"
          ]
        }
      ]
    },
    {
      "cell_type": "code",
      "source": [
        "# Create metrics DataFrame\n",
        "metrics_df = pd.DataFrame(metrics).T\n",
        "metrics_df = metrics_df.round(3)\n",
        "display(metrics_df)"
      ],
      "metadata": {
        "colab": {
          "base_uri": "https://localhost:8080/",
          "height": 175
        },
        "id": "1tEaQwBsyssm",
        "outputId": "df608e9a-d770-4f02-f44a-50671e324dc3"
      },
      "execution_count": 36,
      "outputs": [
        {
          "output_type": "display_data",
          "data": {
            "text/plain": [
              "     Accuracy  Precision  Recall     F1\n",
              "DBN     0.981      0.981   0.981  0.981\n",
              "ELM     0.908      0.907   0.906  0.906\n",
              "MLP     0.975      0.974   0.974  0.974\n",
              "CNN     0.991      0.991   0.991  0.991"
            ],
            "text/html": [
              "\n",
              "  <div id=\"df-7750da38-7cea-4a2b-8527-63ef9cc43acc\" class=\"colab-df-container\">\n",
              "    <div>\n",
              "<style scoped>\n",
              "    .dataframe tbody tr th:only-of-type {\n",
              "        vertical-align: middle;\n",
              "    }\n",
              "\n",
              "    .dataframe tbody tr th {\n",
              "        vertical-align: top;\n",
              "    }\n",
              "\n",
              "    .dataframe thead th {\n",
              "        text-align: right;\n",
              "    }\n",
              "</style>\n",
              "<table border=\"1\" class=\"dataframe\">\n",
              "  <thead>\n",
              "    <tr style=\"text-align: right;\">\n",
              "      <th></th>\n",
              "      <th>Accuracy</th>\n",
              "      <th>Precision</th>\n",
              "      <th>Recall</th>\n",
              "      <th>F1</th>\n",
              "    </tr>\n",
              "  </thead>\n",
              "  <tbody>\n",
              "    <tr>\n",
              "      <th>DBN</th>\n",
              "      <td>0.981</td>\n",
              "      <td>0.981</td>\n",
              "      <td>0.981</td>\n",
              "      <td>0.981</td>\n",
              "    </tr>\n",
              "    <tr>\n",
              "      <th>ELM</th>\n",
              "      <td>0.908</td>\n",
              "      <td>0.907</td>\n",
              "      <td>0.906</td>\n",
              "      <td>0.906</td>\n",
              "    </tr>\n",
              "    <tr>\n",
              "      <th>MLP</th>\n",
              "      <td>0.975</td>\n",
              "      <td>0.974</td>\n",
              "      <td>0.974</td>\n",
              "      <td>0.974</td>\n",
              "    </tr>\n",
              "    <tr>\n",
              "      <th>CNN</th>\n",
              "      <td>0.991</td>\n",
              "      <td>0.991</td>\n",
              "      <td>0.991</td>\n",
              "      <td>0.991</td>\n",
              "    </tr>\n",
              "  </tbody>\n",
              "</table>\n",
              "</div>\n",
              "    <div class=\"colab-df-buttons\">\n",
              "\n",
              "  <div class=\"colab-df-container\">\n",
              "    <button class=\"colab-df-convert\" onclick=\"convertToInteractive('df-7750da38-7cea-4a2b-8527-63ef9cc43acc')\"\n",
              "            title=\"Convert this dataframe to an interactive table.\"\n",
              "            style=\"display:none;\">\n",
              "\n",
              "  <svg xmlns=\"http://www.w3.org/2000/svg\" height=\"24px\" viewBox=\"0 -960 960 960\">\n",
              "    <path d=\"M120-120v-720h720v720H120Zm60-500h600v-160H180v160Zm220 220h160v-160H400v160Zm0 220h160v-160H400v160ZM180-400h160v-160H180v160Zm440 0h160v-160H620v160ZM180-180h160v-160H180v160Zm440 0h160v-160H620v160Z\"/>\n",
              "  </svg>\n",
              "    </button>\n",
              "\n",
              "  <style>\n",
              "    .colab-df-container {\n",
              "      display:flex;\n",
              "      gap: 12px;\n",
              "    }\n",
              "\n",
              "    .colab-df-convert {\n",
              "      background-color: #E8F0FE;\n",
              "      border: none;\n",
              "      border-radius: 50%;\n",
              "      cursor: pointer;\n",
              "      display: none;\n",
              "      fill: #1967D2;\n",
              "      height: 32px;\n",
              "      padding: 0 0 0 0;\n",
              "      width: 32px;\n",
              "    }\n",
              "\n",
              "    .colab-df-convert:hover {\n",
              "      background-color: #E2EBFA;\n",
              "      box-shadow: 0px 1px 2px rgba(60, 64, 67, 0.3), 0px 1px 3px 1px rgba(60, 64, 67, 0.15);\n",
              "      fill: #174EA6;\n",
              "    }\n",
              "\n",
              "    .colab-df-buttons div {\n",
              "      margin-bottom: 4px;\n",
              "    }\n",
              "\n",
              "    [theme=dark] .colab-df-convert {\n",
              "      background-color: #3B4455;\n",
              "      fill: #D2E3FC;\n",
              "    }\n",
              "\n",
              "    [theme=dark] .colab-df-convert:hover {\n",
              "      background-color: #434B5C;\n",
              "      box-shadow: 0px 1px 3px 1px rgba(0, 0, 0, 0.15);\n",
              "      filter: drop-shadow(0px 1px 2px rgba(0, 0, 0, 0.3));\n",
              "      fill: #FFFFFF;\n",
              "    }\n",
              "  </style>\n",
              "\n",
              "    <script>\n",
              "      const buttonEl =\n",
              "        document.querySelector('#df-7750da38-7cea-4a2b-8527-63ef9cc43acc button.colab-df-convert');\n",
              "      buttonEl.style.display =\n",
              "        google.colab.kernel.accessAllowed ? 'block' : 'none';\n",
              "\n",
              "      async function convertToInteractive(key) {\n",
              "        const element = document.querySelector('#df-7750da38-7cea-4a2b-8527-63ef9cc43acc');\n",
              "        const dataTable =\n",
              "          await google.colab.kernel.invokeFunction('convertToInteractive',\n",
              "                                                    [key], {});\n",
              "        if (!dataTable) return;\n",
              "\n",
              "        const docLinkHtml = 'Like what you see? Visit the ' +\n",
              "          '<a target=\"_blank\" href=https://colab.research.google.com/notebooks/data_table.ipynb>data table notebook</a>'\n",
              "          + ' to learn more about interactive tables.';\n",
              "        element.innerHTML = '';\n",
              "        dataTable['output_type'] = 'display_data';\n",
              "        await google.colab.output.renderOutput(dataTable, element);\n",
              "        const docLink = document.createElement('div');\n",
              "        docLink.innerHTML = docLinkHtml;\n",
              "        element.appendChild(docLink);\n",
              "      }\n",
              "    </script>\n",
              "  </div>\n",
              "\n",
              "\n",
              "<div id=\"df-8207d1a8-c503-4533-8819-7aff460ddbe9\">\n",
              "  <button class=\"colab-df-quickchart\" onclick=\"quickchart('df-8207d1a8-c503-4533-8819-7aff460ddbe9')\"\n",
              "            title=\"Suggest charts\"\n",
              "            style=\"display:none;\">\n",
              "\n",
              "<svg xmlns=\"http://www.w3.org/2000/svg\" height=\"24px\"viewBox=\"0 0 24 24\"\n",
              "     width=\"24px\">\n",
              "    <g>\n",
              "        <path d=\"M19 3H5c-1.1 0-2 .9-2 2v14c0 1.1.9 2 2 2h14c1.1 0 2-.9 2-2V5c0-1.1-.9-2-2-2zM9 17H7v-7h2v7zm4 0h-2V7h2v10zm4 0h-2v-4h2v4z\"/>\n",
              "    </g>\n",
              "</svg>\n",
              "  </button>\n",
              "\n",
              "<style>\n",
              "  .colab-df-quickchart {\n",
              "      --bg-color: #E8F0FE;\n",
              "      --fill-color: #1967D2;\n",
              "      --hover-bg-color: #E2EBFA;\n",
              "      --hover-fill-color: #174EA6;\n",
              "      --disabled-fill-color: #AAA;\n",
              "      --disabled-bg-color: #DDD;\n",
              "  }\n",
              "\n",
              "  [theme=dark] .colab-df-quickchart {\n",
              "      --bg-color: #3B4455;\n",
              "      --fill-color: #D2E3FC;\n",
              "      --hover-bg-color: #434B5C;\n",
              "      --hover-fill-color: #FFFFFF;\n",
              "      --disabled-bg-color: #3B4455;\n",
              "      --disabled-fill-color: #666;\n",
              "  }\n",
              "\n",
              "  .colab-df-quickchart {\n",
              "    background-color: var(--bg-color);\n",
              "    border: none;\n",
              "    border-radius: 50%;\n",
              "    cursor: pointer;\n",
              "    display: none;\n",
              "    fill: var(--fill-color);\n",
              "    height: 32px;\n",
              "    padding: 0;\n",
              "    width: 32px;\n",
              "  }\n",
              "\n",
              "  .colab-df-quickchart:hover {\n",
              "    background-color: var(--hover-bg-color);\n",
              "    box-shadow: 0 1px 2px rgba(60, 64, 67, 0.3), 0 1px 3px 1px rgba(60, 64, 67, 0.15);\n",
              "    fill: var(--button-hover-fill-color);\n",
              "  }\n",
              "\n",
              "  .colab-df-quickchart-complete:disabled,\n",
              "  .colab-df-quickchart-complete:disabled:hover {\n",
              "    background-color: var(--disabled-bg-color);\n",
              "    fill: var(--disabled-fill-color);\n",
              "    box-shadow: none;\n",
              "  }\n",
              "\n",
              "  .colab-df-spinner {\n",
              "    border: 2px solid var(--fill-color);\n",
              "    border-color: transparent;\n",
              "    border-bottom-color: var(--fill-color);\n",
              "    animation:\n",
              "      spin 1s steps(1) infinite;\n",
              "  }\n",
              "\n",
              "  @keyframes spin {\n",
              "    0% {\n",
              "      border-color: transparent;\n",
              "      border-bottom-color: var(--fill-color);\n",
              "      border-left-color: var(--fill-color);\n",
              "    }\n",
              "    20% {\n",
              "      border-color: transparent;\n",
              "      border-left-color: var(--fill-color);\n",
              "      border-top-color: var(--fill-color);\n",
              "    }\n",
              "    30% {\n",
              "      border-color: transparent;\n",
              "      border-left-color: var(--fill-color);\n",
              "      border-top-color: var(--fill-color);\n",
              "      border-right-color: var(--fill-color);\n",
              "    }\n",
              "    40% {\n",
              "      border-color: transparent;\n",
              "      border-right-color: var(--fill-color);\n",
              "      border-top-color: var(--fill-color);\n",
              "    }\n",
              "    60% {\n",
              "      border-color: transparent;\n",
              "      border-right-color: var(--fill-color);\n",
              "    }\n",
              "    80% {\n",
              "      border-color: transparent;\n",
              "      border-right-color: var(--fill-color);\n",
              "      border-bottom-color: var(--fill-color);\n",
              "    }\n",
              "    90% {\n",
              "      border-color: transparent;\n",
              "      border-bottom-color: var(--fill-color);\n",
              "    }\n",
              "  }\n",
              "</style>\n",
              "\n",
              "  <script>\n",
              "    async function quickchart(key) {\n",
              "      const quickchartButtonEl =\n",
              "        document.querySelector('#' + key + ' button');\n",
              "      quickchartButtonEl.disabled = true;  // To prevent multiple clicks.\n",
              "      quickchartButtonEl.classList.add('colab-df-spinner');\n",
              "      try {\n",
              "        const charts = await google.colab.kernel.invokeFunction(\n",
              "            'suggestCharts', [key], {});\n",
              "      } catch (error) {\n",
              "        console.error('Error during call to suggestCharts:', error);\n",
              "      }\n",
              "      quickchartButtonEl.classList.remove('colab-df-spinner');\n",
              "      quickchartButtonEl.classList.add('colab-df-quickchart-complete');\n",
              "    }\n",
              "    (() => {\n",
              "      let quickchartButtonEl =\n",
              "        document.querySelector('#df-8207d1a8-c503-4533-8819-7aff460ddbe9 button');\n",
              "      quickchartButtonEl.style.display =\n",
              "        google.colab.kernel.accessAllowed ? 'block' : 'none';\n",
              "    })();\n",
              "  </script>\n",
              "</div>\n",
              "\n",
              "  <div id=\"id_87caf981-e419-406b-963f-86efd05c6001\">\n",
              "    <style>\n",
              "      .colab-df-generate {\n",
              "        background-color: #E8F0FE;\n",
              "        border: none;\n",
              "        border-radius: 50%;\n",
              "        cursor: pointer;\n",
              "        display: none;\n",
              "        fill: #1967D2;\n",
              "        height: 32px;\n",
              "        padding: 0 0 0 0;\n",
              "        width: 32px;\n",
              "      }\n",
              "\n",
              "      .colab-df-generate:hover {\n",
              "        background-color: #E2EBFA;\n",
              "        box-shadow: 0px 1px 2px rgba(60, 64, 67, 0.3), 0px 1px 3px 1px rgba(60, 64, 67, 0.15);\n",
              "        fill: #174EA6;\n",
              "      }\n",
              "\n",
              "      [theme=dark] .colab-df-generate {\n",
              "        background-color: #3B4455;\n",
              "        fill: #D2E3FC;\n",
              "      }\n",
              "\n",
              "      [theme=dark] .colab-df-generate:hover {\n",
              "        background-color: #434B5C;\n",
              "        box-shadow: 0px 1px 3px 1px rgba(0, 0, 0, 0.15);\n",
              "        filter: drop-shadow(0px 1px 2px rgba(0, 0, 0, 0.3));\n",
              "        fill: #FFFFFF;\n",
              "      }\n",
              "    </style>\n",
              "    <button class=\"colab-df-generate\" onclick=\"generateWithVariable('metrics_df')\"\n",
              "            title=\"Generate code using this dataframe.\"\n",
              "            style=\"display:none;\">\n",
              "\n",
              "  <svg xmlns=\"http://www.w3.org/2000/svg\" height=\"24px\"viewBox=\"0 0 24 24\"\n",
              "       width=\"24px\">\n",
              "    <path d=\"M7,19H8.4L18.45,9,17,7.55,7,17.6ZM5,21V16.75L18.45,3.32a2,2,0,0,1,2.83,0l1.4,1.43a1.91,1.91,0,0,1,.58,1.4,1.91,1.91,0,0,1-.58,1.4L9.25,21ZM18.45,9,17,7.55Zm-12,3A5.31,5.31,0,0,0,4.9,8.1,5.31,5.31,0,0,0,1,6.5,5.31,5.31,0,0,0,4.9,4.9,5.31,5.31,0,0,0,6.5,1,5.31,5.31,0,0,0,8.1,4.9,5.31,5.31,0,0,0,12,6.5,5.46,5.46,0,0,0,6.5,12Z\"/>\n",
              "  </svg>\n",
              "    </button>\n",
              "    <script>\n",
              "      (() => {\n",
              "      const buttonEl =\n",
              "        document.querySelector('#id_87caf981-e419-406b-963f-86efd05c6001 button.colab-df-generate');\n",
              "      buttonEl.style.display =\n",
              "        google.colab.kernel.accessAllowed ? 'block' : 'none';\n",
              "\n",
              "      buttonEl.onclick = () => {\n",
              "        google.colab.notebook.generateWithVariable('metrics_df');\n",
              "      }\n",
              "      })();\n",
              "    </script>\n",
              "  </div>\n",
              "\n",
              "    </div>\n",
              "  </div>\n"
            ],
            "application/vnd.google.colaboratory.intrinsic+json": {
              "type": "dataframe",
              "variable_name": "metrics_df",
              "summary": "{\n  \"name\": \"metrics_df\",\n  \"rows\": 4,\n  \"fields\": [\n    {\n      \"column\": \"Accuracy\",\n      \"properties\": {\n        \"dtype\": \"number\",\n        \"std\": 0.03774806838325195,\n        \"min\": 0.908,\n        \"max\": 0.991,\n        \"num_unique_values\": 4,\n        \"samples\": [\n          0.908,\n          0.991,\n          0.981\n        ],\n        \"semantic_type\": \"\",\n        \"description\": \"\"\n      }\n    },\n    {\n      \"column\": \"Precision\",\n      \"properties\": {\n        \"dtype\": \"number\",\n        \"std\": 0.03814336989132797,\n        \"min\": 0.907,\n        \"max\": 0.991,\n        \"num_unique_values\": 4,\n        \"samples\": [\n          0.907,\n          0.991,\n          0.981\n        ],\n        \"semantic_type\": \"\",\n        \"description\": \"\"\n      }\n    },\n    {\n      \"column\": \"Recall\",\n      \"properties\": {\n        \"dtype\": \"number\",\n        \"std\": 0.03863504454076202,\n        \"min\": 0.906,\n        \"max\": 0.991,\n        \"num_unique_values\": 4,\n        \"samples\": [\n          0.906,\n          0.991,\n          0.981\n        ],\n        \"semantic_type\": \"\",\n        \"description\": \"\"\n      }\n    },\n    {\n      \"column\": \"F1\",\n      \"properties\": {\n        \"dtype\": \"number\",\n        \"std\": 0.03863504454076202,\n        \"min\": 0.906,\n        \"max\": 0.991,\n        \"num_unique_values\": 4,\n        \"samples\": [\n          0.906,\n          0.991,\n          0.981\n        ],\n        \"semantic_type\": \"\",\n        \"description\": \"\"\n      }\n    }\n  ]\n}"
            }
          },
          "metadata": {}
        }
      ]
    },
    {
      "cell_type": "code",
      "source": [
        "def plot_metrics(metrics):\n",
        "    \"\"\"\n",
        "    Plot the evaluation metrics for each model in a grouped bar plot.\n",
        "    \"\"\"\n",
        "    model_names = list(metrics.keys())\n",
        "    metric_names = ['Accuracy', 'Precision', 'Recall', 'F1']\n",
        "    n_models = len(model_names)\n",
        "    n_metrics = len(metric_names)\n",
        "\n",
        "    # Build data matrix: rows are models, columns are metrics\n",
        "    data = np.zeros((n_models, n_metrics))\n",
        "    for i, model in enumerate(model_names):\n",
        "        for j, metric in enumerate(metric_names):\n",
        "            data[i, j] = metrics[model][metric]\n",
        "\n",
        "    x = np.arange(n_models)\n",
        "    width = 0.2\n",
        "    fig, ax = plt.subplots(figsize=(10, 6))\n",
        "    for i in range(n_metrics):\n",
        "        rects = ax.bar(\n",
        "            x + i * width - (n_metrics / 2) * width + width / 2,\n",
        "            data[:, i],\n",
        "            width,\n",
        "            label=metric_names[i]\n",
        "        )\n",
        "        for rect in rects:\n",
        "            height = rect.get_height()\n",
        "            if height > 0:\n",
        "                ax.annotate(\n",
        "                    f'{height:.2f}',\n",
        "                    xy=(rect.get_x() + rect.get_width() / 2, height),\n",
        "                    xytext=(0, 3),\n",
        "                    textcoords=\"offset points\",\n",
        "                    ha='center',\n",
        "                    va='bottom'\n",
        "                )\n",
        "    ax.set_ylabel('Metric Value')\n",
        "    ax.set_title('Evaluation Metrics by Model')\n",
        "    ax.set_xticks(x)\n",
        "    ax.set_xticklabels(model_names)\n",
        "    ax.legend(loc='upper left', bbox_to_anchor=(1, 1))\n",
        "    plt.show()\n",
        "\n",
        "plot_metrics(metrics)"
      ],
      "metadata": {
        "id": "2EDjLx3KZ5iN",
        "colab": {
          "base_uri": "https://localhost:8080/",
          "height": 545
        },
        "outputId": "2c26a54b-db3c-49f8-fb8c-09119b97db35"
      },
      "execution_count": 37,
      "outputs": [
        {
          "output_type": "display_data",
          "data": {
            "text/plain": [
              "<Figure size 1000x600 with 1 Axes>"
            ],
            "image/png": "[encoded data removed]"
          },
          "metadata": {}
        }
      ]
    }
  ]
}