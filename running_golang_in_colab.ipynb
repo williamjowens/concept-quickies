{
  "nbformat": 4,
  "nbformat_minor": 0,
  "metadata": {
    "colab": {
      "provenance": []
    },
    "kernelspec": {
      "name": "python3",
      "display_name": "Python 3"
    },
    "language_info": {
      "name": "python"
    }
  },
  "cells": [
    {
      "cell_type": "code",
      "source": [
        "%%bash\n",
        "sudo apt-get update\n",
        "sudo apt-get install -y golang\n",
        "mkdir -p /content/ml_go_project\n",
        "cd /content/ml_go_project"
      ],
      "metadata": {
        "colab": {
          "base_uri": "https://localhost:8080/"
        },
        "id": "1DU2oFqLiFXe",
        "outputId": "43144df5-c79d-4b85-92af-ae808e593893"
      },
      "execution_count": 1,
      "outputs": [
        {
          "output_type": "stream",
          "name": "stdout",
          "text": [
            "Hit:1 http://archive.ubuntu.com/ubuntu jammy InRelease\n",
            "Hit:2 http://security.ubuntu.com/ubuntu jammy-security InRelease\n",
            "Hit:3 http://archive.ubuntu.com/ubuntu jammy-updates InRelease\n",
            "Hit:4 http://archive.ubuntu.com/ubuntu jammy-backports InRelease\n",
            "Hit:5 https://developer.download.nvidia.com/compute/cuda/repos/ubuntu2204/x86_64  InRelease\n",
            "Hit:6 https://cloud.r-project.org/bin/linux/ubuntu jammy-cran40/ InRelease\n",
            "Hit:7 https://r2u.stat.illinois.edu/ubuntu jammy InRelease\n",
            "Hit:8 https://ppa.launchpadcontent.net/deadsnakes/ppa/ubuntu jammy InRelease\n",
            "Hit:9 https://ppa.launchpadcontent.net/graphics-drivers/ppa/ubuntu jammy InRelease\n",
            "Hit:10 https://ppa.launchpadcontent.net/ubuntugis/ppa/ubuntu jammy InRelease\n",
            "Reading package lists...\n",
            "Reading package lists...\n",
            "Building dependency tree...\n",
            "Reading state information...\n",
            "golang is already the newest version (2:1.18~0ubuntu2).\n",
            "0 upgraded, 0 newly installed, 0 to remove and 30 not upgraded.\n"
          ]
        },
        {
          "output_type": "stream",
          "name": "stderr",
          "text": [
            "W: Skipping acquire of configured file 'main/source/Sources' as repository 'https://r2u.stat.illinois.edu/ubuntu jammy InRelease' does not seem to provide it (sources.list entry misspelt?)\n"
          ]
        }
      ]
    },
    {
      "cell_type": "code",
      "source": [
        "%%bash\n",
        "cd /content/ml_go_project\n",
        "# Initialize the module (if not already initialized)\n",
        "go mod init ml_go_project || echo \"Module already exists\"\n",
        "\n",
        "# Ensure Git does not prompt for credentials\n",
        "export GIT_TERMINAL_PROMPT=0\n",
        "export GIT_ASKPASS=/bin/true\n",
        "\n",
        "# Install the required package: golearn\n",
        "go get github.com/sjwhitworth/golearn@latest\n",
        "\n",
        "# Tidy and vendor the modules\n",
        "go mod tidy\n",
        "go mod vendor"
      ],
      "metadata": {
        "colab": {
          "base_uri": "https://localhost:8080/"
        },
        "id": "UoQyws58iL8j",
        "outputId": "e0b706ba-e358-4e7d-c5ef-2bdd6088d241"
      },
      "execution_count": 2,
      "outputs": [
        {
          "output_type": "stream",
          "name": "stdout",
          "text": [
            "Module already exists\n"
          ]
        },
        {
          "output_type": "stream",
          "name": "stderr",
          "text": [
            "go: /content/ml_go_project/go.mod already exists\n"
          ]
        }
      ]
    },
    {
      "cell_type": "code",
      "source": [
        "%%bash\n",
        "sudo apt-get update\n",
        "sudo apt-get install -y dos2unix"
      ],
      "metadata": {
        "colab": {
          "base_uri": "https://localhost:8080/"
        },
        "id": "wRZgFbnCCRIA",
        "outputId": "a2ae5d82-c0b1-4bc0-ab58-1c5f68d0b4db"
      },
      "execution_count": 3,
      "outputs": [
        {
          "output_type": "stream",
          "name": "stdout",
          "text": [
            "Hit:1 http://archive.ubuntu.com/ubuntu jammy InRelease\n",
            "Hit:2 http://archive.ubuntu.com/ubuntu jammy-updates InRelease\n",
            "Hit:3 http://archive.ubuntu.com/ubuntu jammy-backports InRelease\n",
            "Hit:4 https://cloud.r-project.org/bin/linux/ubuntu jammy-cran40/ InRelease\n",
            "Hit:5 https://developer.download.nvidia.com/compute/cuda/repos/ubuntu2204/x86_64  InRelease\n",
            "Hit:6 http://security.ubuntu.com/ubuntu jammy-security InRelease\n",
            "Hit:7 https://r2u.stat.illinois.edu/ubuntu jammy InRelease\n",
            "Hit:8 https://ppa.launchpadcontent.net/deadsnakes/ppa/ubuntu jammy InRelease\n",
            "Hit:9 https://ppa.launchpadcontent.net/graphics-drivers/ppa/ubuntu jammy InRelease\n",
            "Hit:10 https://ppa.launchpadcontent.net/ubuntugis/ppa/ubuntu jammy InRelease\n",
            "Reading package lists...\n",
            "Reading package lists...\n",
            "Building dependency tree...\n",
            "Reading state information...\n",
            "dos2unix is already the newest version (7.4.2-2).\n",
            "0 upgraded, 0 newly installed, 0 to remove and 30 not upgraded.\n"
          ]
        },
        {
          "output_type": "stream",
          "name": "stderr",
          "text": [
            "W: Skipping acquire of configured file 'main/source/Sources' as repository 'https://r2u.stat.illinois.edu/ubuntu jammy InRelease' does not seem to provide it (sources.list entry misspelt?)\n"
          ]
        }
      ]
    },
    {
      "cell_type": "code",
      "execution_count": 4,
      "metadata": {
        "id": "4j1zRfiobaRz"
      },
      "outputs": [],
      "source": [
        "%%bash\n",
        "cd /content\n",
        "if [ ! -f iris.csv ]; then\n",
        "  wget -O iris.data https://archive.ics.uci.edu/ml/machine-learning-databases/iris/iris.data\n",
        "  # Remove blank lines and force Unix line endings\n",
        "  dos2unix iris.data\n",
        "  grep -v '^\\s*$' iris.data > iris_clean.data\n",
        "  # Prepend tab-separated header and convert the data to tab-separated format\n",
        "  echo -e \"SepalLength\\tSepalWidth\\tPetalLength\\tPetalWidth\\tSpecies\" > iris.csv\n",
        "  sed 's/,/\\t/g' iris_clean.data >> iris.csv\n",
        "fi"
      ]
    },
    {
      "cell_type": "code",
      "source": [
        "!head -n 5 /content/iris.csv\n",
        "!tail -n 5 /content/iris.csv\n",
        "!wc -l /content/iris.csv"
      ],
      "metadata": {
        "colab": {
          "base_uri": "https://localhost:8080/"
        },
        "id": "u-F7xIkat0vo",
        "outputId": "3323a600-e6ac-457a-ddf5-1c2b3528fe4f"
      },
      "execution_count": 5,
      "outputs": [
        {
          "output_type": "stream",
          "name": "stdout",
          "text": [
            "SepalLength,SepalWidth,PetalLength,PetalWidth,Species\n",
            "5.1,3.5,1.4,0.2,Iris-setosa\n",
            "4.9,3.0,1.4,0.2,Iris-setosa\n",
            "4.7,3.2,1.3,0.2,Iris-setosa\n",
            "4.6,3.1,1.5,0.2,Iris-setosa\n",
            "6.7,3.0,5.2,2.3,Iris-virginica\n",
            "6.3,2.5,5.0,1.9,Iris-virginica\n",
            "6.5,3.0,5.2,2.0,Iris-virginica\n",
            "6.2,3.4,5.4,2.3,Iris-virginica\n",
            "5.9,3.0,5.1,1.8,Iris-virginica\n",
            "151 /content/iris.csv\n"
          ]
        }
      ]
    },
    {
      "cell_type": "code",
      "source": [
        "%%writefile /content/ml_go_project/ml_go.go\n",
        "package main\n",
        "\n",
        "import (\n",
        "\t\"fmt\"\n",
        "\t\"log\"\n",
        "\n",
        "\t\"github.com/sjwhitworth/golearn/base\"\n",
        "\t\"github.com/sjwhitworth/golearn/evaluation\"\n",
        "\t\"github.com/sjwhitworth/golearn/knn\"\n",
        ")\n",
        "\n",
        "func main() {\n",
        "\t// Parse the CSV file (data has headers)\n",
        "\trawData, err := base.ParseCSVToInstances(\"/content/iris.csv\", true)\n",
        "\tif err != nil {\n",
        "\t\tlog.Fatal(err)\n",
        "\t}\n",
        "\n",
        "\t// Create a new k-NN classifier with Euclidean distance and 3 neighbors\n",
        "\tclassifier := knn.NewKnnClassifier(\"euclidean\", \"linear\", 3)\n",
        "\n",
        "\t// Train the classifier using the dataset\n",
        "\tclassifier.Fit(rawData)\n",
        "\n",
        "\t// Predict on the same dataset\n",
        "\tpredictions, err := classifier.Predict(rawData)\n",
        "\tif err != nil {\n",
        "\t\tlog.Fatal(err)\n",
        "\t}\n",
        "\n",
        "\t// Use the evaluation package to generate the confusion matrix\n",
        "\tconfusionMat, err := evaluation.GetConfusionMatrix(rawData, predictions)\n",
        "\tif err != nil {\n",
        "\t\tlog.Fatal(err)\n",
        "\t}\n",
        "\n",
        "\t// Print a summary of the evaluation\n",
        "\tfmt.Println(evaluation.GetSummary(confusionMat))\n",
        "}"
      ],
      "metadata": {
        "colab": {
          "base_uri": "https://localhost:8080/"
        },
        "id": "irhJSkVTiG8T",
        "outputId": "1bace239-cc9e-4171-8917-bbad42357267"
      },
      "execution_count": 6,
      "outputs": [
        {
          "output_type": "stream",
          "name": "stdout",
          "text": [
            "Overwriting /content/ml_go_project/ml_go.go\n"
          ]
        }
      ]
    },
    {
      "cell_type": "code",
      "source": [
        "%%bash\n",
        "cd /content/ml_go_project\n",
        "go clean -modcache  # Clear Go module cache\n",
        "go mod tidy         # Remove unused dependencies from go.mod\n",
        "go mod vendor       # Re-vendor dependencies\n",
        "go run ml_go.go     # Run the code"
      ],
      "metadata": {
        "colab": {
          "base_uri": "https://localhost:8080/"
        },
        "id": "bdgQNjRIiQ5e",
        "outputId": "838b13fe-5621-44e0-ec68-5d26babc03f5"
      },
      "execution_count": 7,
      "outputs": [
        {
          "output_type": "stream",
          "name": "stdout",
          "text": [
            "Reference Class\tTrue Positives\tFalse Positives\tTrue Negatives\tPrecision\tRecall\tF1 Score\n",
            "---------------\t--------------\t---------------\t--------------\t---------\t------\t--------\n",
            "Iris-setosa\t50\t\t0\t\t100\t\t1.0000\t\t1.0000\t1.0000\n",
            "Iris-versicolor\t47\t\t3\t\t97\t\t0.9400\t\t0.9400\t0.9400\n",
            "Iris-virginica\t47\t\t3\t\t97\t\t0.9400\t\t0.9400\t0.9400\n",
            "Overall accuracy: 0.9600\n",
            "\n"
          ]
        },
        {
          "output_type": "stream",
          "name": "stderr",
          "text": [
            "go: downloading github.com/sjwhitworth/golearn v0.0.0-20221228163002-74ae077eafb2\n",
            "go: downloading github.com/gonum/matrix v0.0.0-20181209220409-c518dec07be9\n",
            "go: downloading gonum.org/v1/gonum v0.8.1\n",
            "go: downloading github.com/smartystreets/goconvey v1.6.4\n",
            "go: downloading github.com/rocketlaunchr/dataframe-go v0.0.0-20201007021539-67b046771f0b\n",
            "go: downloading github.com/gonum/blas v0.0.0-20181208220705-f22b278b28ac\n",
            "go: downloading github.com/gonum/lapack v0.0.0-20181123203213-e4cdc5a0bff9\n",
            "go: downloading golang.org/x/exp v0.0.0-20200331195152-e8c3332aa8e5\n",
            "go: downloading gonum.org/v1/netlib v0.0.0-20190313105609-8cb42192e0e0\n",
            "go: downloading github.com/google/go-cmp v0.4.0\n",
            "go: downloading github.com/guptarohit/asciigraph v0.5.1\n",
            "go: downloading github.com/olekukonko/tablewriter v0.0.4\n",
            "go: downloading golang.org/x/sync v0.0.0-20200317015054-43a5402ce75a\n",
            "go: downloading cloud.google.com/go v0.57.0\n",
            "go: downloading github.com/jtolds/gls v4.20.0+incompatible\n",
            "go: downloading github.com/smartystreets/assertions v0.0.0-20180927180507-b2de0cb4f26d\n",
            "go: downloading github.com/mattn/go-runewidth v0.0.7\n",
            "go: downloading golang.org/x/xerrors v0.0.0-20191204190536-9bdfabe68543\n",
            "go: downloading github.com/gopherjs/gopherjs v0.0.0-20181017120253-0766667cb4d1\n"
          ]
        }
      ]
    }
  ]
}