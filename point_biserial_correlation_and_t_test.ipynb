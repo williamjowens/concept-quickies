{
  "nbformat": 4,
  "nbformat_minor": 0,
  "metadata": {
    "colab": {
      "provenance": []
    },
    "kernelspec": {
      "name": "python3",
      "display_name": "Python 3"
    },
    "language_info": {
      "name": "python"
    }
  },
  "cells": [
    {
      "cell_type": "code",
      "execution_count": 1,
      "metadata": {
        "colab": {
          "base_uri": "https://localhost:8080/"
        },
        "id": "_cjcMsqEFiMt",
        "outputId": "16dce412-7f39-4acf-eee3-4fa244005870"
      },
      "outputs": [
        {
          "output_type": "stream",
          "name": "stdout",
          "text": [
            "Point-biserial correlation: r = -0.730, p = 8.466e-96\n",
            "Mean radius — malignant: 17.46, benign: 12.15\n",
            "Welch’s t-test: t = 22.209, p = 1.684e-64\n"
          ]
        }
      ],
      "source": [
        "import pandas as pd\n",
        "from sklearn.datasets import load_breast_cancer\n",
        "from scipy.stats import pointbiserialr, ttest_ind\n",
        "\n",
        "# Load the breast cancer dataset\n",
        "data = load_breast_cancer()\n",
        "\n",
        "# Create a DataFrame with the feature data\n",
        "df = pd.DataFrame(data.data, columns=data.feature_names)\n",
        "\n",
        "# Add the binary target variable (0=malignant, 1=benign)\n",
        "df['target'] = data.target\n",
        "\n",
        "# Compute point-biserial correlation between target and mean radius\n",
        "r_pb, p_corr = pointbiserialr(df['target'], df['mean radius'])\n",
        "\n",
        "# Separate mean radius values for malignant cases\n",
        "malignant = df[df['target'] == 0]['mean radius']\n",
        "\n",
        "# Separate mean radius values for benign cases\n",
        "benign = df[df['target'] == 1]['mean radius']\n",
        "\n",
        "# Perform Welch's t-test on the two groups\n",
        "t_stat, p_t = ttest_ind(malignant, benign, equal_var=False)\n",
        "\n",
        "# Print the point-biserial correlation results\n",
        "print(f\"Point-biserial correlation: r = {r_pb:.3f}, p = {p_corr:.3e}\")\n",
        "\n",
        "# Print the group means for interpretability\n",
        "print(f\"Mean radius — malignant: {malignant.mean():.2f}, benign: {benign.mean():.2f}\")\n",
        "\n",
        "# Print the Welch’s t-test results\n",
        "print(f\"Welch’s t-test: t = {t_stat:.3f}, p = {p_t:.3e}\")"
      ]
    }
  ]
}