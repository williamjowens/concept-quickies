{
  "nbformat": 4,
  "nbformat_minor": 0,
  "metadata": {
    "colab": {
      "provenance": [],
      "toc_visible": true
    },
    "kernelspec": {
      "name": "python3",
      "display_name": "Python 3"
    },
    "language_info": {
      "name": "python"
    }
  },
  "cells": [
    {
      "cell_type": "markdown",
      "source": [
        "# Package Installs"
      ],
      "metadata": {
        "id": "qy0GoGecrI8c"
      }
    },
    {
      "cell_type": "code",
      "source": [
        "# Update package lists and install Armadillo library\n",
        "!apt-get update\n",
        "!apt-get install -y libarmadillo-dev\n",
        "\n",
        "# Install packages for C++ integration\n",
        "!pip install --upgrade git+https://github.com/pybind/pybind11.git\n",
        "!pip install cython"
      ],
      "metadata": {
        "colab": {
          "base_uri": "https://localhost:8080/"
        },
        "id": "K13IK5ixmgI5",
        "outputId": "b60a447f-91fb-447b-a890-19b3bf4a997a"
      },
      "execution_count": 1,
      "outputs": [
        {
          "output_type": "stream",
          "name": "stdout",
          "text": [
            "\r0% [Working]\r            \rGet:1 http://security.ubuntu.com/ubuntu jammy-security InRelease [129 kB]\n",
            "\r0% [Connecting to archive.ubuntu.com (185.125.190.81)] [1 InRelease 9,828 B/129 kB 8%] [Connected to\r                                                                                                    \rGet:2 https://cloud.r-project.org/bin/linux/ubuntu jammy-cran40/ InRelease [3,626 B]\n",
            "Hit:3 https://developer.download.nvidia.com/compute/cuda/repos/ubuntu2204/x86_64  InRelease\n",
            "Hit:4 http://archive.ubuntu.com/ubuntu jammy InRelease\n",
            "Get:5 https://r2u.stat.illinois.edu/ubuntu jammy InRelease [6,555 B]\n",
            "Get:6 http://archive.ubuntu.com/ubuntu jammy-updates InRelease [128 kB]\n",
            "Get:7 http://security.ubuntu.com/ubuntu jammy-security/universe amd64 Packages [1,230 kB]\n",
            "Get:8 http://security.ubuntu.com/ubuntu jammy-security/main amd64 Packages [2,606 kB]\n",
            "Get:9 http://archive.ubuntu.com/ubuntu jammy-backports InRelease [127 kB]\n",
            "Get:10 https://ppa.launchpadcontent.net/deadsnakes/ppa/ubuntu jammy InRelease [18.1 kB]\n",
            "Get:11 https://r2u.stat.illinois.edu/ubuntu jammy/main amd64 Packages [2,650 kB]\n",
            "Hit:12 https://ppa.launchpadcontent.net/graphics-drivers/ppa/ubuntu jammy InRelease\n",
            "Hit:13 https://ppa.launchpadcontent.net/ubuntugis/ppa/ubuntu jammy InRelease\n",
            "Get:14 http://archive.ubuntu.com/ubuntu jammy-updates/universe amd64 Packages [1,523 kB]\n",
            "Get:15 https://r2u.stat.illinois.edu/ubuntu jammy/main all Packages [8,657 kB]\n",
            "Get:16 http://archive.ubuntu.com/ubuntu jammy-updates/main amd64 Packages [2,907 kB]\n",
            "Get:17 https://ppa.launchpadcontent.net/deadsnakes/ppa/ubuntu jammy/main amd64 Packages [33.6 kB]\n",
            "Fetched 20.0 MB in 3s (7,176 kB/s)\n",
            "Reading package lists... Done\n",
            "W: Skipping acquire of configured file 'main/source/Sources' as repository 'https://r2u.stat.illinois.edu/ubuntu jammy InRelease' does not seem to provide it (sources.list entry misspelt?)\n",
            "Reading package lists... Done\n",
            "Building dependency tree... Done\n",
            "Reading state information... Done\n",
            "libarmadillo-dev is already the newest version (1:10.8.2+dfsg-1).\n",
            "libarmadillo-dev set to manually installed.\n",
            "0 upgraded, 0 newly installed, 0 to remove and 31 not upgraded.\n",
            "Collecting git+https://github.com/pybind/pybind11.git\n",
            "  Cloning https://github.com/pybind/pybind11.git to /tmp/pip-req-build-_f43btc2\n",
            "  Running command git clone --filter=blob:none --quiet https://github.com/pybind/pybind11.git /tmp/pip-req-build-_f43btc2\n",
            "  Resolved https://github.com/pybind/pybind11.git to commit d2e7e8c68711d1ebfb02e2f20bd1cb3bfc5647c0\n",
            "  Installing build dependencies ... \u001b[?25l\u001b[?25hdone\n",
            "  Getting requirements to build wheel ... \u001b[?25l\u001b[?25hdone\n",
            "  Preparing metadata (pyproject.toml) ... \u001b[?25l\u001b[?25hdone\n",
            "Building wheels for collected packages: pybind11\n",
            "  Building wheel for pybind11 (pyproject.toml) ... \u001b[?25l\u001b[?25hdone\n",
            "  Created wheel for pybind11: filename=pybind11-2.14.0.dev1-py3-none-any.whl size=255863 sha256=6ccc7b913736ed0785f4691477a272b88ec54a81de34c519f62524e047510cca\n",
            "  Stored in directory: /tmp/pip-ephem-wheel-cache-tu3xk911/wheels/4e/c8/c4/e3d6bd3fbcb3d237a0a74f55a269166cba77547c3193498d0f\n",
            "Successfully built pybind11\n",
            "Installing collected packages: pybind11\n",
            "Successfully installed pybind11-2.14.0.dev1\n",
            "Requirement already satisfied: cython in /usr/local/lib/python3.11/dist-packages (3.0.11)\n"
          ]
        }
      ]
    },
    {
      "cell_type": "markdown",
      "source": [
        "# PyBind11 Workflow"
      ],
      "metadata": {
        "id": "vV3qKyZHrVY0"
      }
    },
    {
      "cell_type": "markdown",
      "source": [
        "## Armadillo.h Header"
      ],
      "metadata": {
        "id": "GUEPo_tOrnIi"
      }
    },
    {
      "cell_type": "code",
      "source": [
        "%%bash\n",
        "mkdir -p pybind11\n",
        "cat > pybind11/armadillo.h << 'EOF'\n",
        "#ifndef PYBIND11_ARMADILLO_H\n",
        "#define PYBIND11_ARMADILLO_H\n",
        "\n",
        "#include <armadillo>\n",
        "#include <pybind11/pybind11.h>\n",
        "#include <pybind11/numpy.h>\n",
        "\n",
        "namespace pybind11 { namespace detail {\n",
        "\n",
        "// Minimal type caster for arma::Col<T> (commonly used as arma::vec)\n",
        "template <typename T>\n",
        "struct type_caster< arma::Col<T> > {\n",
        "public:\n",
        "    PYBIND11_TYPE_CASTER(arma::Col<T>, _(\"numpy.ndarray\"));\n",
        "\n",
        "    bool load(handle src, bool) {\n",
        "        auto buf = reinterpret_borrow<array_t<T>>(src);\n",
        "        buffer_info info = buf.request();\n",
        "        if (info.ndim != 1)\n",
        "            return false;\n",
        "        // Create an arma::Col without copying memory\n",
        "        value = arma::Col<T>(static_cast<T*>(info.ptr), info.shape[0], false);\n",
        "        return true;\n",
        "    }\n",
        "\n",
        "    static handle cast(const arma::Col<T>& src, return_value_policy, handle) {\n",
        "        return array_t<T>(\n",
        "            { src.n_elem },\n",
        "            { sizeof(T) },\n",
        "            src.memptr()\n",
        "        ).release();\n",
        "    }\n",
        "};\n",
        "\n",
        "// Minimal type caster for arma::Mat<T>\n",
        "template <typename T>\n",
        "struct type_caster< arma::Mat<T> > {\n",
        "public:\n",
        "    PYBIND11_TYPE_CASTER(arma::Mat<T>, _(\"numpy.ndarray\"));\n",
        "\n",
        "    bool load(handle src, bool) {\n",
        "        auto buf = reinterpret_borrow<array_t<T>>(src);\n",
        "        buffer_info info = buf.request();\n",
        "        if (info.ndim != 2)\n",
        "            return false;\n",
        "        value = arma::Mat<T>(static_cast<T*>(info.ptr), info.shape[0], info.shape[1], false);\n",
        "        return true;\n",
        "    }\n",
        "\n",
        "    static handle cast(const arma::Mat<T>& src, return_value_policy, handle) {\n",
        "        return array_t<T>(\n",
        "            { src.n_rows, src.n_cols },\n",
        "            { sizeof(T)*src.n_cols, sizeof(T) },\n",
        "            src.memptr()\n",
        "        ).release();\n",
        "    }\n",
        "};\n",
        "\n",
        "}} // namespace pybind11::detail\n",
        "\n",
        "#endif\n",
        "EOF"
      ],
      "metadata": {
        "id": "e_J6Xg14xa0u"
      },
      "execution_count": 2,
      "outputs": []
    },
    {
      "cell_type": "markdown",
      "source": [
        "## Main Script"
      ],
      "metadata": {
        "id": "orrmQ1TDrvyv"
      }
    },
    {
      "cell_type": "code",
      "source": [
        "%%bash\n",
        "cat > regression.cpp << 'EOF'\n",
        "#include <pybind11/pybind11.h>\n",
        "#include <pybind11/armadillo.h>  // Uses our minimal header in the local pybind11 folder\n",
        "#include <armadillo>\n",
        "#include <stdexcept>\n",
        "\n",
        "namespace py = pybind11;  // semicolon added\n",
        "\n",
        "// Define a LinearRegression class with a sklearn-style API\n",
        "class LinearRegression {\n",
        "public:\n",
        "    arma::vec theta;  // Learned parameters (intercept first)\n",
        "\n",
        "    LinearRegression() {}  // Default constructor\n",
        "\n",
        "    // Fit the model using feature matrix X (n_samples x n_features) and target vector y (n_samples)\n",
        "    void fit(const arma::mat & X, const arma::vec & y) {\n",
        "        if (X.n_rows != y.n_elem)\n",
        "            throw std::runtime_error(\"X rows must equal length of y\");\n",
        "        // Augment X with a column of ones for the intercept\n",
        "        arma::mat X_aug = arma::join_horiz(arma::ones<arma::vec>(X.n_rows), X);\n",
        "        theta = arma::solve(X_aug, y);\n",
        "    }\n",
        "\n",
        "    // Predict target values for a new feature matrix X (n_samples x n_features)\n",
        "    arma::vec predict(const arma::mat & X) {\n",
        "        if (theta.n_elem == 0)\n",
        "            throw std::runtime_error(\"Model is not fitted yet\");\n",
        "        arma::mat X_aug = arma::join_horiz(arma::ones<arma::vec>(X.n_rows), X);\n",
        "        if (theta.n_elem != X_aug.n_cols)\n",
        "            throw std::runtime_error(\"Mismatch between theta and number of features\");\n",
        "        return X_aug * theta;\n",
        "    }\n",
        "};\n",
        "\n",
        "PYBIND11_MODULE(regression, m) {\n",
        "    m.doc() = \"LinearRegression model (PyBind11 + Armadillo) with sklearn-style API\";\n",
        "    py::class_<LinearRegression>(m, \"LinearRegression\")\n",
        "        .def(py::init<>(), \"Create a new LinearRegression model\")\n",
        "        .def(\"fit\", &LinearRegression::fit, \"Fit the model using X and y\")\n",
        "        .def(\"predict\", &LinearRegression::predict, \"Predict target values for new X\")\n",
        "        .def_readonly(\"theta\", &LinearRegression::theta, \"Learned parameters (intercept first)\");\n",
        "}\n",
        "EOF"
      ],
      "metadata": {
        "id": "Cw0n-g75xeNJ"
      },
      "execution_count": 3,
      "outputs": []
    },
    {
      "cell_type": "markdown",
      "source": [
        "## Compile the Module"
      ],
      "metadata": {
        "id": "CUKXlLT_r4zE"
      }
    },
    {
      "cell_type": "code",
      "source": [
        "%%bash\n",
        "# Remove any old shared libraries\n",
        "rm -f regression*.so\n",
        "\n",
        "# Compile the module; the -I. flag ensures local \"pybind11\" folder is searched for the header\n",
        "c++ -O3 -Wall -shared -std=c++11 -fPIC $(python3 -m pybind11 --includes) -I. regression.cpp -o regression$(python3.11-config --extension-suffix) -larmadillo\n",
        "\n",
        "# Verify the shared library exists\n",
        "ls -l regression*.so"
      ],
      "metadata": {
        "colab": {
          "base_uri": "https://localhost:8080/"
        },
        "id": "PMLYK86hmsvA",
        "outputId": "9213c555-aa96-407b-96a4-83fcd1b5113a"
      },
      "execution_count": 4,
      "outputs": [
        {
          "output_type": "stream",
          "name": "stdout",
          "text": [
            "-rwxr-xr-x 1 root root 305472 Feb  6 05:54 regression.cpython-311-x86_64-linux-gnu.so\n"
          ]
        }
      ]
    },
    {
      "cell_type": "markdown",
      "source": [
        "## Test the Module"
      ],
      "metadata": {
        "id": "WnnZLt1FsG7h"
      }
    },
    {
      "cell_type": "code",
      "source": [
        "import sys\n",
        "print(sys.version)"
      ],
      "metadata": {
        "colab": {
          "base_uri": "https://localhost:8080/"
        },
        "id": "DGPdSg6Xp_sq",
        "outputId": "724d53f5-0218-4f53-8f79-2202bd6ea54e"
      },
      "execution_count": 5,
      "outputs": [
        {
          "output_type": "stream",
          "name": "stdout",
          "text": [
            "3.11.11 (main, Dec  4 2024, 08:55:07) [GCC 11.4.0]\n"
          ]
        }
      ]
    },
    {
      "cell_type": "code",
      "source": [
        "import sys\n",
        "sys.path.insert(0, \".\")  # Ensure the current directory is in sys.path\n",
        "import numpy as np\n",
        "import regression  # Import the PyBind11 module\n",
        "\n",
        "# Create a small dataset where y = 2 * x\n",
        "X_train = np.array([[1], [2], [3], [4], [5]], dtype=np.float64)\n",
        "y_train = np.array([2, 4, 6, 8, 10], dtype=np.float64)\n",
        "\n",
        "# Instantiate and fit the model\n",
        "model_pybind = regression.LinearRegression()\n",
        "model_pybind.fit(X_train, y_train)\n",
        "\n",
        "# Get and print the model parameters (θ)\n",
        "theta_pybind = model_pybind.theta\n",
        "print(\"PyBind11 learned theta:\", theta_pybind)\n",
        "\n",
        "# Predict new values\n",
        "X_test = np.array([[6], [7], [8]], dtype=np.float64)\n",
        "y_pred_pybind = model_pybind.predict(X_test)\n",
        "print(\"PyBind11 predictions:\", y_pred_pybind)"
      ],
      "metadata": {
        "colab": {
          "base_uri": "https://localhost:8080/"
        },
        "id": "SB4YbdN_mev5",
        "outputId": "05fee9ef-4f0f-4ffa-8f12-b94d5e9c594e"
      },
      "execution_count": 6,
      "outputs": [
        {
          "output_type": "stream",
          "name": "stdout",
          "text": [
            "PyBind11 learned theta: [-2.38323279e-15  2.00000000e+00]\n",
            "PyBind11 predictions: [12. 14. 16.]\n"
          ]
        }
      ]
    },
    {
      "cell_type": "markdown",
      "source": [
        "# Cython Workflow"
      ],
      "metadata": {
        "id": "oBmBZpagrGa7"
      }
    },
    {
      "cell_type": "markdown",
      "source": [
        "## Header File"
      ],
      "metadata": {
        "id": "SWdKfw3lsRZm"
      }
    },
    {
      "cell_type": "code",
      "source": [
        "%%bash\n",
        "cat > regression.hpp << 'EOF'\n",
        "#ifndef REGRESSION_HPP\n",
        "#define REGRESSION_HPP\n",
        "\n",
        "#include <armadillo>\n",
        "#include <stdexcept>\n",
        "\n",
        "// Define a LinearRegression class with a sklearn-style API\n",
        "class LinearRegression {\n",
        "public:\n",
        "    arma::vec theta;  // Learned parameters (intercept first)\n",
        "    LinearRegression();\n",
        "    void fit(const arma::mat & X, const arma::vec & y);\n",
        "    arma::vec predict(const arma::mat & X);\n",
        "};\n",
        "\n",
        "#endif\n",
        "EOF"
      ],
      "metadata": {
        "id": "_4_m_5tKkYZr"
      },
      "execution_count": 7,
      "outputs": []
    },
    {
      "cell_type": "code",
      "source": [
        "%%bash\n",
        "cat > regression_api.h << 'EOF'\n",
        "#ifndef REGRESSION_API_H\n",
        "#define REGRESSION_API_H\n",
        "\n",
        "#include \"regression.hpp\"\n",
        "\n",
        "#ifdef __cplusplus\n",
        "extern \"C\" {\n",
        "#endif\n",
        "\n",
        "LinearRegression* LinearRegression_new();\n",
        "void LinearRegression_fit(LinearRegression* model, const double* X_data, int n_rows, int n_cols, const double* y_data);\n",
        "double* LinearRegression_predict(LinearRegression* model, const double* X_data, int n_rows, int n_cols, int* out_size);\n",
        "const double* LinearRegression_get_theta(LinearRegression* model, int* len);\n",
        "void LinearRegression_free(LinearRegression* model);\n",
        "void free_array(double* ptr);\n",
        "\n",
        "#ifdef __cplusplus\n",
        "}\n",
        "#endif\n",
        "\n",
        "#endif\n",
        "EOF"
      ],
      "metadata": {
        "id": "AXauv-ABvYIC"
      },
      "execution_count": 8,
      "outputs": []
    },
    {
      "cell_type": "markdown",
      "source": [
        "## Main Script"
      ],
      "metadata": {
        "id": "CgQka_9ZsUtr"
      }
    },
    {
      "cell_type": "code",
      "source": [
        "%%bash\n",
        "cat > regression_impl.cpp << 'EOF'\n",
        "#include \"regression_api.h\"\n",
        "#include <armadillo>\n",
        "#include <stdexcept>\n",
        "#include <algorithm>\n",
        "\n",
        "LinearRegression::LinearRegression() { }\n",
        "\n",
        "void LinearRegression::fit(const arma::mat & X, const arma::vec & y) {\n",
        "    if (X.n_rows != y.n_elem)\n",
        "        throw std::runtime_error(\"X rows must equal length of y\");\n",
        "    arma::mat X_aug = arma::join_horiz(arma::ones<arma::vec>(X.n_rows), X);\n",
        "    theta = arma::solve(X_aug, y);\n",
        "}\n",
        "\n",
        "arma::vec LinearRegression::predict(const arma::mat & X) {\n",
        "    if (theta.n_elem == 0)\n",
        "        throw std::runtime_error(\"Model is not fitted yet\");\n",
        "    arma::mat X_aug = arma::join_horiz(arma::ones<arma::vec>(X.n_rows), X);\n",
        "    if (theta.n_elem != X_aug.n_cols)\n",
        "        throw std::runtime_error(\"Mismatch between theta and number of features\");\n",
        "    return X_aug * theta;\n",
        "}\n",
        "\n",
        "extern \"C\" {\n",
        "\n",
        "LinearRegression* LinearRegression_new() {\n",
        "    return new LinearRegression();\n",
        "}\n",
        "\n",
        "void LinearRegression_fit(LinearRegression* model, const double* X_data, int n_rows, int n_cols, const double* y_data) {\n",
        "    arma::mat X(const_cast<double*>(X_data), n_rows, n_cols, false);\n",
        "    arma::vec y(const_cast<double*>(y_data), n_rows, false);\n",
        "    model->fit(X, y);\n",
        "}\n",
        "\n",
        "double* LinearRegression_predict(LinearRegression* model, const double* X_data, int n_rows, int n_cols, int* out_size) {\n",
        "    arma::mat X(const_cast<double*>(X_data), n_rows, n_cols, false);\n",
        "    arma::vec y_pred = model->predict(X);\n",
        "    *out_size = y_pred.n_elem;\n",
        "    double* result = new double[y_pred.n_elem];\n",
        "    std::copy(y_pred.memptr(), y_pred.memptr() + y_pred.n_elem, result);\n",
        "    return result;\n",
        "}\n",
        "\n",
        "const double* LinearRegression_get_theta(LinearRegression* model, int* len) {\n",
        "    *len = model->theta.n_elem;\n",
        "    return model->theta.memptr();\n",
        "}\n",
        "\n",
        "void LinearRegression_free(LinearRegression* model) {\n",
        "    delete model;\n",
        "}\n",
        "\n",
        "void free_array(double* ptr) {\n",
        "    delete[] ptr;\n",
        "}\n",
        "\n",
        "} // extern \"C\"\n",
        "EOF"
      ],
      "metadata": {
        "id": "SbHQj3sIkYXG"
      },
      "execution_count": 9,
      "outputs": []
    },
    {
      "cell_type": "markdown",
      "source": [
        "## Cython Wrapper File"
      ],
      "metadata": {
        "id": "j1N72ARgsd-4"
      }
    },
    {
      "cell_type": "code",
      "source": [
        "%%bash\n",
        "cat > regression_wrapper.pyx << 'EOF'\n",
        "# cython: language_level=3\n",
        "import numpy as np\n",
        "cimport numpy as np\n",
        "\n",
        "# Declare the external C functions from our API header\n",
        "cdef extern from \"regression_api.h\":\n",
        "    cdef struct LinearRegression  # opaque type\n",
        "\n",
        "    LinearRegression* LinearRegression_new()\n",
        "    void LinearRegression_fit(LinearRegression* model, const double* X_data, int n_rows, int n_cols, const double* y_data)\n",
        "    double* LinearRegression_predict(LinearRegression* model, const double* X_data, int n_rows, int n_cols, int* out_size)\n",
        "    const double* LinearRegression_get_theta(LinearRegression* model, int* len)\n",
        "    void LinearRegression_free(LinearRegression* model)\n",
        "    void free_array(double* ptr)\n",
        "\n",
        "cdef class PyLinearRegression:\n",
        "    cdef LinearRegression* thisptr\n",
        "\n",
        "    def __cinit__(self):\n",
        "        self.thisptr = LinearRegression_new()\n",
        "\n",
        "    def fit(self, np.ndarray[np.float64_t, ndim=2] X, np.ndarray[np.float64_t, ndim=1] y):\n",
        "        if X.shape[0] != y.shape[0]:\n",
        "            raise ValueError(\"X rows must equal length of y\")\n",
        "        LinearRegression_fit(self.thisptr, <double*>X.data, X.shape[0], X.shape[1], <double*>y.data)\n",
        "\n",
        "    def predict(self, np.ndarray[np.float64_t, ndim=2] X):\n",
        "        cdef int n_rows = X.shape[0]\n",
        "        cdef int n_cols = X.shape[1]\n",
        "        cdef int out_size\n",
        "        cdef double* res_ptr = LinearRegression_predict(self.thisptr, <double*>X.data, n_rows, n_cols, &out_size)\n",
        "        cdef np.ndarray[np.float64_t, ndim=1] result = np.empty(out_size, dtype=np.float64)\n",
        "        for i in range(out_size):\n",
        "            result[i] = res_ptr[i]\n",
        "        free_array(res_ptr)\n",
        "        return result\n",
        "\n",
        "    def get_theta(self):\n",
        "        cdef int len_theta\n",
        "        cdef const double* ptr = LinearRegression_get_theta(self.thisptr, &len_theta)\n",
        "        # Convert the returned pointer into a Python list and then a numpy array\n",
        "        return np.array([ptr[i] for i in range(len_theta)], dtype=np.float64)\n",
        "\n",
        "    def __dealloc__(self):\n",
        "        if self.thisptr is not NULL:\n",
        "            LinearRegression_free(self.thisptr)\n",
        "            self.thisptr = NULL\n",
        "EOF"
      ],
      "metadata": {
        "id": "QB-v77VjkiWY"
      },
      "execution_count": 10,
      "outputs": []
    },
    {
      "cell_type": "markdown",
      "source": [
        "## Cython Module Setup"
      ],
      "metadata": {
        "id": "dHVeCQr0sgpu"
      }
    },
    {
      "cell_type": "code",
      "source": [
        "%%bash\n",
        "cat > setup.py << 'EOF'\n",
        "from setuptools import setup, Extension\n",
        "from Cython.Build import cythonize\n",
        "import numpy\n",
        "\n",
        "ext = Extension(\n",
        "    name=\"regression_wrapper\",\n",
        "    sources=[\"regression_wrapper.pyx\", \"regression_impl.cpp\"],\n",
        "    language=\"c++\",\n",
        "    include_dirs=[numpy.get_include(), \".\"],\n",
        "    extra_compile_args=[\"-O3\", \"-std=c++11\", \"-DNPY_NO_DEPRECATED_API=NPY_1_7_API_VERSION\"],\n",
        "    extra_link_args=[\"-larmadillo\"],\n",
        ")\n",
        "\n",
        "setup(\n",
        "    name=\"regression_wrapper\",\n",
        "    ext_modules=cythonize(ext),\n",
        ")\n",
        "EOF"
      ],
      "metadata": {
        "id": "w7mdWAf_kiUT"
      },
      "execution_count": 11,
      "outputs": []
    },
    {
      "cell_type": "code",
      "source": [
        "!python setup.py build_ext --inplace"
      ],
      "metadata": {
        "colab": {
          "base_uri": "https://localhost:8080/"
        },
        "id": "dYTemNCCkiR-",
        "outputId": "2b03270c-6490-40f5-afdf-f4504f6a0461"
      },
      "execution_count": 12,
      "outputs": [
        {
          "output_type": "stream",
          "name": "stdout",
          "text": [
            "Compiling regression_wrapper.pyx because it changed.\n",
            "[1/1] Cythonizing regression_wrapper.pyx\n",
            "running build_ext\n",
            "building 'regression_wrapper' extension\n",
            "creating build/temp.linux-x86_64-cpython-311\n",
            "x86_64-linux-gnu-g++ -Wsign-compare -DNDEBUG -g -fwrapv -O2 -Wall -g -fstack-protector-strong -Wformat -Werror=format-security -g -fwrapv -O2 -fPIC -I/usr/local/lib/python3.11/dist-packages/numpy/core/include -I. -I/usr/include/python3.11 -c regression_impl.cpp -o build/temp.linux-x86_64-cpython-311/regression_impl.o -O3 -std=c++11 -DNPY_NO_DEPRECATED_API=NPY_1_7_API_VERSION\n",
            "x86_64-linux-gnu-g++ -Wsign-compare -DNDEBUG -g -fwrapv -O2 -Wall -g -fstack-protector-strong -Wformat -Werror=format-security -g -fwrapv -O2 -fPIC -I/usr/local/lib/python3.11/dist-packages/numpy/core/include -I. -I/usr/include/python3.11 -c regression_wrapper.cpp -o build/temp.linux-x86_64-cpython-311/regression_wrapper.o -O3 -std=c++11 -DNPY_NO_DEPRECATED_API=NPY_1_7_API_VERSION\n",
            "creating build/lib.linux-x86_64-cpython-311\n",
            "x86_64-linux-gnu-g++ -Wsign-compare -DNDEBUG -g -fwrapv -O2 -Wall -g -fstack-protector-strong -Wformat -Werror=format-security -g -fwrapv -O2 -shared -Wl,-O1 -Wl,-Bsymbolic-functions build/temp.linux-x86_64-cpython-311/regression_impl.o build/temp.linux-x86_64-cpython-311/regression_wrapper.o -L/usr/lib/x86_64-linux-gnu -o build/lib.linux-x86_64-cpython-311/regression_wrapper.cpython-311-x86_64-linux-gnu.so -larmadillo\n",
            "copying build/lib.linux-x86_64-cpython-311/regression_wrapper.cpython-311-x86_64-linux-gnu.so -> \n"
          ]
        }
      ]
    },
    {
      "cell_type": "markdown",
      "source": [
        "## Test the Module"
      ],
      "metadata": {
        "id": "Z4V-Y71Ssti-"
      }
    },
    {
      "cell_type": "code",
      "source": [
        "import numpy as np\n",
        "from regression_wrapper import PyLinearRegression  # Import the Cython wrapper class\n",
        "\n",
        "# Create a small dataset where y = 2 * x\n",
        "X_train = np.array([[1], [2], [3], [4], [5]], dtype=np.float64)\n",
        "y_train = np.array([2, 4, 6, 8, 10], dtype=np.float64)\n",
        "\n",
        "# Instantiate and fit the model\n",
        "model_cython = PyLinearRegression()\n",
        "model_cython.fit(X_train, y_train)\n",
        "\n",
        "# Get and print the model parameters (θ)\n",
        "theta_cython = model_cython.get_theta()\n",
        "print(\"Cython learned theta:\", theta_cython)\n",
        "\n",
        "# Predict new values\n",
        "X_test = np.array([[6], [7], [8]], dtype=np.float64)\n",
        "y_pred_cython = model_cython.predict(X_test)\n",
        "print(\"Cython predictions:\", y_pred_cython)"
      ],
      "metadata": {
        "colab": {
          "base_uri": "https://localhost:8080/"
        },
        "id": "7hgLcJ6UkoRz",
        "outputId": "6cc4ef5d-e2e2-4d7d-b854-994cbc6abe99"
      },
      "execution_count": 13,
      "outputs": [
        {
          "output_type": "stream",
          "name": "stdout",
          "text": [
            "Cython learned theta: [-2.38323279e-15  2.00000000e+00]\n",
            "Cython predictions: [12. 14. 16.]\n"
          ]
        }
      ]
    },
    {
      "cell_type": "markdown",
      "source": [
        "# Pure Python"
      ],
      "metadata": {
        "id": "0g5vB7XFyLjj"
      }
    },
    {
      "cell_type": "code",
      "source": [
        "class LinearRegressionPurePython:\n",
        "    def __init__(self):\n",
        "        self.theta = []  # model parameters: first element is intercept, others are coefficients\n",
        "\n",
        "    def transpose(self, A):\n",
        "        return list(map(list, zip(*A)))\n",
        "\n",
        "    def mat_mult(self, A, B):\n",
        "        # Multiply matrix A (m x n) by matrix B (n x p)\n",
        "        m = len(A)\n",
        "        n = len(A[0])\n",
        "        p = len(B[0])\n",
        "        result = [[0 for _ in range(p)] for _ in range(m)]\n",
        "        for i in range(m):\n",
        "            for j in range(p):\n",
        "                for k in range(n):\n",
        "                    result[i][j] += A[i][k] * B[k][j]\n",
        "        return result\n",
        "\n",
        "    def invert_matrix(self, A):\n",
        "        # Invert a square matrix A using Gauss-Jordan elimination\n",
        "        n = len(A)\n",
        "        # create augmented matrix [A | I]\n",
        "        aug = [row + [1 if i == j else 0 for j in range(n)] for i, row in enumerate(A)]\n",
        "        # forward elimination\n",
        "        for i in range(n):\n",
        "            # find pivot\n",
        "            pivot = aug[i][i]\n",
        "            if pivot == 0:\n",
        "                raise ValueError(\"Matrix is singular\")\n",
        "            # normalize pivot row\n",
        "            aug[i] = [x / pivot for x in aug[i]]\n",
        "            for j in range(n):\n",
        "                if j != i:\n",
        "                    factor = aug[j][i]\n",
        "                    aug[j] = [aj - factor * ai for aj, ai in zip(aug[j], aug[i])]\n",
        "        # extract inverse from augmented matrix\n",
        "        inv = [row[n:] for row in aug]\n",
        "        return inv\n",
        "\n",
        "    def fit(self, X, y):\n",
        "        # X: list of lists (each inner list is a feature vector)\n",
        "        # y: list of target values\n",
        "        m = len(X)\n",
        "        # add intercept column\n",
        "        X_aug = [[1] + row for row in X]\n",
        "        # compute X^T * X\n",
        "        X_trans = self.transpose(X_aug)\n",
        "        XtX = self.mat_mult(X_trans, X_aug)\n",
        "        # compute X^T * y\n",
        "        # treat y as a column vector\n",
        "        y_col = [[val] for val in y]\n",
        "        Xty = self.mat_mult(X_trans, y_col)\n",
        "        # invert XtX\n",
        "        XtX_inv = self.invert_matrix(XtX)\n",
        "        # theta = (X^T * X)^-1 * (X^T * y)\n",
        "        theta_mat = self.mat_mult(XtX_inv, Xty)\n",
        "        self.theta = [row[0] for row in theta_mat]\n",
        "\n",
        "    def predict(self, X):\n",
        "        # X: list of lists (each inner list is a feature vector)\n",
        "        X_aug = [[1] + row for row in X]\n",
        "        preds = []\n",
        "        for row in X_aug:\n",
        "            pred = sum(a * b for a, b in zip(row, self.theta))\n",
        "            preds.append(pred)\n",
        "        return preds"
      ],
      "metadata": {
        "id": "QCsHijqNyNJn"
      },
      "execution_count": 14,
      "outputs": []
    },
    {
      "cell_type": "code",
      "source": [
        "# Test the pure Python model on a small dataset\n",
        "model_py = LinearRegressionPurePython()\n",
        "X_train_py = [[1], [2], [3], [4], [5]]\n",
        "y_train_py = [2, 4, 6, 8, 10]\n",
        "model_py.fit(X_train_py, y_train_py)\n",
        "\n",
        "print(\"Pure Python learned theta:\", model_py.theta)\n",
        "print(\"Pure Python predictions:\", model_py.predict([[6], [7], [8]]))"
      ],
      "metadata": {
        "colab": {
          "base_uri": "https://localhost:8080/"
        },
        "id": "6vW9KfPvyPYX",
        "outputId": "7dfc5161-5a00-4798-ae09-60caca6be59f"
      },
      "execution_count": 15,
      "outputs": [
        {
          "output_type": "stream",
          "name": "stdout",
          "text": [
            "Pure Python learned theta: [-1.4210854715202004e-14, 2.0]\n",
            "Pure Python predictions: [11.999999999999986, 13.999999999999986, 15.999999999999986]\n"
          ]
        }
      ]
    },
    {
      "cell_type": "markdown",
      "source": [
        "# Performance Comparison"
      ],
      "metadata": {
        "id": "PGEINj8xsw4x"
      }
    },
    {
      "cell_type": "code",
      "source": [
        "import timeit\n",
        "import numpy as np\n",
        "import regression\n",
        "from regression_wrapper import PyLinearRegression\n",
        "\n",
        "# Use a moderately sized dataset for all models\n",
        "n_samples = 1000\n",
        "n_features = 10\n",
        "X_train_mod = np.random.rand(n_samples, n_features).astype(np.float64)\n",
        "true_theta = np.random.rand(n_features + 1).astype(np.float64)\n",
        "X_train_aug = np.hstack((np.ones((n_samples, 1)), X_train_mod))\n",
        "y_train_mod = X_train_aug.dot(true_theta)\n",
        "\n",
        "n_runs = 50\n",
        "\n",
        "# PyBind11 model timing\n",
        "def pybind_train():\n",
        "    model = regression.LinearRegression()\n",
        "    model.fit(X_train_mod, y_train_mod)\n",
        "\n",
        "pybind_train_time = timeit.timeit(pybind_train, number=n_runs)\n",
        "print(f\"PyBind11 training time ({n_runs} runs): {pybind_train_time:.6f} sec\")\n",
        "\n",
        "def pybind_predict():\n",
        "    model = regression.LinearRegression()\n",
        "    model.fit(X_train_mod, y_train_mod)\n",
        "    model.predict(X_train_mod)\n",
        "\n",
        "pybind_predict_time = timeit.timeit(pybind_predict, number=n_runs)\n",
        "print(f\"PyBind11 prediction time ({n_runs} runs): {pybind_predict_time:.6f} sec\")\n",
        "\n",
        "# Cython model timing\n",
        "def cython_train():\n",
        "    model = PyLinearRegression()\n",
        "    model.fit(X_train_mod, y_train_mod)\n",
        "\n",
        "cython_train_time = timeit.timeit(cython_train, number=n_runs)\n",
        "print(f\"Cython training time ({n_runs} runs): {cython_train_time:.6f} sec\")\n",
        "\n",
        "def cython_predict():\n",
        "    model = PyLinearRegression()\n",
        "    model.fit(X_train_mod, y_train_mod)\n",
        "    model.predict(X_train_mod)\n",
        "\n",
        "cython_predict_time = timeit.timeit(cython_predict, number=n_runs)\n",
        "print(f\"Cython prediction time ({n_runs} runs): {cython_predict_time:.6f} sec\")\n",
        "\n",
        "# Pure Python model timing\n",
        "def purepython_train():\n",
        "    model = LinearRegressionPurePython()\n",
        "    # Convert NumPy dataset to built-in lists\n",
        "    X_list = X_train_mod.tolist()\n",
        "    y_list = y_train_mod.tolist()\n",
        "    model.fit(X_list, y_list)\n",
        "\n",
        "purepython_train_time = timeit.timeit(purepython_train, number=n_runs)\n",
        "print(f\"Pure Python training time ({n_runs} runs): {purepython_train_time:.6f} sec\")\n",
        "\n",
        "def purepython_predict():\n",
        "    model = LinearRegressionPurePython()\n",
        "    X_list = X_train_mod.tolist()\n",
        "    y_list = y_train_mod.tolist()\n",
        "    model.fit(X_list, y_list)\n",
        "    model.predict(X_list)\n",
        "\n",
        "purepython_predict_time = timeit.timeit(purepython_predict, number=n_runs)\n",
        "print(f\"Pure Python prediction time ({n_runs} runs): {purepython_predict_time:.6f} sec\")"
      ],
      "metadata": {
        "colab": {
          "base_uri": "https://localhost:8080/"
        },
        "id": "9_dXOGIWkoPg",
        "outputId": "252606b7-730a-4516-933b-abc267a2332a"
      },
      "execution_count": 16,
      "outputs": [
        {
          "output_type": "stream",
          "name": "stdout",
          "text": [
            "PyBind11 training time (50 runs): 0.010261 sec\n",
            "PyBind11 prediction time (50 runs): 0.010696 sec\n",
            "Cython training time (50 runs): 0.013633 sec\n",
            "Cython prediction time (50 runs): 0.010836 sec\n",
            "Pure Python training time (50 runs): 0.829785 sec\n",
            "Pure Python prediction time (50 runs): 0.784235 sec\n"
          ]
        }
      ]
    },
    {
      "cell_type": "code",
      "source": [
        "import pandas as pd\n",
        "\n",
        "# Create DataFrame\n",
        "time_df = pd.DataFrame({\n",
        "    \"Model Type\": [\"PyBind11\", \"Cython\", \"Pure Python\"],\n",
        "    \"Training Time (s)\": [pybind_train_time, cython_train_time, purepython_train_time],\n",
        "    \"Prediction Time (s)\": [pybind_predict_time, cython_predict_time, purepython_predict_time]\n",
        "})\n",
        "\n",
        "display(time_df)"
      ],
      "metadata": {
        "colab": {
          "base_uri": "https://localhost:8080/",
          "height": 143
        },
        "id": "dN44LiWUzxWh",
        "outputId": "61d9be5a-4104-4123-ce89-c7737f0dc892"
      },
      "execution_count": 17,
      "outputs": [
        {
          "output_type": "display_data",
          "data": {
            "text/plain": [
              "    Model Type  Training Time (s)  Prediction Time (s)\n",
              "0     PyBind11           0.010261             0.010696\n",
              "1       Cython           0.013633             0.010836\n",
              "2  Pure Python           0.829785             0.784235"
            ],
            "text/html": [
              "\n",
              "  <div id=\"df-2f4c6541-5c54-47cc-a702-7249fefa40ba\" class=\"colab-df-container\">\n",
              "    <div>\n",
              "<style scoped>\n",
              "    .dataframe tbody tr th:only-of-type {\n",
              "        vertical-align: middle;\n",
              "    }\n",
              "\n",
              "    .dataframe tbody tr th {\n",
              "        vertical-align: top;\n",
              "    }\n",
              "\n",
              "    .dataframe thead th {\n",
              "        text-align: right;\n",
              "    }\n",
              "</style>\n",
              "<table border=\"1\" class=\"dataframe\">\n",
              "  <thead>\n",
              "    <tr style=\"text-align: right;\">\n",
              "      <th></th>\n",
              "      <th>Model Type</th>\n",
              "      <th>Training Time (s)</th>\n",
              "      <th>Prediction Time (s)</th>\n",
              "    </tr>\n",
              "  </thead>\n",
              "  <tbody>\n",
              "    <tr>\n",
              "      <th>0</th>\n",
              "      <td>PyBind11</td>\n",
              "      <td>0.010261</td>\n",
              "      <td>0.010696</td>\n",
              "    </tr>\n",
              "    <tr>\n",
              "      <th>1</th>\n",
              "      <td>Cython</td>\n",
              "      <td>0.013633</td>\n",
              "      <td>0.010836</td>\n",
              "    </tr>\n",
              "    <tr>\n",
              "      <th>2</th>\n",
              "      <td>Pure Python</td>\n",
              "      <td>0.829785</td>\n",
              "      <td>0.784235</td>\n",
              "    </tr>\n",
              "  </tbody>\n",
              "</table>\n",
              "</div>\n",
              "    <div class=\"colab-df-buttons\">\n",
              "\n",
              "  <div class=\"colab-df-container\">\n",
              "    <button class=\"colab-df-convert\" onclick=\"convertToInteractive('df-2f4c6541-5c54-47cc-a702-7249fefa40ba')\"\n",
              "            title=\"Convert this dataframe to an interactive table.\"\n",
              "            style=\"display:none;\">\n",
              "\n",
              "  <svg xmlns=\"http://www.w3.org/2000/svg\" height=\"24px\" viewBox=\"0 -960 960 960\">\n",
              "    <path d=\"M120-120v-720h720v720H120Zm60-500h600v-160H180v160Zm220 220h160v-160H400v160Zm0 220h160v-160H400v160ZM180-400h160v-160H180v160Zm440 0h160v-160H620v160ZM180-180h160v-160H180v160Zm440 0h160v-160H620v160Z\"/>\n",
              "  </svg>\n",
              "    </button>\n",
              "\n",
              "  <style>\n",
              "    .colab-df-container {\n",
              "      display:flex;\n",
              "      gap: 12px;\n",
              "    }\n",
              "\n",
              "    .colab-df-convert {\n",
              "      background-color: #E8F0FE;\n",
              "      border: none;\n",
              "      border-radius: 50%;\n",
              "      cursor: pointer;\n",
              "      display: none;\n",
              "      fill: #1967D2;\n",
              "      height: 32px;\n",
              "      padding: 0 0 0 0;\n",
              "      width: 32px;\n",
              "    }\n",
              "\n",
              "    .colab-df-convert:hover {\n",
              "      background-color: #E2EBFA;\n",
              "      box-shadow: 0px 1px 2px rgba(60, 64, 67, 0.3), 0px 1px 3px 1px rgba(60, 64, 67, 0.15);\n",
              "      fill: #174EA6;\n",
              "    }\n",
              "\n",
              "    .colab-df-buttons div {\n",
              "      margin-bottom: 4px;\n",
              "    }\n",
              "\n",
              "    [theme=dark] .colab-df-convert {\n",
              "      background-color: #3B4455;\n",
              "      fill: #D2E3FC;\n",
              "    }\n",
              "\n",
              "    [theme=dark] .colab-df-convert:hover {\n",
              "      background-color: #434B5C;\n",
              "      box-shadow: 0px 1px 3px 1px rgba(0, 0, 0, 0.15);\n",
              "      filter: drop-shadow(0px 1px 2px rgba(0, 0, 0, 0.3));\n",
              "      fill: #FFFFFF;\n",
              "    }\n",
              "  </style>\n",
              "\n",
              "    <script>\n",
              "      const buttonEl =\n",
              "        document.querySelector('#df-2f4c6541-5c54-47cc-a702-7249fefa40ba button.colab-df-convert');\n",
              "      buttonEl.style.display =\n",
              "        google.colab.kernel.accessAllowed ? 'block' : 'none';\n",
              "\n",
              "      async function convertToInteractive(key) {\n",
              "        const element = document.querySelector('#df-2f4c6541-5c54-47cc-a702-7249fefa40ba');\n",
              "        const dataTable =\n",
              "          await google.colab.kernel.invokeFunction('convertToInteractive',\n",
              "                                                    [key], {});\n",
              "        if (!dataTable) return;\n",
              "\n",
              "        const docLinkHtml = 'Like what you see? Visit the ' +\n",
              "          '<a target=\"_blank\" href=https://colab.research.google.com/notebooks/data_table.ipynb>data table notebook</a>'\n",
              "          + ' to learn more about interactive tables.';\n",
              "        element.innerHTML = '';\n",
              "        dataTable['output_type'] = 'display_data';\n",
              "        await google.colab.output.renderOutput(dataTable, element);\n",
              "        const docLink = document.createElement('div');\n",
              "        docLink.innerHTML = docLinkHtml;\n",
              "        element.appendChild(docLink);\n",
              "      }\n",
              "    </script>\n",
              "  </div>\n",
              "\n",
              "\n",
              "<div id=\"df-ce4f1571-8393-430e-8f02-649c4708d17d\">\n",
              "  <button class=\"colab-df-quickchart\" onclick=\"quickchart('df-ce4f1571-8393-430e-8f02-649c4708d17d')\"\n",
              "            title=\"Suggest charts\"\n",
              "            style=\"display:none;\">\n",
              "\n",
              "<svg xmlns=\"http://www.w3.org/2000/svg\" height=\"24px\"viewBox=\"0 0 24 24\"\n",
              "     width=\"24px\">\n",
              "    <g>\n",
              "        <path d=\"M19 3H5c-1.1 0-2 .9-2 2v14c0 1.1.9 2 2 2h14c1.1 0 2-.9 2-2V5c0-1.1-.9-2-2-2zM9 17H7v-7h2v7zm4 0h-2V7h2v10zm4 0h-2v-4h2v4z\"/>\n",
              "    </g>\n",
              "</svg>\n",
              "  </button>\n",
              "\n",
              "<style>\n",
              "  .colab-df-quickchart {\n",
              "      --bg-color: #E8F0FE;\n",
              "      --fill-color: #1967D2;\n",
              "      --hover-bg-color: #E2EBFA;\n",
              "      --hover-fill-color: #174EA6;\n",
              "      --disabled-fill-color: #AAA;\n",
              "      --disabled-bg-color: #DDD;\n",
              "  }\n",
              "\n",
              "  [theme=dark] .colab-df-quickchart {\n",
              "      --bg-color: #3B4455;\n",
              "      --fill-color: #D2E3FC;\n",
              "      --hover-bg-color: #434B5C;\n",
              "      --hover-fill-color: #FFFFFF;\n",
              "      --disabled-bg-color: #3B4455;\n",
              "      --disabled-fill-color: #666;\n",
              "  }\n",
              "\n",
              "  .colab-df-quickchart {\n",
              "    background-color: var(--bg-color);\n",
              "    border: none;\n",
              "    border-radius: 50%;\n",
              "    cursor: pointer;\n",
              "    display: none;\n",
              "    fill: var(--fill-color);\n",
              "    height: 32px;\n",
              "    padding: 0;\n",
              "    width: 32px;\n",
              "  }\n",
              "\n",
              "  .colab-df-quickchart:hover {\n",
              "    background-color: var(--hover-bg-color);\n",
              "    box-shadow: 0 1px 2px rgba(60, 64, 67, 0.3), 0 1px 3px 1px rgba(60, 64, 67, 0.15);\n",
              "    fill: var(--button-hover-fill-color);\n",
              "  }\n",
              "\n",
              "  .colab-df-quickchart-complete:disabled,\n",
              "  .colab-df-quickchart-complete:disabled:hover {\n",
              "    background-color: var(--disabled-bg-color);\n",
              "    fill: var(--disabled-fill-color);\n",
              "    box-shadow: none;\n",
              "  }\n",
              "\n",
              "  .colab-df-spinner {\n",
              "    border: 2px solid var(--fill-color);\n",
              "    border-color: transparent;\n",
              "    border-bottom-color: var(--fill-color);\n",
              "    animation:\n",
              "      spin 1s steps(1) infinite;\n",
              "  }\n",
              "\n",
              "  @keyframes spin {\n",
              "    0% {\n",
              "      border-color: transparent;\n",
              "      border-bottom-color: var(--fill-color);\n",
              "      border-left-color: var(--fill-color);\n",
              "    }\n",
              "    20% {\n",
              "      border-color: transparent;\n",
              "      border-left-color: var(--fill-color);\n",
              "      border-top-color: var(--fill-color);\n",
              "    }\n",
              "    30% {\n",
              "      border-color: transparent;\n",
              "      border-left-color: var(--fill-color);\n",
              "      border-top-color: var(--fill-color);\n",
              "      border-right-color: var(--fill-color);\n",
              "    }\n",
              "    40% {\n",
              "      border-color: transparent;\n",
              "      border-right-color: var(--fill-color);\n",
              "      border-top-color: var(--fill-color);\n",
              "    }\n",
              "    60% {\n",
              "      border-color: transparent;\n",
              "      border-right-color: var(--fill-color);\n",
              "    }\n",
              "    80% {\n",
              "      border-color: transparent;\n",
              "      border-right-color: var(--fill-color);\n",
              "      border-bottom-color: var(--fill-color);\n",
              "    }\n",
              "    90% {\n",
              "      border-color: transparent;\n",
              "      border-bottom-color: var(--fill-color);\n",
              "    }\n",
              "  }\n",
              "</style>\n",
              "\n",
              "  <script>\n",
              "    async function quickchart(key) {\n",
              "      const quickchartButtonEl =\n",
              "        document.querySelector('#' + key + ' button');\n",
              "      quickchartButtonEl.disabled = true;  // To prevent multiple clicks.\n",
              "      quickchartButtonEl.classList.add('colab-df-spinner');\n",
              "      try {\n",
              "        const charts = await google.colab.kernel.invokeFunction(\n",
              "            'suggestCharts', [key], {});\n",
              "      } catch (error) {\n",
              "        console.error('Error during call to suggestCharts:', error);\n",
              "      }\n",
              "      quickchartButtonEl.classList.remove('colab-df-spinner');\n",
              "      quickchartButtonEl.classList.add('colab-df-quickchart-complete');\n",
              "    }\n",
              "    (() => {\n",
              "      let quickchartButtonEl =\n",
              "        document.querySelector('#df-ce4f1571-8393-430e-8f02-649c4708d17d button');\n",
              "      quickchartButtonEl.style.display =\n",
              "        google.colab.kernel.accessAllowed ? 'block' : 'none';\n",
              "    })();\n",
              "  </script>\n",
              "</div>\n",
              "\n",
              "  <div id=\"id_42bca6cc-9a46-41cd-8088-591c391c996b\">\n",
              "    <style>\n",
              "      .colab-df-generate {\n",
              "        background-color: #E8F0FE;\n",
              "        border: none;\n",
              "        border-radius: 50%;\n",
              "        cursor: pointer;\n",
              "        display: none;\n",
              "        fill: #1967D2;\n",
              "        height: 32px;\n",
              "        padding: 0 0 0 0;\n",
              "        width: 32px;\n",
              "      }\n",
              "\n",
              "      .colab-df-generate:hover {\n",
              "        background-color: #E2EBFA;\n",
              "        box-shadow: 0px 1px 2px rgba(60, 64, 67, 0.3), 0px 1px 3px 1px rgba(60, 64, 67, 0.15);\n",
              "        fill: #174EA6;\n",
              "      }\n",
              "\n",
              "      [theme=dark] .colab-df-generate {\n",
              "        background-color: #3B4455;\n",
              "        fill: #D2E3FC;\n",
              "      }\n",
              "\n",
              "      [theme=dark] .colab-df-generate:hover {\n",
              "        background-color: #434B5C;\n",
              "        box-shadow: 0px 1px 3px 1px rgba(0, 0, 0, 0.15);\n",
              "        filter: drop-shadow(0px 1px 2px rgba(0, 0, 0, 0.3));\n",
              "        fill: #FFFFFF;\n",
              "      }\n",
              "    </style>\n",
              "    <button class=\"colab-df-generate\" onclick=\"generateWithVariable('time_df')\"\n",
              "            title=\"Generate code using this dataframe.\"\n",
              "            style=\"display:none;\">\n",
              "\n",
              "  <svg xmlns=\"http://www.w3.org/2000/svg\" height=\"24px\"viewBox=\"0 0 24 24\"\n",
              "       width=\"24px\">\n",
              "    <path d=\"M7,19H8.4L18.45,9,17,7.55,7,17.6ZM5,21V16.75L18.45,3.32a2,2,0,0,1,2.83,0l1.4,1.43a1.91,1.91,0,0,1,.58,1.4,1.91,1.91,0,0,1-.58,1.4L9.25,21ZM18.45,9,17,7.55Zm-12,3A5.31,5.31,0,0,0,4.9,8.1,5.31,5.31,0,0,0,1,6.5,5.31,5.31,0,0,0,4.9,4.9,5.31,5.31,0,0,0,6.5,1,5.31,5.31,0,0,0,8.1,4.9,5.31,5.31,0,0,0,12,6.5,5.46,5.46,0,0,0,6.5,12Z\"/>\n",
              "  </svg>\n",
              "    </button>\n",
              "    <script>\n",
              "      (() => {\n",
              "      const buttonEl =\n",
              "        document.querySelector('#id_42bca6cc-9a46-41cd-8088-591c391c996b button.colab-df-generate');\n",
              "      buttonEl.style.display =\n",
              "        google.colab.kernel.accessAllowed ? 'block' : 'none';\n",
              "\n",
              "      buttonEl.onclick = () => {\n",
              "        google.colab.notebook.generateWithVariable('time_df');\n",
              "      }\n",
              "      })();\n",
              "    </script>\n",
              "  </div>\n",
              "\n",
              "    </div>\n",
              "  </div>\n"
            ],
            "application/vnd.google.colaboratory.intrinsic+json": {
              "type": "dataframe",
              "variable_name": "time_df",
              "summary": "{\n  \"name\": \"time_df\",\n  \"rows\": 3,\n  \"fields\": [\n    {\n      \"column\": \"Model Type\",\n      \"properties\": {\n        \"dtype\": \"string\",\n        \"num_unique_values\": 3,\n        \"samples\": [\n          \"PyBind11\",\n          \"Cython\",\n          \"Pure Python\"\n        ],\n        \"semantic_type\": \"\",\n        \"description\": \"\"\n      }\n    },\n    {\n      \"column\": \"Training Time (s)\",\n      \"properties\": {\n        \"dtype\": \"number\",\n        \"std\": 0.47218209844396924,\n        \"min\": 0.010261476000010816,\n        \"max\": 0.8297853789999863,\n        \"num_unique_values\": 3,\n        \"samples\": [\n          0.010261476000010816,\n          0.013632935999993379,\n          0.8297853789999863\n        ],\n        \"semantic_type\": \"\",\n        \"description\": \"\"\n      }\n    },\n    {\n      \"column\": \"Prediction Time (s)\",\n      \"properties\": {\n        \"dtype\": \"number\",\n        \"std\": 0.4465627535497972,\n        \"min\": 0.010696247999987918,\n        \"max\": 0.7842352970000093,\n        \"num_unique_values\": 3,\n        \"samples\": [\n          0.010696247999987918,\n          0.010835608999997248,\n          0.7842352970000093\n        ],\n        \"semantic_type\": \"\",\n        \"description\": \"\"\n      }\n    }\n  ]\n}"
            }
          },
          "metadata": {}
        }
      ]
    }
  ]
}