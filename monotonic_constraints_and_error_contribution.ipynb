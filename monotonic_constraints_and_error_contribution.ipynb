{
  "nbformat": 4,
  "nbformat_minor": 0,
  "metadata": {
    "colab": {
      "provenance": [],
      "toc_visible": true,
      "machine_shape": "hm"
    },
    "kernelspec": {
      "name": "python3",
      "display_name": "Python 3"
    },
    "language_info": {
      "name": "python"
    }
  },
  "cells": [
    {
      "cell_type": "markdown",
      "source": [
        "# Imports"
      ],
      "metadata": {
        "id": "-FeOzY4xyDYI"
      }
    },
    {
      "cell_type": "code",
      "source": [
        "!pip install -q shap dask[dataframe]"
      ],
      "metadata": {
        "id": "7iKa-fGSyFI4"
      },
      "execution_count": 1,
      "outputs": []
    },
    {
      "cell_type": "code",
      "source": [
        "import numpy as np\n",
        "import pandas as pd\n",
        "from sklearn.datasets import fetch_california_housing\n",
        "from sklearn.model_selection import train_test_split\n",
        "from sklearn.dummy import DummyRegressor\n",
        "from sklearn.metrics import r2_score, mean_squared_error\n",
        "from scipy.optimize import minimize\n",
        "import matplotlib.pyplot as plt\n",
        "import lightgbm as lgb\n",
        "from lightgbm import early_stopping, log_evaluation\n",
        "import shap"
      ],
      "metadata": {
        "id": "b2WpN3jmyMnD"
      },
      "execution_count": 2,
      "outputs": []
    },
    {
      "cell_type": "markdown",
      "source": [
        "# Load the Data"
      ],
      "metadata": {
        "id": "HoNLieLayZsj"
      }
    },
    {
      "cell_type": "code",
      "source": [
        "# Load the California Housing dataset\n",
        "data = fetch_california_housing(as_frame=True)\n",
        "df = data.frame\n",
        "\n",
        "df.head()"
      ],
      "metadata": {
        "colab": {
          "base_uri": "https://localhost:8080/",
          "height": 206
        },
        "id": "9h7kYtzuybg9",
        "outputId": "ac43f17e-d62b-4552-85cf-910178709812"
      },
      "execution_count": 3,
      "outputs": [
        {
          "output_type": "execute_result",
          "data": {
            "text/plain": [
              "   MedInc  HouseAge  AveRooms  AveBedrms  Population  AveOccup  Latitude  \\\n",
              "0  8.3252      41.0  6.984127   1.023810       322.0  2.555556     37.88   \n",
              "1  8.3014      21.0  6.238137   0.971880      2401.0  2.109842     37.86   \n",
              "2  7.2574      52.0  8.288136   1.073446       496.0  2.802260     37.85   \n",
              "3  5.6431      52.0  5.817352   1.073059       558.0  2.547945     37.85   \n",
              "4  3.8462      52.0  6.281853   1.081081       565.0  2.181467     37.85   \n",
              "\n",
              "   Longitude  MedHouseVal  \n",
              "0    -122.23        4.526  \n",
              "1    -122.22        3.585  \n",
              "2    -122.24        3.521  \n",
              "3    -122.25        3.413  \n",
              "4    -122.25        3.422  "
            ],
            "text/html": [
              "\n",
              "  <div id=\"df-7ee6a6e2-4532-4637-83c3-720f0e860386\" class=\"colab-df-container\">\n",
              "    <div>\n",
              "<style scoped>\n",
              "    .dataframe tbody tr th:only-of-type {\n",
              "        vertical-align: middle;\n",
              "    }\n",
              "\n",
              "    .dataframe tbody tr th {\n",
              "        vertical-align: top;\n",
              "    }\n",
              "\n",
              "    .dataframe thead th {\n",
              "        text-align: right;\n",
              "    }\n",
              "</style>\n",
              "<table border=\"1\" class=\"dataframe\">\n",
              "  <thead>\n",
              "    <tr style=\"text-align: right;\">\n",
              "      <th></th>\n",
              "      <th>MedInc</th>\n",
              "      <th>HouseAge</th>\n",
              "      <th>AveRooms</th>\n",
              "      <th>AveBedrms</th>\n",
              "      <th>Population</th>\n",
              "      <th>AveOccup</th>\n",
              "      <th>Latitude</th>\n",
              "      <th>Longitude</th>\n",
              "      <th>MedHouseVal</th>\n",
              "    </tr>\n",
              "  </thead>\n",
              "  <tbody>\n",
              "    <tr>\n",
              "      <th>0</th>\n",
              "      <td>8.3252</td>\n",
              "      <td>41.0</td>\n",
              "      <td>6.984127</td>\n",
              "      <td>1.023810</td>\n",
              "      <td>322.0</td>\n",
              "      <td>2.555556</td>\n",
              "      <td>37.88</td>\n",
              "      <td>-122.23</td>\n",
              "      <td>4.526</td>\n",
              "    </tr>\n",
              "    <tr>\n",
              "      <th>1</th>\n",
              "      <td>8.3014</td>\n",
              "      <td>21.0</td>\n",
              "      <td>6.238137</td>\n",
              "      <td>0.971880</td>\n",
              "      <td>2401.0</td>\n",
              "      <td>2.109842</td>\n",
              "      <td>37.86</td>\n",
              "      <td>-122.22</td>\n",
              "      <td>3.585</td>\n",
              "    </tr>\n",
              "    <tr>\n",
              "      <th>2</th>\n",
              "      <td>7.2574</td>\n",
              "      <td>52.0</td>\n",
              "      <td>8.288136</td>\n",
              "      <td>1.073446</td>\n",
              "      <td>496.0</td>\n",
              "      <td>2.802260</td>\n",
              "      <td>37.85</td>\n",
              "      <td>-122.24</td>\n",
              "      <td>3.521</td>\n",
              "    </tr>\n",
              "    <tr>\n",
              "      <th>3</th>\n",
              "      <td>5.6431</td>\n",
              "      <td>52.0</td>\n",
              "      <td>5.817352</td>\n",
              "      <td>1.073059</td>\n",
              "      <td>558.0</td>\n",
              "      <td>2.547945</td>\n",
              "      <td>37.85</td>\n",
              "      <td>-122.25</td>\n",
              "      <td>3.413</td>\n",
              "    </tr>\n",
              "    <tr>\n",
              "      <th>4</th>\n",
              "      <td>3.8462</td>\n",
              "      <td>52.0</td>\n",
              "      <td>6.281853</td>\n",
              "      <td>1.081081</td>\n",
              "      <td>565.0</td>\n",
              "      <td>2.181467</td>\n",
              "      <td>37.85</td>\n",
              "      <td>-122.25</td>\n",
              "      <td>3.422</td>\n",
              "    </tr>\n",
              "  </tbody>\n",
              "</table>\n",
              "</div>\n",
              "    <div class=\"colab-df-buttons\">\n",
              "\n",
              "  <div class=\"colab-df-container\">\n",
              "    <button class=\"colab-df-convert\" onclick=\"convertToInteractive('df-7ee6a6e2-4532-4637-83c3-720f0e860386')\"\n",
              "            title=\"Convert this dataframe to an interactive table.\"\n",
              "            style=\"display:none;\">\n",
              "\n",
              "  <svg xmlns=\"http://www.w3.org/2000/svg\" height=\"24px\" viewBox=\"0 -960 960 960\">\n",
              "    <path d=\"M120-120v-720h720v720H120Zm60-500h600v-160H180v160Zm220 220h160v-160H400v160Zm0 220h160v-160H400v160ZM180-400h160v-160H180v160Zm440 0h160v-160H620v160ZM180-180h160v-160H180v160Zm440 0h160v-160H620v160Z\"/>\n",
              "  </svg>\n",
              "    </button>\n",
              "\n",
              "  <style>\n",
              "    .colab-df-container {\n",
              "      display:flex;\n",
              "      gap: 12px;\n",
              "    }\n",
              "\n",
              "    .colab-df-convert {\n",
              "      background-color: #E8F0FE;\n",
              "      border: none;\n",
              "      border-radius: 50%;\n",
              "      cursor: pointer;\n",
              "      display: none;\n",
              "      fill: #1967D2;\n",
              "      height: 32px;\n",
              "      padding: 0 0 0 0;\n",
              "      width: 32px;\n",
              "    }\n",
              "\n",
              "    .colab-df-convert:hover {\n",
              "      background-color: #E2EBFA;\n",
              "      box-shadow: 0px 1px 2px rgba(60, 64, 67, 0.3), 0px 1px 3px 1px rgba(60, 64, 67, 0.15);\n",
              "      fill: #174EA6;\n",
              "    }\n",
              "\n",
              "    .colab-df-buttons div {\n",
              "      margin-bottom: 4px;\n",
              "    }\n",
              "\n",
              "    [theme=dark] .colab-df-convert {\n",
              "      background-color: #3B4455;\n",
              "      fill: #D2E3FC;\n",
              "    }\n",
              "\n",
              "    [theme=dark] .colab-df-convert:hover {\n",
              "      background-color: #434B5C;\n",
              "      box-shadow: 0px 1px 3px 1px rgba(0, 0, 0, 0.15);\n",
              "      filter: drop-shadow(0px 1px 2px rgba(0, 0, 0, 0.3));\n",
              "      fill: #FFFFFF;\n",
              "    }\n",
              "  </style>\n",
              "\n",
              "    <script>\n",
              "      const buttonEl =\n",
              "        document.querySelector('#df-7ee6a6e2-4532-4637-83c3-720f0e860386 button.colab-df-convert');\n",
              "      buttonEl.style.display =\n",
              "        google.colab.kernel.accessAllowed ? 'block' : 'none';\n",
              "\n",
              "      async function convertToInteractive(key) {\n",
              "        const element = document.querySelector('#df-7ee6a6e2-4532-4637-83c3-720f0e860386');\n",
              "        const dataTable =\n",
              "          await google.colab.kernel.invokeFunction('convertToInteractive',\n",
              "                                                    [key], {});\n",
              "        if (!dataTable) return;\n",
              "\n",
              "        const docLinkHtml = 'Like what you see? Visit the ' +\n",
              "          '<a target=\"_blank\" href=https://colab.research.google.com/notebooks/data_table.ipynb>data table notebook</a>'\n",
              "          + ' to learn more about interactive tables.';\n",
              "        element.innerHTML = '';\n",
              "        dataTable['output_type'] = 'display_data';\n",
              "        await google.colab.output.renderOutput(dataTable, element);\n",
              "        const docLink = document.createElement('div');\n",
              "        docLink.innerHTML = docLinkHtml;\n",
              "        element.appendChild(docLink);\n",
              "      }\n",
              "    </script>\n",
              "  </div>\n",
              "\n",
              "\n",
              "<div id=\"df-24b80053-5a79-4287-9e99-546666539c78\">\n",
              "  <button class=\"colab-df-quickchart\" onclick=\"quickchart('df-24b80053-5a79-4287-9e99-546666539c78')\"\n",
              "            title=\"Suggest charts\"\n",
              "            style=\"display:none;\">\n",
              "\n",
              "<svg xmlns=\"http://www.w3.org/2000/svg\" height=\"24px\"viewBox=\"0 0 24 24\"\n",
              "     width=\"24px\">\n",
              "    <g>\n",
              "        <path d=\"M19 3H5c-1.1 0-2 .9-2 2v14c0 1.1.9 2 2 2h14c1.1 0 2-.9 2-2V5c0-1.1-.9-2-2-2zM9 17H7v-7h2v7zm4 0h-2V7h2v10zm4 0h-2v-4h2v4z\"/>\n",
              "    </g>\n",
              "</svg>\n",
              "  </button>\n",
              "\n",
              "<style>\n",
              "  .colab-df-quickchart {\n",
              "      --bg-color: #E8F0FE;\n",
              "      --fill-color: #1967D2;\n",
              "      --hover-bg-color: #E2EBFA;\n",
              "      --hover-fill-color: #174EA6;\n",
              "      --disabled-fill-color: #AAA;\n",
              "      --disabled-bg-color: #DDD;\n",
              "  }\n",
              "\n",
              "  [theme=dark] .colab-df-quickchart {\n",
              "      --bg-color: #3B4455;\n",
              "      --fill-color: #D2E3FC;\n",
              "      --hover-bg-color: #434B5C;\n",
              "      --hover-fill-color: #FFFFFF;\n",
              "      --disabled-bg-color: #3B4455;\n",
              "      --disabled-fill-color: #666;\n",
              "  }\n",
              "\n",
              "  .colab-df-quickchart {\n",
              "    background-color: var(--bg-color);\n",
              "    border: none;\n",
              "    border-radius: 50%;\n",
              "    cursor: pointer;\n",
              "    display: none;\n",
              "    fill: var(--fill-color);\n",
              "    height: 32px;\n",
              "    padding: 0;\n",
              "    width: 32px;\n",
              "  }\n",
              "\n",
              "  .colab-df-quickchart:hover {\n",
              "    background-color: var(--hover-bg-color);\n",
              "    box-shadow: 0 1px 2px rgba(60, 64, 67, 0.3), 0 1px 3px 1px rgba(60, 64, 67, 0.15);\n",
              "    fill: var(--button-hover-fill-color);\n",
              "  }\n",
              "\n",
              "  .colab-df-quickchart-complete:disabled,\n",
              "  .colab-df-quickchart-complete:disabled:hover {\n",
              "    background-color: var(--disabled-bg-color);\n",
              "    fill: var(--disabled-fill-color);\n",
              "    box-shadow: none;\n",
              "  }\n",
              "\n",
              "  .colab-df-spinner {\n",
              "    border: 2px solid var(--fill-color);\n",
              "    border-color: transparent;\n",
              "    border-bottom-color: var(--fill-color);\n",
              "    animation:\n",
              "      spin 1s steps(1) infinite;\n",
              "  }\n",
              "\n",
              "  @keyframes spin {\n",
              "    0% {\n",
              "      border-color: transparent;\n",
              "      border-bottom-color: var(--fill-color);\n",
              "      border-left-color: var(--fill-color);\n",
              "    }\n",
              "    20% {\n",
              "      border-color: transparent;\n",
              "      border-left-color: var(--fill-color);\n",
              "      border-top-color: var(--fill-color);\n",
              "    }\n",
              "    30% {\n",
              "      border-color: transparent;\n",
              "      border-left-color: var(--fill-color);\n",
              "      border-top-color: var(--fill-color);\n",
              "      border-right-color: var(--fill-color);\n",
              "    }\n",
              "    40% {\n",
              "      border-color: transparent;\n",
              "      border-right-color: var(--fill-color);\n",
              "      border-top-color: var(--fill-color);\n",
              "    }\n",
              "    60% {\n",
              "      border-color: transparent;\n",
              "      border-right-color: var(--fill-color);\n",
              "    }\n",
              "    80% {\n",
              "      border-color: transparent;\n",
              "      border-right-color: var(--fill-color);\n",
              "      border-bottom-color: var(--fill-color);\n",
              "    }\n",
              "    90% {\n",
              "      border-color: transparent;\n",
              "      border-bottom-color: var(--fill-color);\n",
              "    }\n",
              "  }\n",
              "</style>\n",
              "\n",
              "  <script>\n",
              "    async function quickchart(key) {\n",
              "      const quickchartButtonEl =\n",
              "        document.querySelector('#' + key + ' button');\n",
              "      quickchartButtonEl.disabled = true;  // To prevent multiple clicks.\n",
              "      quickchartButtonEl.classList.add('colab-df-spinner');\n",
              "      try {\n",
              "        const charts = await google.colab.kernel.invokeFunction(\n",
              "            'suggestCharts', [key], {});\n",
              "      } catch (error) {\n",
              "        console.error('Error during call to suggestCharts:', error);\n",
              "      }\n",
              "      quickchartButtonEl.classList.remove('colab-df-spinner');\n",
              "      quickchartButtonEl.classList.add('colab-df-quickchart-complete');\n",
              "    }\n",
              "    (() => {\n",
              "      let quickchartButtonEl =\n",
              "        document.querySelector('#df-24b80053-5a79-4287-9e99-546666539c78 button');\n",
              "      quickchartButtonEl.style.display =\n",
              "        google.colab.kernel.accessAllowed ? 'block' : 'none';\n",
              "    })();\n",
              "  </script>\n",
              "</div>\n",
              "\n",
              "    </div>\n",
              "  </div>\n"
            ],
            "application/vnd.google.colaboratory.intrinsic+json": {
              "type": "dataframe",
              "variable_name": "df",
              "summary": "{\n  \"name\": \"df\",\n  \"rows\": 20640,\n  \"fields\": [\n    {\n      \"column\": \"MedInc\",\n      \"properties\": {\n        \"dtype\": \"number\",\n        \"std\": 1.8998217179452688,\n        \"min\": 0.4999,\n        \"max\": 15.0001,\n        \"num_unique_values\": 12928,\n        \"samples\": [\n          5.0286,\n          2.0433,\n          6.1228\n        ],\n        \"semantic_type\": \"\",\n        \"description\": \"\"\n      }\n    },\n    {\n      \"column\": \"HouseAge\",\n      \"properties\": {\n        \"dtype\": \"number\",\n        \"std\": 12.58555761211165,\n        \"min\": 1.0,\n        \"max\": 52.0,\n        \"num_unique_values\": 52,\n        \"samples\": [\n          35.0,\n          25.0,\n          7.0\n        ],\n        \"semantic_type\": \"\",\n        \"description\": \"\"\n      }\n    },\n    {\n      \"column\": \"AveRooms\",\n      \"properties\": {\n        \"dtype\": \"number\",\n        \"std\": 2.4741731394243187,\n        \"min\": 0.8461538461538461,\n        \"max\": 141.9090909090909,\n        \"num_unique_values\": 19392,\n        \"samples\": [\n          6.111269614835948,\n          5.912820512820513,\n          5.7924528301886795\n        ],\n        \"semantic_type\": \"\",\n        \"description\": \"\"\n      }\n    },\n    {\n      \"column\": \"AveBedrms\",\n      \"properties\": {\n        \"dtype\": \"number\",\n        \"std\": 0.473910856795466,\n        \"min\": 0.3333333333333333,\n        \"max\": 34.06666666666667,\n        \"num_unique_values\": 14233,\n        \"samples\": [\n          0.9906542056074766,\n          1.112099644128114,\n          1.0398230088495575\n        ],\n        \"semantic_type\": \"\",\n        \"description\": \"\"\n      }\n    },\n    {\n      \"column\": \"Population\",\n      \"properties\": {\n        \"dtype\": \"number\",\n        \"std\": 1132.462121765341,\n        \"min\": 3.0,\n        \"max\": 35682.0,\n        \"num_unique_values\": 3888,\n        \"samples\": [\n          4169.0,\n          636.0,\n          3367.0\n        ],\n        \"semantic_type\": \"\",\n        \"description\": \"\"\n      }\n    },\n    {\n      \"column\": \"AveOccup\",\n      \"properties\": {\n        \"dtype\": \"number\",\n        \"std\": 10.386049562213618,\n        \"min\": 0.6923076923076923,\n        \"max\": 1243.3333333333333,\n        \"num_unique_values\": 18841,\n        \"samples\": [\n          2.6939799331103678,\n          3.559375,\n          3.297082228116711\n        ],\n        \"semantic_type\": \"\",\n        \"description\": \"\"\n      }\n    },\n    {\n      \"column\": \"Latitude\",\n      \"properties\": {\n        \"dtype\": \"number\",\n        \"std\": 2.1359523974571153,\n        \"min\": 32.54,\n        \"max\": 41.95,\n        \"num_unique_values\": 862,\n        \"samples\": [\n          33.7,\n          34.41,\n          38.24\n        ],\n        \"semantic_type\": \"\",\n        \"description\": \"\"\n      }\n    },\n    {\n      \"column\": \"Longitude\",\n      \"properties\": {\n        \"dtype\": \"number\",\n        \"std\": 2.0035317235025882,\n        \"min\": -124.35,\n        \"max\": -114.31,\n        \"num_unique_values\": 844,\n        \"samples\": [\n          -118.63,\n          -119.86,\n          -121.26\n        ],\n        \"semantic_type\": \"\",\n        \"description\": \"\"\n      }\n    },\n    {\n      \"column\": \"MedHouseVal\",\n      \"properties\": {\n        \"dtype\": \"number\",\n        \"std\": 1.1539561587441387,\n        \"min\": 0.14999,\n        \"max\": 5.00001,\n        \"num_unique_values\": 3842,\n        \"samples\": [\n          1.943,\n          3.79,\n          2.301\n        ],\n        \"semantic_type\": \"\",\n        \"description\": \"\"\n      }\n    }\n  ]\n}"
            }
          },
          "metadata": {},
          "execution_count": 3
        }
      ]
    },
    {
      "cell_type": "markdown",
      "source": [
        "# Prepare the Data"
      ],
      "metadata": {
        "id": "v_eIXiKtyftw"
      }
    },
    {
      "cell_type": "code",
      "source": [
        "# Define features and target variable\n",
        "X = df.drop('MedHouseVal', axis=1)\n",
        "y = df['MedHouseVal']\n",
        "\n",
        "# List of feature names\n",
        "feature_names = X.columns.tolist()"
      ],
      "metadata": {
        "id": "m8vsZxv8yklN"
      },
      "execution_count": 4,
      "outputs": []
    },
    {
      "cell_type": "code",
      "source": [
        "# Split the data into training (60%), validation (20%), and testing sets (20%)\n",
        "X_temp, X_test, y_temp, y_test = train_test_split(\n",
        "    X, y, test_size=0.2, random_state=42\n",
        ")\n",
        "X_train, X_val, y_train, y_val = train_test_split(\n",
        "    X_temp, y_temp, test_size=0.25, random_state=42\n",
        ")"
      ],
      "metadata": {
        "id": "kHm3R-NKyr0P"
      },
      "execution_count": 5,
      "outputs": []
    },
    {
      "cell_type": "code",
      "source": [
        "# Print shapes\n",
        "print(\"Training set shape:\", X_train.shape)\n",
        "print(\"Validation set shape:\", X_val.shape)\n",
        "print(\"Test set shape:\", X_test.shape)"
      ],
      "metadata": {
        "colab": {
          "base_uri": "https://localhost:8080/"
        },
        "id": "JTVpvvar4HyE",
        "outputId": "8c55131e-b30c-4de9-b87b-004cb4f2e4dc"
      },
      "execution_count": 6,
      "outputs": [
        {
          "output_type": "stream",
          "name": "stdout",
          "text": [
            "Training set shape: (12384, 8)\n",
            "Validation set shape: (4128, 8)\n",
            "Test set shape: (4128, 8)\n"
          ]
        }
      ]
    },
    {
      "cell_type": "code",
      "source": [
        "# Add an intercept term to the features for the linear regression model\n",
        "X_train_lr = X_train.copy()\n",
        "X_val_lr = X_val.copy()\n",
        "X_test_lr = X_test.copy()\n",
        "X_train_lr['Intercept'] = 1\n",
        "X_val_lr['Intercept'] = 1\n",
        "X_test_lr['Intercept'] = 1\n",
        "\n",
        "# Update feature names for linear regression\n",
        "feature_names_lr = X_train_lr.columns.tolist()"
      ],
      "metadata": {
        "id": "NKttFjzWzx1I"
      },
      "execution_count": 7,
      "outputs": []
    },
    {
      "cell_type": "code",
      "source": [
        "# Compute correlations excluding the intercept term\n",
        "correlations = X_train_lr.drop(columns=['Intercept']).corrwith(y_train)\n",
        "print(correlations)"
      ],
      "metadata": {
        "colab": {
          "base_uri": "https://localhost:8080/"
        },
        "id": "HqtnvVbr4qSl",
        "outputId": "35192446-4d18-44e0-d4be-70608d238c0c"
      },
      "execution_count": 8,
      "outputs": [
        {
          "output_type": "stream",
          "name": "stdout",
          "text": [
            "MedInc        0.689202\n",
            "HouseAge      0.106235\n",
            "AveRooms      0.179062\n",
            "AveBedrms    -0.061139\n",
            "Population   -0.033653\n",
            "AveOccup     -0.030561\n",
            "Latitude     -0.144455\n",
            "Longitude    -0.044328\n",
            "dtype: float64\n"
          ]
        }
      ]
    },
    {
      "cell_type": "markdown",
      "source": [
        "# Train the Model"
      ],
      "metadata": {
        "id": "c40n-Cogz5IV"
      }
    },
    {
      "cell_type": "markdown",
      "source": [
        "## Dummy Model"
      ],
      "metadata": {
        "id": "lFZ_h82SCMqq"
      }
    },
    {
      "cell_type": "code",
      "source": [
        "# Create and train a dummy regressor on the training set\n",
        "dummy_model = DummyRegressor(strategy='mean')\n",
        "dummy_model.fit(X_train, y_train)"
      ],
      "metadata": {
        "colab": {
          "base_uri": "https://localhost:8080/",
          "height": 75
        },
        "id": "6mkeSX3q1NK8",
        "outputId": "92cf084d-ff72-443e-a0b0-8924832c73bc"
      },
      "execution_count": 9,
      "outputs": [
        {
          "output_type": "execute_result",
          "data": {
            "text/plain": [
              "DummyRegressor()"
            ],
            "text/html": [
              "<style>#sk-container-id-1 {color: black;}#sk-container-id-1 pre{padding: 0;}#sk-container-id-1 div.sk-toggleable {background-color: white;}#sk-container-id-1 label.sk-toggleable__label {cursor: pointer;display: block;width: 100%;margin-bottom: 0;padding: 0.3em;box-sizing: border-box;text-align: center;}#sk-container-id-1 label.sk-toggleable__label-arrow:before {content: \"▸\";float: left;margin-right: 0.25em;color: #696969;}#sk-container-id-1 label.sk-toggleable__label-arrow:hover:before {color: black;}#sk-container-id-1 div.sk-estimator:hover label.sk-toggleable__label-arrow:before {color: black;}#sk-container-id-1 div.sk-toggleable__content {max-height: 0;max-width: 0;overflow: hidden;text-align: left;background-color: #f0f8ff;}#sk-container-id-1 div.sk-toggleable__content pre {margin: 0.2em;color: black;border-radius: 0.25em;background-color: #f0f8ff;}#sk-container-id-1 input.sk-toggleable__control:checked~div.sk-toggleable__content {max-height: 200px;max-width: 100%;overflow: auto;}#sk-container-id-1 input.sk-toggleable__control:checked~label.sk-toggleable__label-arrow:before {content: \"▾\";}#sk-container-id-1 div.sk-estimator input.sk-toggleable__control:checked~label.sk-toggleable__label {background-color: #d4ebff;}#sk-container-id-1 div.sk-label input.sk-toggleable__control:checked~label.sk-toggleable__label {background-color: #d4ebff;}#sk-container-id-1 input.sk-hidden--visually {border: 0;clip: rect(1px 1px 1px 1px);clip: rect(1px, 1px, 1px, 1px);height: 1px;margin: -1px;overflow: hidden;padding: 0;position: absolute;width: 1px;}#sk-container-id-1 div.sk-estimator {font-family: monospace;background-color: #f0f8ff;border: 1px dotted black;border-radius: 0.25em;box-sizing: border-box;margin-bottom: 0.5em;}#sk-container-id-1 div.sk-estimator:hover {background-color: #d4ebff;}#sk-container-id-1 div.sk-parallel-item::after {content: \"\";width: 100%;border-bottom: 1px solid gray;flex-grow: 1;}#sk-container-id-1 div.sk-label:hover label.sk-toggleable__label {background-color: #d4ebff;}#sk-container-id-1 div.sk-serial::before {content: \"\";position: absolute;border-left: 1px solid gray;box-sizing: border-box;top: 0;bottom: 0;left: 50%;z-index: 0;}#sk-container-id-1 div.sk-serial {display: flex;flex-direction: column;align-items: center;background-color: white;padding-right: 0.2em;padding-left: 0.2em;position: relative;}#sk-container-id-1 div.sk-item {position: relative;z-index: 1;}#sk-container-id-1 div.sk-parallel {display: flex;align-items: stretch;justify-content: center;background-color: white;position: relative;}#sk-container-id-1 div.sk-item::before, #sk-container-id-1 div.sk-parallel-item::before {content: \"\";position: absolute;border-left: 1px solid gray;box-sizing: border-box;top: 0;bottom: 0;left: 50%;z-index: -1;}#sk-container-id-1 div.sk-parallel-item {display: flex;flex-direction: column;z-index: 1;position: relative;background-color: white;}#sk-container-id-1 div.sk-parallel-item:first-child::after {align-self: flex-end;width: 50%;}#sk-container-id-1 div.sk-parallel-item:last-child::after {align-self: flex-start;width: 50%;}#sk-container-id-1 div.sk-parallel-item:only-child::after {width: 0;}#sk-container-id-1 div.sk-dashed-wrapped {border: 1px dashed gray;margin: 0 0.4em 0.5em 0.4em;box-sizing: border-box;padding-bottom: 0.4em;background-color: white;}#sk-container-id-1 div.sk-label label {font-family: monospace;font-weight: bold;display: inline-block;line-height: 1.2em;}#sk-container-id-1 div.sk-label-container {text-align: center;}#sk-container-id-1 div.sk-container {/* jupyter's `normalize.less` sets `[hidden] { display: none; }` but bootstrap.min.css set `[hidden] { display: none !important; }` so we also need the `!important` here to be able to override the default hidden behavior on the sphinx rendered scikit-learn.org. See: https://github.com/scikit-learn/scikit-learn/issues/21755 */display: inline-block !important;position: relative;}#sk-container-id-1 div.sk-text-repr-fallback {display: none;}</style><div id=\"sk-container-id-1\" class=\"sk-top-container\"><div class=\"sk-text-repr-fallback\"><pre>DummyRegressor()</pre><b>In a Jupyter environment, please rerun this cell to show the HTML representation or trust the notebook. <br />On GitHub, the HTML representation is unable to render, please try loading this page with nbviewer.org.</b></div><div class=\"sk-container\" hidden><div class=\"sk-item\"><div class=\"sk-estimator sk-toggleable\"><input class=\"sk-toggleable__control sk-hidden--visually\" id=\"sk-estimator-id-1\" type=\"checkbox\" checked><label for=\"sk-estimator-id-1\" class=\"sk-toggleable__label sk-toggleable__label-arrow\">DummyRegressor</label><div class=\"sk-toggleable__content\"><pre>DummyRegressor()</pre></div></div></div></div></div>"
            ]
          },
          "metadata": {},
          "execution_count": 9
        }
      ]
    },
    {
      "cell_type": "markdown",
      "source": [
        "## Linear Regression Model"
      ],
      "metadata": {
        "id": "7XyPdEdXCOWu"
      }
    },
    {
      "cell_type": "code",
      "source": [
        "# Function to train a constrained linear regression model\n",
        "def train_constrained_linear_model(X_train, y_train, monotonicity):\n",
        "    \"\"\"\n",
        "    Train a linear regression model with monotonic constraints using constrained optimization.\n",
        "\n",
        "    Parameters:\n",
        "    X_train (DataFrame): Training features with intercept term.\n",
        "    y_train (Series): Training target variable.\n",
        "    monotonicity (list): List of monotonicity constraints for each feature:\n",
        "                         1 for non-negative coefficients,\n",
        "                        -1 for non-positive coefficients,\n",
        "                         0 for no constraint.\n",
        "\n",
        "    Returns:\n",
        "    coef (ndarray): Optimized coefficients.\n",
        "    \"\"\"\n",
        "    # Define the loss function (sum of squared errors)\n",
        "    def loss_function(coef, X, y):\n",
        "        predictions = X @ coef\n",
        "        residuals = y - predictions\n",
        "        return np.sum(residuals ** 2)\n",
        "\n",
        "    # Initial guess for coefficients\n",
        "    initial_coef = np.zeros(X_train.shape[1])\n",
        "\n",
        "    # Set up constraints based on monotonicity\n",
        "    constraints = []\n",
        "    for i, m in enumerate(monotonicity):\n",
        "        if m == 1:\n",
        "            # Coefficient must be >= 0\n",
        "            constraints.append({'type': 'ineq', 'fun': lambda c, i=i: c[i]})\n",
        "        elif m == -1:\n",
        "            # Coefficient must be <= 0\n",
        "            constraints.append({'type': 'ineq', 'fun': lambda c, i=i: -c[i]})\n",
        "        # No constraint if m == 0\n",
        "\n",
        "    # Perform constrained optimization\n",
        "    result = minimize(\n",
        "        loss_function,\n",
        "        initial_coef,\n",
        "        args=(X_train.values, y_train.values),\n",
        "        method='SLSQP',\n",
        "        constraints=constraints,\n",
        "        options={'maxiter': 1000}\n",
        "    )\n",
        "\n",
        "    # Check if optimization was successful\n",
        "    if not result.success:\n",
        "        print(\"Optimization failed:\", result.message)\n",
        "\n",
        "    coef = result.x\n",
        "    return coef"
      ],
      "metadata": {
        "id": "OX0e6jag0Gp_"
      },
      "execution_count": 10,
      "outputs": []
    },
    {
      "cell_type": "code",
      "source": [
        "# Define monotonicity constraints for each feature (including intercept)\n",
        "# MedInc has a constraint of 1 (coefficient >= 0)\n",
        "# Other features and intercept have no constraint (0)\n",
        "monotonicity_lr = [1, 0, 0, 0, 0, 0, 0, 0, 0]  # Including intercept\n",
        "\n",
        "# Train the constrained linear regression model\n",
        "coef_lr = train_constrained_linear_model(X_train_lr, y_train, monotonicity_lr)\n",
        "\n",
        "# Convert coefficients to pandas Series for easy handling\n",
        "coef_series_lr = pd.Series(coef_lr, index=feature_names_lr)"
      ],
      "metadata": {
        "id": "2o7Y5B040BuX"
      },
      "execution_count": 11,
      "outputs": []
    },
    {
      "cell_type": "markdown",
      "source": [
        "## LightGBM Model"
      ],
      "metadata": {
        "id": "P8_x01e8CRNA"
      }
    },
    {
      "cell_type": "code",
      "source": [
        "# Define monotonic constraints for LightGBM (excluding intercept)\n",
        "monotonicity_lgb = [1, 0, 0, 0, 0, 0, 0, 0]  # Excluding intercept\n",
        "\n",
        "# Create LightGBM datasets\n",
        "lgb_train = lgb.Dataset(X_train, label=y_train)\n",
        "lgb_val = lgb.Dataset(X_val, label=y_val, reference=lgb_train)\n",
        "\n",
        "# Set up LightGBM parameters\n",
        "params = {\n",
        "    'objective': 'regression',\n",
        "    'metric': 'rmse',\n",
        "    'monotone_constraints': monotonicity_lgb,\n",
        "    'verbosity': -1\n",
        "}"
      ],
      "metadata": {
        "id": "SgXC9lO21Xof"
      },
      "execution_count": 12,
      "outputs": []
    },
    {
      "cell_type": "code",
      "source": [
        "# Set up callbacks\n",
        "callbacks = [\n",
        "    early_stopping(stopping_rounds=50, first_metric_only=False, verbose=False),\n",
        "    log_evaluation(period=0)  # Set period=0 to disable logging if verbose_eval=False\n",
        "]\n",
        "\n",
        "# Train the LightGBM model\n",
        "model_lgb = lgb.train(\n",
        "    params,\n",
        "    lgb_train,\n",
        "    num_boost_round=1000,\n",
        "    valid_sets=[lgb_train, lgb_val],\n",
        "    callbacks=callbacks\n",
        ")"
      ],
      "metadata": {
        "id": "BduEZFQg1aH4"
      },
      "execution_count": 13,
      "outputs": []
    },
    {
      "cell_type": "markdown",
      "source": [
        "# Make Predictions"
      ],
      "metadata": {
        "id": "2SpMgSRw1nMV"
      }
    },
    {
      "cell_type": "code",
      "source": [
        "# Make predictions with the dummy model on training, validation, and test sets\n",
        "y_dummy_train_pred = dummy_model.predict(X_train)\n",
        "y_dummy_val_pred = dummy_model.predict(X_val)\n",
        "y_dummy_test_pred = dummy_model.predict(X_test)"
      ],
      "metadata": {
        "id": "wwLwjiTW1tB2"
      },
      "execution_count": 14,
      "outputs": []
    },
    {
      "cell_type": "code",
      "source": [
        "# Make predictions on the training, validation, and test sets\n",
        "y_train_pred_lr = X_train_lr @ coef_series_lr\n",
        "y_val_pred_lr = X_val_lr @ coef_series_lr\n",
        "y_test_pred_lr = X_test_lr @ coef_series_lr"
      ],
      "metadata": {
        "id": "XfZcOMXc1nJh"
      },
      "execution_count": 15,
      "outputs": []
    },
    {
      "cell_type": "code",
      "source": [
        "# Make predictions with the LightGBM model\n",
        "y_train_pred_lgb = model_lgb.predict(X_train)\n",
        "y_val_pred_lgb = model_lgb.predict(X_val)\n",
        "y_test_pred_lgb = model_lgb.predict(X_test)"
      ],
      "metadata": {
        "id": "xt4nLcnU1y4E"
      },
      "execution_count": 16,
      "outputs": []
    },
    {
      "cell_type": "markdown",
      "source": [
        "# Evaluate the Model"
      ],
      "metadata": {
        "id": "Y8fixuLV0QmP"
      }
    },
    {
      "cell_type": "markdown",
      "source": [
        "## Utility Functions"
      ],
      "metadata": {
        "id": "FT44pPcX2m78"
      }
    },
    {
      "cell_type": "code",
      "source": [
        "# Function to compute out-of-sample R²\n",
        "def oos_r2_score(y_true, y_pred, y_dummy_pred):\n",
        "    \"\"\"Compute out-of-sample R-squared.\"\"\"\n",
        "    mse_pred = mean_squared_error(y_true, y_pred)\n",
        "    mse_dummy = mean_squared_error(y_true, y_dummy_pred)\n",
        "    oos_r2 = 1 - (mse_pred / mse_dummy)\n",
        "    return oos_r2"
      ],
      "metadata": {
        "id": "aymDRsy20DT-"
      },
      "execution_count": 17,
      "outputs": []
    },
    {
      "cell_type": "code",
      "source": [
        "# Function to compute SHAP values for a linear model\n",
        "def compute_shap_values_linear(coef, X, X_mean):\n",
        "    \"\"\"\n",
        "    Compute SHAP values for a linear model.\n",
        "\n",
        "    Parameters:\n",
        "    coef (Series): Coefficients of the linear model (including intercept).\n",
        "    X (DataFrame): Feature data (including intercept term).\n",
        "    X_mean (Series): Mean of each feature in the training data.\n",
        "\n",
        "    Returns:\n",
        "    shap_values (DataFrame): SHAP values for each feature and instance.\n",
        "    \"\"\"\n",
        "    # SHAP values for linear models: (X - X_mean) * coef\n",
        "    shap_values = (X - X_mean) * coef\n",
        "    return shap_values"
      ],
      "metadata": {
        "id": "9OsE8uG_0TcB"
      },
      "execution_count": 18,
      "outputs": []
    },
    {
      "cell_type": "code",
      "source": [
        "# Function to compute error contributions\n",
        "def compute_error_contributions(y_true, y_pred, shap_values):\n",
        "    \"\"\"\n",
        "    Compute error contributions for each feature.\n",
        "\n",
        "    Parameters:\n",
        "    y_true (Series): True target values.\n",
        "    y_pred (Series): Predicted target values.\n",
        "    shap_values (DataFrame): SHAP values for each feature and instance.\n",
        "\n",
        "    Returns:\n",
        "    error_contribution (Series): Mean error contribution for each feature.\n",
        "    prediction_contribution (Series): Mean absolute SHAP value for each feature.\n",
        "    \"\"\"\n",
        "    # Compute the original absolute error\n",
        "    abs_error = (y_true - y_pred).abs()\n",
        "\n",
        "    # Compute predictions without each feature's contribution\n",
        "    y_pred_wo_feature = pd.DataFrame(index=y_true.index)\n",
        "    for feature in shap_values.columns:\n",
        "        y_pred_wo_feature[feature] = y_pred - shap_values[feature]\n",
        "\n",
        "    # Compute the new absolute error without each feature\n",
        "    abs_error_wo_feature = pd.DataFrame(index=y_true.index)\n",
        "    for feature in shap_values.columns:\n",
        "        abs_error_wo_feature[feature] = (y_true - y_pred_wo_feature[feature]).abs()\n",
        "\n",
        "    # Compute error contribution for each feature\n",
        "    error_contribution = (abs_error.values.reshape(-1, 1) - abs_error_wo_feature).mean()\n",
        "    error_contribution = pd.Series(error_contribution, index=shap_values.columns)\n",
        "    error_contribution = error_contribution.rename('error_contribution')\n",
        "    error_contribution = error_contribution.sort_values(ascending=False)\n",
        "\n",
        "    # Compute prediction contribution (mean absolute SHAP values)\n",
        "    prediction_contribution = shap_values.abs().mean()\n",
        "    prediction_contribution = prediction_contribution.rename('prediction_contribution')\n",
        "    prediction_contribution = prediction_contribution.sort_values(ascending=False)\n",
        "\n",
        "    return error_contribution, prediction_contribution"
      ],
      "metadata": {
        "id": "Zct7NWIW0TS7"
      },
      "execution_count": 19,
      "outputs": []
    },
    {
      "cell_type": "code",
      "source": [
        "# Function to plot contributions\n",
        "def plot_contributions(contributions, dataset_name):\n",
        "    \"\"\"\n",
        "    Plot the relationship between prediction contributions and error contributions for a dataset.\n",
        "\n",
        "    Parameters:\n",
        "    contributions (DataFrame): DataFrame with 'prediction_contribution' and 'error_contribution' columns.\n",
        "    dataset_name (str): Name of the dataset for the plot title.\n",
        "    \"\"\"\n",
        "    fig, ax = plt.subplots()\n",
        "\n",
        "    ax.scatter(\n",
        "        contributions[\"prediction_contribution\"],\n",
        "        contributions[\"error_contribution\"],\n",
        "        s=80, color=\"orange\", edgecolors=\"black\"\n",
        "    )\n",
        "    ax.hlines(\n",
        "        y=0,\n",
        "        xmin=0,\n",
        "        xmax=contributions[\"prediction_contribution\"].max(),\n",
        "        ls=\"--\",\n",
        "        color=\"black\"\n",
        "    )\n",
        "    ax.tick_params(axis=\"both\", which=\"major\", labelsize=12)\n",
        "    ax.grid()\n",
        "    ax.set_axisbelow(True)\n",
        "    ax.set_title(f\"{dataset_name} Dataset\", fontsize=12)\n",
        "    ax.set_xlabel(\"Prediction Contribution\", fontsize=12)\n",
        "    ax.set_ylabel(\"Error Contribution\", fontsize=12)\n",
        "    plt.show()"
      ],
      "metadata": {
        "id": "mX8vr3MC0tQ7"
      },
      "execution_count": 20,
      "outputs": []
    },
    {
      "cell_type": "code",
      "source": [
        "# Function to evaluate model performance\n",
        "def evaluate_model_performance(y_true, y_pred, y_dummy_pred, dataset_name):\n",
        "    \"\"\"\n",
        "    Compute and print the OOS R² and standard R² for a dataset.\n",
        "\n",
        "    Parameters:\n",
        "    y_true (Series): True target values.\n",
        "    y_pred (Series): Predicted target values.\n",
        "    y_dummy_pred (array): Predictions from the dummy regressor.\n",
        "    dataset_name (str): Name of the dataset.\n",
        "    \"\"\"\n",
        "    oos_r2 = oos_r2_score(y_true, y_pred, y_dummy_pred)\n",
        "    standard_r2 = r2_score(y_true, y_pred)\n",
        "    print(f\"Out-of-sample R² on {dataset_name} Set (OOS R²): {oos_r2:.4f}\")\n",
        "    print(f\"Standard R² on {dataset_name} Set: {standard_r2:.4f}\")\n",
        "    return oos_r2, standard_r2"
      ],
      "metadata": {
        "id": "uKATTkVw0tOk"
      },
      "execution_count": 21,
      "outputs": []
    },
    {
      "cell_type": "markdown",
      "source": [
        "## Linear Regression Model"
      ],
      "metadata": {
        "id": "-aS8Sw1i2j0R"
      }
    },
    {
      "cell_type": "code",
      "source": [
        "# Evaluate linear regression model performance on validation and test sets\n",
        "print(\"Constrained Linear Regression Model Performance:\")\n",
        "oos_r2_val_lr, standard_r2_val_lr = evaluate_model_performance(y_val, y_val_pred_lr, y_dummy_val_pred, \"Validation\")\n",
        "oos_r2_test_lr, standard_r2_test_lr = evaluate_model_performance(y_test, y_test_pred_lr, y_dummy_test_pred, \"Test\")"
      ],
      "metadata": {
        "colab": {
          "base_uri": "https://localhost:8080/"
        },
        "id": "M1KTttPz0tLt",
        "outputId": "32620ae8-b622-477d-89a6-d0fbdeff4f93"
      },
      "execution_count": 22,
      "outputs": [
        {
          "output_type": "stream",
          "name": "stdout",
          "text": [
            "Constrained Linear Regression Model Performance:\n",
            "Out-of-sample R² on Validation Set (OOS R²): 0.6143\n",
            "Standard R² on Validation Set: 0.6142\n",
            "Out-of-sample R² on Test Set (OOS R²): 0.5713\n",
            "Standard R² on Test Set: 0.5713\n"
          ]
        }
      ]
    },
    {
      "cell_type": "code",
      "source": [
        "# Compute the mean of each feature in the training data (linear regression)\n",
        "X_train_mean_lr = X_train_lr.mean()\n",
        "\n",
        "# Compute SHAP values for the linear regression model on the validation set\n",
        "shap_values_val_lr = compute_shap_values_linear(coef_series_lr, X_val_lr, X_train_mean_lr)\n",
        "\n",
        "# Ensure y_val and y_val_pred are pandas Series with correct index\n",
        "y_val_pred_lr = pd.Series(y_val_pred_lr, index=y_val.index)"
      ],
      "metadata": {
        "id": "qm34BYx40tI2"
      },
      "execution_count": 23,
      "outputs": []
    },
    {
      "cell_type": "code",
      "source": [
        "# Compute error contributions for the validation set (linear regression)\n",
        "error_contribution_val_lr, prediction_contribution_val_lr = compute_error_contributions(\n",
        "    y_val, y_val_pred_lr, shap_values_val_lr\n",
        ")\n",
        "\n",
        "# Create DataFrame for contributions (linear regression)\n",
        "contributions_val_lr = pd.DataFrame({\n",
        "    'prediction_contribution': prediction_contribution_val_lr,\n",
        "    'error_contribution': error_contribution_val_lr\n",
        "})"
      ],
      "metadata": {
        "id": "AsQ-Eli-0tGC"
      },
      "execution_count": 24,
      "outputs": []
    },
    {
      "cell_type": "code",
      "source": [
        "# Visualization for Validation Set (linear regression)\n",
        "plot_contributions(contributions_val_lr, \"Validation (Linear Regression)\")"
      ],
      "metadata": {
        "colab": {
          "base_uri": "https://localhost:8080/",
          "height": 480
        },
        "id": "uYwlAsaE2JYC",
        "outputId": "af1a4f46-eb72-49a2-e5e8-54e8c94b27dd"
      },
      "execution_count": 25,
      "outputs": [
        {
          "output_type": "display_data",
          "data": {
            "text/plain": [
              "<Figure size 640x480 with 1 Axes>"
            ],
            "image/png": "[encoded data removed]"
          },
          "metadata": {}
        }
      ]
    },
    {
      "cell_type": "code",
      "source": [
        "# Display the error contributions (linear regression)\n",
        "print(\"Error Contribution for Validation Set (Linear Regression):\")\n",
        "print(error_contribution_val_lr)\n",
        "\n",
        "# Display the prediction contributions (linear regression)\n",
        "print(\"\\nPrediction Contribution for Validation Set (Linear Regression):\")\n",
        "print(prediction_contribution_val_lr)"
      ],
      "metadata": {
        "colab": {
          "base_uri": "https://localhost:8080/"
        },
        "id": "Lidd1KoW2JWl",
        "outputId": "2bb65ac0-dcf3-4212-af95-55667ebb925b"
      },
      "execution_count": 26,
      "outputs": [
        {
          "output_type": "stream",
          "name": "stdout",
          "text": [
            "Error Contribution for Validation Set (Linear Regression):\n",
            "Population    0.000256\n",
            "Intercept     0.000000\n",
            "AveOccup     -0.001480\n",
            "HouseAge     -0.002035\n",
            "AveRooms     -0.024237\n",
            "AveBedrms    -0.038428\n",
            "MedInc       -0.352565\n",
            "Latitude     -0.407792\n",
            "Longitude    -0.414561\n",
            "Name: error_contribution, dtype: float64\n",
            "\n",
            "Prediction Contribution for Validation Set (Linear Regression):\n",
            "Latitude      0.827168\n",
            "Longitude     0.787318\n",
            "MedInc        0.651195\n",
            "AveRooms      0.155874\n",
            "AveBedrms     0.106326\n",
            "HouseAge      0.100251\n",
            "Population    0.006059\n",
            "AveOccup      0.003536\n",
            "Intercept     0.000000\n",
            "Name: prediction_contribution, dtype: float64\n"
          ]
        }
      ]
    },
    {
      "cell_type": "markdown",
      "source": [
        "## LightGBM Model"
      ],
      "metadata": {
        "id": "iZkkwTjh2hVd"
      }
    },
    {
      "cell_type": "code",
      "source": [
        "# Evaluate LightGBM model performance on validation and test sets\n",
        "print(\"LightGBM Model Performance:\")\n",
        "oos_r2_val_lgb, standard_r2_val_lgb = evaluate_model_performance(y_val, y_val_pred_lgb, y_dummy_val_pred, \"Validation\")\n",
        "oos_r2_test_lgb, standard_r2_test_lgb = evaluate_model_performance(y_test, y_test_pred_lgb, y_dummy_test_pred, \"Test\")"
      ],
      "metadata": {
        "colab": {
          "base_uri": "https://localhost:8080/"
        },
        "id": "M_bVw_922JU7",
        "outputId": "291f3e51-d928-456a-90dd-382bce0ebd4d"
      },
      "execution_count": 27,
      "outputs": [
        {
          "output_type": "stream",
          "name": "stdout",
          "text": [
            "LightGBM Model Performance:\n",
            "Out-of-sample R² on Validation Set (OOS R²): 0.8304\n",
            "Standard R² on Validation Set: 0.8303\n",
            "Out-of-sample R² on Test Set (OOS R²): 0.8281\n",
            "Standard R² on Test Set: 0.8281\n"
          ]
        }
      ]
    },
    {
      "cell_type": "code",
      "source": [
        "# Compute SHAP values for the LightGBM model on the validation set\n",
        "explainer_lgb = shap.TreeExplainer(model_lgb)\n",
        "shap_values_val_lgb = explainer_lgb.shap_values(X_val)\n",
        "\n",
        "# Convert SHAP values to DataFrame\n",
        "shap_values_val_lgb_df = pd.DataFrame(shap_values_val_lgb, columns=X_val.columns, index=X_val.index)\n",
        "\n",
        "# Ensure y_val and y_val_pred_lgb are pandas Series with correct index\n",
        "y_val_pred_lgb = pd.Series(y_val_pred_lgb, index=y_val.index)"
      ],
      "metadata": {
        "id": "yzBlFyja2JTS"
      },
      "execution_count": 28,
      "outputs": []
    },
    {
      "cell_type": "code",
      "source": [
        "# Compute error contributions for the validation set (LightGBM)\n",
        "error_contribution_val_lgb, prediction_contribution_val_lgb = compute_error_contributions(\n",
        "    y_val, y_val_pred_lgb, shap_values_val_lgb_df\n",
        ")\n",
        "\n",
        "# Create DataFrame for contributions (LightGBM)\n",
        "contributions_val_lgb = pd.DataFrame({\n",
        "    'prediction_contribution': prediction_contribution_val_lgb,\n",
        "    'error_contribution': error_contribution_val_lgb\n",
        "})"
      ],
      "metadata": {
        "id": "PCJ6DEu92JSD"
      },
      "execution_count": 29,
      "outputs": []
    },
    {
      "cell_type": "code",
      "source": [
        "# Visualization for Validation Set (LightGBM)\n",
        "plot_contributions(contributions_val_lgb, \"Validation (LightGBM)\")"
      ],
      "metadata": {
        "colab": {
          "base_uri": "https://localhost:8080/",
          "height": 480
        },
        "id": "4nplHOIu2JKw",
        "outputId": "31c6f077-af01-48a9-8518-5527c35ac304"
      },
      "execution_count": 30,
      "outputs": [
        {
          "output_type": "display_data",
          "data": {
            "text/plain": [
              "<Figure size 640x480 with 1 Axes>"
            ],
            "image/png": "[encoded data removed]"
          },
          "metadata": {}
        }
      ]
    },
    {
      "cell_type": "code",
      "source": [
        "# Display the error contributions (LightGBM)\n",
        "print(\"Error Contribution for Validation Set (LightGBM):\")\n",
        "print(error_contribution_val_lgb)\n",
        "\n",
        "# Display the prediction contributions (LightGBM)\n",
        "print(\"\\nPrediction Contribution for Validation Set (LightGBM):\")\n",
        "print(prediction_contribution_val_lgb)"
      ],
      "metadata": {
        "colab": {
          "base_uri": "https://localhost:8080/"
        },
        "id": "gF_yX_DX2JID",
        "outputId": "b359e63d-cd97-428f-c64f-73d4241ae973"
      },
      "execution_count": 31,
      "outputs": [
        {
          "output_type": "stream",
          "name": "stdout",
          "text": [
            "Error Contribution for Validation Set (LightGBM):\n",
            "Population    0.001704\n",
            "AveBedrms    -0.000996\n",
            "AveRooms     -0.002761\n",
            "HouseAge     -0.006379\n",
            "AveOccup     -0.056031\n",
            "Longitude    -0.169720\n",
            "Latitude     -0.206873\n",
            "MedInc       -0.293261\n",
            "Name: error_contribution, dtype: float64\n",
            "\n",
            "Prediction Contribution for Validation Set (LightGBM):\n",
            "MedInc        0.527660\n",
            "Latitude      0.403946\n",
            "Longitude     0.348142\n",
            "AveOccup      0.197971\n",
            "HouseAge      0.062793\n",
            "AveBedrms     0.047856\n",
            "AveRooms      0.042542\n",
            "Population    0.023850\n",
            "Name: prediction_contribution, dtype: float64\n"
          ]
        }
      ]
    },
    {
      "cell_type": "markdown",
      "source": [
        "# Model Comparison"
      ],
      "metadata": {
        "id": "Tn8Fkpkd2JFc"
      }
    },
    {
      "cell_type": "code",
      "source": [
        "# Compare performance of Linear Regression and LightGBM models\n",
        "performance_df = pd.DataFrame({\n",
        "    'Model': ['Constrained Linear Regression', 'LightGBM'],\n",
        "    'Validation OOS R²': [oos_r2_val_lr, oos_r2_val_lgb],\n",
        "    'Validation R²': [standard_r2_val_lr, standard_r2_val_lgb],\n",
        "    'Test OOS R²': [oos_r2_test_lr, oos_r2_test_lgb],\n",
        "    'Test R²': [standard_r2_test_lr, standard_r2_test_lgb]\n",
        "})\n",
        "\n",
        "print(\"Model Performance Comparison:\")\n",
        "print(performance_df)"
      ],
      "metadata": {
        "colab": {
          "base_uri": "https://localhost:8080/"
        },
        "id": "KjkQ9WUi2JCn",
        "outputId": "cbd12a9e-121f-45a0-98bd-d496260e6198"
      },
      "execution_count": 32,
      "outputs": [
        {
          "output_type": "stream",
          "name": "stdout",
          "text": [
            "Model Performance Comparison:\n",
            "                           Model  Validation OOS R²  Validation R²  \\\n",
            "0  Constrained Linear Regression           0.614269       0.614201   \n",
            "1                       LightGBM           0.830356       0.830327   \n",
            "\n",
            "   Test OOS R²   Test R²  \n",
            "0     0.571341  0.571285  \n",
            "1     0.828074  0.828052  \n"
          ]
        }
      ]
    },
    {
      "cell_type": "code",
      "source": [
        "# Plotting the performance comparison\n",
        "performance_df.set_index('Model')[['Validation R²', 'Test R²']].plot(kind='bar', figsize=(10,6))\n",
        "plt.title('Model Performance Comparison')\n",
        "plt.ylabel('R² Score')\n",
        "plt.show()"
      ],
      "metadata": {
        "colab": {
          "base_uri": "https://localhost:8080/",
          "height": 762
        },
        "id": "btOf85YY4D4x",
        "outputId": "f0a56e58-93c9-4d57-8cd2-4a9592f265af"
      },
      "execution_count": 33,
      "outputs": [
        {
          "output_type": "display_data",
          "data": {
            "text/plain": [
              "<Figure size 1000x600 with 1 Axes>"
            ],
            "image/png": "[encoded data removed]"
          },
          "metadata": {}
        }
      ]
    },
    {
      "cell_type": "markdown",
      "source": [
        "# Feature Selection"
      ],
      "metadata": {
        "id": "eQI8XW6wBoGS"
      }
    },
    {
      "cell_type": "markdown",
      "source": [
        "## Linear Regression Model"
      ],
      "metadata": {
        "id": "RxRfyigHBo-R"
      }
    },
    {
      "cell_type": "code",
      "source": [
        "# Select features with negative error contributions\n",
        "features_to_keep_lr = error_contribution_val_lr[error_contribution_val_lr < 0].index.tolist()\n",
        "print(f\"Features to keep based on negative error contribution (Validation Set) for Linear Regression: {features_to_keep_lr}\")"
      ],
      "metadata": {
        "colab": {
          "base_uri": "https://localhost:8080/"
        },
        "id": "pKv4HKiaBu9F",
        "outputId": "8f613d77-3bd2-4051-8d8e-183e33f36a0e"
      },
      "execution_count": 34,
      "outputs": [
        {
          "output_type": "stream",
          "name": "stdout",
          "text": [
            "Features to keep based on negative error contribution (Validation Set) for Linear Regression: ['AveOccup', 'HouseAge', 'AveRooms', 'AveBedrms', 'MedInc', 'Latitude', 'Longitude']\n"
          ]
        }
      ]
    },
    {
      "cell_type": "code",
      "source": [
        "# Prepare training, validation, and test sets with selected features\n",
        "X_train_selected_lr = X_train_lr[features_to_keep_lr]\n",
        "X_val_selected_lr = X_val_lr[features_to_keep_lr]\n",
        "X_test_selected_lr = X_test_lr[features_to_keep_lr]\n",
        "\n",
        "# Update monotonicity for selected features\n",
        "selected_feature_indices_lr = [feature_names_lr.index(f) for f in features_to_keep_lr]\n",
        "monotonicity_selected_lr = [monotonicity_lr[i] for i in selected_feature_indices_lr]\n",
        "\n",
        "# Retrain the constrained linear regression model with selected features\n",
        "coef_selected_lr = train_constrained_linear_model(X_train_selected_lr, y_train, monotonicity_selected_lr)\n",
        "coef_selected_series_lr = pd.Series(coef_selected_lr, index=features_to_keep_lr)"
      ],
      "metadata": {
        "id": "_mbwPDjMBu6P"
      },
      "execution_count": 35,
      "outputs": []
    },
    {
      "cell_type": "code",
      "source": [
        "# Make predictions with the selected model on validation and test sets\n",
        "y_val_pred_selected_lr = X_val_selected_lr @ coef_selected_series_lr\n",
        "y_test_pred_selected_lr = X_test_selected_lr @ coef_selected_series_lr\n",
        "\n",
        "# Evaluate the retrained linear regression model on validation and test sets\n",
        "print(\"Linear Regression Model Performance After Feature Selection:\")\n",
        "oos_r2_val_selected_lr, standard_r2_val_selected_lr = evaluate_model_performance(y_val, y_val_pred_selected_lr, y_dummy_val_pred, \"Validation\")\n",
        "oos_r2_test_selected_lr, standard_r2_test_selected_lr = evaluate_model_performance(y_test, y_test_pred_selected_lr, y_dummy_test_pred, \"Test\")"
      ],
      "metadata": {
        "colab": {
          "base_uri": "https://localhost:8080/"
        },
        "id": "GfhuRECaBuKe",
        "outputId": "1528b6c9-5108-4bd1-cc4d-1e8747e2584c"
      },
      "execution_count": 36,
      "outputs": [
        {
          "output_type": "stream",
          "name": "stdout",
          "text": [
            "Linear Regression Model Performance After Feature Selection:\n",
            "Out-of-sample R² on Validation Set (OOS R²): 0.5477\n",
            "Standard R² on Validation Set: 0.5477\n",
            "Out-of-sample R² on Test Set (OOS R²): 0.5197\n",
            "Standard R² on Test Set: 0.5196\n"
          ]
        }
      ]
    },
    {
      "cell_type": "markdown",
      "source": [
        "## LightGBM Model"
      ],
      "metadata": {
        "id": "D44zPciEBsLU"
      }
    },
    {
      "cell_type": "code",
      "source": [
        "# Select features with negative error contributions\n",
        "features_to_keep_lgb = error_contribution_val_lgb[error_contribution_val_lgb < 0].index.tolist()\n",
        "print(f\"Features to keep based on negative error contribution (Validation Set) for LightGBM: {features_to_keep_lgb}\")"
      ],
      "metadata": {
        "colab": {
          "base_uri": "https://localhost:8080/"
        },
        "id": "-5b9WgG1CH-5",
        "outputId": "ce068df4-49f8-4bae-b1ae-748f553bfa5c"
      },
      "execution_count": 37,
      "outputs": [
        {
          "output_type": "stream",
          "name": "stdout",
          "text": [
            "Features to keep based on negative error contribution (Validation Set) for LightGBM: ['AveBedrms', 'AveRooms', 'HouseAge', 'AveOccup', 'Longitude', 'Latitude', 'MedInc']\n"
          ]
        }
      ]
    },
    {
      "cell_type": "code",
      "source": [
        "# Prepare training, validation, and test sets with selected features\n",
        "X_train_selected_lgb = X_train[features_to_keep_lgb]\n",
        "X_val_selected_lgb = X_val[features_to_keep_lgb]\n",
        "X_test_selected_lgb = X_test[features_to_keep_lgb]\n",
        "\n",
        "# Update monotonicity for selected features\n",
        "selected_feature_indices_lgb = [feature_names.index(f) for f in features_to_keep_lgb]\n",
        "monotonicity_selected_lgb = [monotonicity_lgb[i] for i in selected_feature_indices_lgb]\n",
        "\n",
        "# Create LightGBM datasets with selected features\n",
        "lgb_train_selected = lgb.Dataset(X_train_selected_lgb, label=y_train)\n",
        "lgb_val_selected = lgb.Dataset(X_val_selected_lgb, label=y_val, reference=lgb_train_selected)\n",
        "\n",
        "# Update LightGBM parameters with selected monotonicity constraints\n",
        "params_selected = params.copy()\n",
        "params_selected['monotone_constraints'] = monotonicity_selected_lgb\n",
        "\n",
        "# Train the LightGBM model with selected features\n",
        "model_lgb_selected = lgb.train(\n",
        "    params_selected,\n",
        "    lgb_train_selected,\n",
        "    num_boost_round=1000,\n",
        "    valid_sets=[lgb_train_selected, lgb_val_selected],\n",
        "    callbacks=callbacks\n",
        ")"
      ],
      "metadata": {
        "id": "cuIwqQPSCH8B"
      },
      "execution_count": 38,
      "outputs": []
    },
    {
      "cell_type": "code",
      "source": [
        "# Make predictions with the selected LightGBM model\n",
        "y_val_pred_selected_lgb = model_lgb_selected.predict(X_val_selected_lgb)\n",
        "y_test_pred_selected_lgb = model_lgb_selected.predict(X_test_selected_lgb)\n",
        "\n",
        "# Evaluate the retrained LightGBM model on validation and test sets\n",
        "print(\"LightGBM Model Performance After Feature Selection:\")\n",
        "oos_r2_val_selected_lgb, standard_r2_val_selected_lgb = evaluate_model_performance(y_val, y_val_pred_selected_lgb, y_dummy_val_pred, \"Validation\")\n",
        "oos_r2_test_selected_lgb, standard_r2_test_selected_lgb = evaluate_model_performance(y_test, y_test_pred_selected_lgb, y_dummy_test_pred, \"Test\")"
      ],
      "metadata": {
        "colab": {
          "base_uri": "https://localhost:8080/"
        },
        "id": "cj2-j4aeCH5b",
        "outputId": "fa680e5f-f6ab-4186-e429-334533083e61"
      },
      "execution_count": 39,
      "outputs": [
        {
          "output_type": "stream",
          "name": "stdout",
          "text": [
            "LightGBM Model Performance After Feature Selection:\n",
            "Out-of-sample R² on Validation Set (OOS R²): 0.8327\n",
            "Standard R² on Validation Set: 0.8326\n",
            "Out-of-sample R² on Test Set (OOS R²): 0.8288\n",
            "Standard R² on Test Set: 0.8288\n"
          ]
        }
      ]
    },
    {
      "cell_type": "markdown",
      "source": [
        "## Model Comparison"
      ],
      "metadata": {
        "id": "tjS9VpF_DBqD"
      }
    },
    {
      "cell_type": "code",
      "source": [
        "# Compare performance of all models\n",
        "performance_df = pd.DataFrame({\n",
        "    'Model': ['Constrained LR', 'Constrained LR (Selected Features)', 'LightGBM', 'LightGBM (Selected Features)'],\n",
        "    'Validation OOS R²': [oos_r2_val_lr, oos_r2_val_selected_lr, oos_r2_val_lgb, oos_r2_val_selected_lgb],\n",
        "    'Validation R²': [standard_r2_val_lr, standard_r2_val_selected_lr, standard_r2_val_lgb, standard_r2_val_selected_lgb],\n",
        "    'Test OOS R²': [oos_r2_test_lr, oos_r2_test_selected_lr, oos_r2_test_lgb, oos_r2_test_selected_lgb],\n",
        "    'Test R²': [standard_r2_test_lr, standard_r2_test_selected_lr, standard_r2_test_lgb, standard_r2_test_selected_lgb]\n",
        "})\n",
        "\n",
        "print(\"Model Performance Comparison:\")\n",
        "print(performance_df)"
      ],
      "metadata": {
        "colab": {
          "base_uri": "https://localhost:8080/"
        },
        "id": "Ixd4yPq_DWS0",
        "outputId": "65154043-5811-40d6-c69c-a225ccaa679a"
      },
      "execution_count": 40,
      "outputs": [
        {
          "output_type": "stream",
          "name": "stdout",
          "text": [
            "Model Performance Comparison:\n",
            "                                Model  Validation OOS R²  Validation R²  \\\n",
            "0                      Constrained LR           0.614269       0.614201   \n",
            "1  Constrained LR (Selected Features)           0.547733       0.547654   \n",
            "2                            LightGBM           0.830356       0.830327   \n",
            "3        LightGBM (Selected Features)           0.832679       0.832650   \n",
            "\n",
            "   Test OOS R²   Test R²  \n",
            "0     0.571341  0.571285  \n",
            "1     0.519705  0.519643  \n",
            "2     0.828074  0.828052  \n",
            "3     0.828805  0.828783  \n"
          ]
        }
      ]
    },
    {
      "cell_type": "code",
      "source": [
        "# Plotting the performance comparison\n",
        "performance_df.set_index('Model')[['Validation R²', 'Test R²']].plot(kind='bar', figsize=(12,6))\n",
        "plt.title('Model Performance Comparison')\n",
        "plt.ylabel('R² Score')\n",
        "plt.show()"
      ],
      "metadata": {
        "colab": {
          "base_uri": "https://localhost:8080/",
          "height": 790
        },
        "id": "YN5KrpulDaUw",
        "outputId": "16a5f8db-0103-4a7d-f247-37bf8f4a1459"
      },
      "execution_count": 41,
      "outputs": [
        {
          "output_type": "display_data",
          "data": {
            "text/plain": [
              "<Figure size 1200x600 with 1 Axes>"
            ],
            "image/png": "[encoded data removed]"
          },
          "metadata": {}
        }
      ]
    }
  ]
}