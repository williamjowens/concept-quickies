{
  "nbformat": 4,
  "nbformat_minor": 0,
  "metadata": {
    "colab": {
      "provenance": [],
      "toc_visible": true
    },
    "kernelspec": {
      "name": "python3",
      "display_name": "Python 3"
    },
    "language_info": {
      "name": "python"
    }
  },
  "cells": [
    {
      "cell_type": "markdown",
      "source": [
        "# CPP"
      ],
      "metadata": {
        "id": "I5IE4kD4njtQ"
      }
    },
    {
      "cell_type": "markdown",
      "source": [
        "## Single-File"
      ],
      "metadata": {
        "id": "4WiGnsAGk-Cd"
      }
    },
    {
      "cell_type": "code",
      "source": [
        "%%bash\n",
        "cat > main.cpp << 'EOF'\n",
        "#include <armadillo>\n",
        "#include <iostream>\n",
        "#include <chrono>\n",
        "#include <iomanip>\n",
        "#include <cmath>\n",
        "\n",
        "using namespace arma;\n",
        "using namespace std;\n",
        "using namespace std::chrono;\n",
        "\n",
        "// normalize_zero returns 0.0 if x is very close to zero\n",
        "double normalize_zero(double x, double tol = 1e-12) {\n",
        "    return (fabs(x) < tol) ? 0.0 : x;\n",
        "}\n",
        "\n",
        "int main() {\n",
        "    // Create a simple dataset:\n",
        "    // X: a 5x1 matrix representing [1, 2, 3, 4, 5]\n",
        "    // y: a 5x1 vector representing [2, 4, 6, 8, 10] (i.e. y = 2 * x)\n",
        "    mat X(5, 1);\n",
        "    X(0, 0) = 1.0;\n",
        "    X(1, 0) = 2.0;\n",
        "    X(2, 0) = 3.0;\n",
        "    X(3, 0) = 4.0;\n",
        "    X(4, 0) = 5.0;\n",
        "\n",
        "    vec y(5);\n",
        "    y(0) = 2.0;\n",
        "    y(1) = 4.0;\n",
        "    y(2) = 6.0;\n",
        "    y(3) = 8.0;\n",
        "    y(4) = 10.0;\n",
        "\n",
        "    // Augment X with a column of ones for the intercept\n",
        "    mat X_aug = join_horiz(ones<vec>(X.n_rows), X);\n",
        "\n",
        "    // Time the training (solving for theta)\n",
        "    auto train_start = high_resolution_clock::now();\n",
        "    // Solve the normal equation: theta = (X_aug^T * X_aug)^-1 * (X_aug^T * y)\n",
        "    vec theta = solve(X_aug, y);\n",
        "    auto train_end = high_resolution_clock::now();\n",
        "    duration<double, milli> train_duration = train_end - train_start;\n",
        "\n",
        "    // Normalize theta values so that very-small numbers print as 0.0000\n",
        "    for (uword i = 0; i < theta.n_elem; i++) {\n",
        "        theta(i) = normalize_zero(theta(i));\n",
        "    }\n",
        "\n",
        "    // Print learned parameters with 4 decimal places per element\n",
        "    cout << \"Learned parameters (theta): [\";\n",
        "    for (uword i = 0; i < theta.n_elem; i++) {\n",
        "        if (i > 0)\n",
        "            cout << \", \";\n",
        "        cout << fixed << setprecision(4) << theta(i);\n",
        "    }\n",
        "    cout << \"]\" << endl;\n",
        "\n",
        "    // Print training time with 6 decimal places\n",
        "    cout << \"Training time: \" << fixed << setprecision(6) << train_duration.count() << \" ms\" << endl;\n",
        "\n",
        "    // Predict for a new data point: x = 6\n",
        "    mat X_new(1, 1);\n",
        "    X_new(0, 0) = 6.0;\n",
        "    mat X_new_aug = join_horiz(ones<vec>(X_new.n_rows), X_new);\n",
        "\n",
        "    auto pred_start = high_resolution_clock::now();\n",
        "    vec y_pred = X_new_aug * theta;\n",
        "    auto pred_end = high_resolution_clock::now();\n",
        "    duration<double, milli> pred_duration = pred_end - pred_start;\n",
        "\n",
        "    cout << \"Prediction for x = 6: \" << fixed << setprecision(4) << y_pred[0] << endl;\n",
        "    cout << \"Prediction time: \" << fixed << setprecision(6) << pred_duration.count() << \" ms\" << endl;\n",
        "\n",
        "    return 0;\n",
        "}\n",
        "EOF"
      ],
      "metadata": {
        "id": "FMgg3n1Bkcce"
      },
      "execution_count": 1,
      "outputs": []
    },
    {
      "cell_type": "code",
      "source": [
        "%%bash\n",
        "g++ -O2 -std=c++11 main.cpp -o linear_regression -larmadillo -llapack -lblas"
      ],
      "metadata": {
        "id": "9-A1h1JtoDSs"
      },
      "execution_count": 2,
      "outputs": []
    },
    {
      "cell_type": "code",
      "source": [
        "# %%bash\n",
        "# g++ -O2 -std=c++11 main.cpp -o linear_regression -larmadillo -lopenblas"
      ],
      "metadata": {
        "id": "j3kzZFIAp288"
      },
      "execution_count": 3,
      "outputs": []
    },
    {
      "cell_type": "code",
      "source": [
        "!./linear_regression"
      ],
      "metadata": {
        "colab": {
          "base_uri": "https://localhost:8080/"
        },
        "id": "AhWOVTPHoEO2",
        "outputId": "6275f130-6493-4fea-8eb2-5a5e81c09b62"
      },
      "execution_count": 4,
      "outputs": [
        {
          "output_type": "stream",
          "name": "stdout",
          "text": [
            "Learned parameters (theta): [0.0000, 2.0000]\n",
            "Training time: 16.741325 ms\n",
            "Prediction for x = 6: 12.0000\n",
            "Prediction time: 0.009121 ms\n"
          ]
        }
      ]
    },
    {
      "cell_type": "markdown",
      "source": [
        "## Multi-File"
      ],
      "metadata": {
        "id": "OM4bj0qQez8O"
      }
    },
    {
      "cell_type": "code",
      "source": [
        "%%bash\n",
        "cat > dataset.h << 'EOF'\n",
        "#ifndef DATASET_H\n",
        "#define DATASET_H\n",
        "\n",
        "#include <armadillo>\n",
        "\n",
        "// CreateDataset fills X and y with the dataset values\n",
        "void CreateDataset(arma::mat &X, arma::vec &y);\n",
        "\n",
        "#endif\n",
        "EOF"
      ],
      "metadata": {
        "id": "FfxwQWgXez2v"
      },
      "execution_count": 5,
      "outputs": []
    },
    {
      "cell_type": "code",
      "source": [
        "%%bash\n",
        "cat > dataset.cpp << 'EOF'\n",
        "#include \"dataset.h\"\n",
        "\n",
        "void CreateDataset(arma::mat &X, arma::vec &y) {\n",
        "    // Create X as a 5x1 matrix representing [1, 2, 3, 4, 5]\n",
        "    X.set_size(5, 1);\n",
        "    X(0, 0) = 1.0;\n",
        "    X(1, 0) = 2.0;\n",
        "    X(2, 0) = 3.0;\n",
        "    X(3, 0) = 4.0;\n",
        "    X(4, 0) = 5.0;\n",
        "    // Create y as a 5-element vector representing [2, 4, 6, 8, 10]\n",
        "    y.set_size(5);\n",
        "    y(0) = 2.0;\n",
        "    y(1) = 4.0;\n",
        "    y(2) = 6.0;\n",
        "    y(3) = 8.0;\n",
        "    y(4) = 10.0;\n",
        "}\n",
        "EOF"
      ],
      "metadata": {
        "id": "ZlIK0cOTfU3w"
      },
      "execution_count": 6,
      "outputs": []
    },
    {
      "cell_type": "code",
      "source": [
        "%%bash\n",
        "cat > model.h << 'EOF'\n",
        "#ifndef MODEL_H\n",
        "#define MODEL_H\n",
        "\n",
        "#include <armadillo>\n",
        "\n",
        "// BuildAugmentedMatrix returns an augmented matrix from X\n",
        "// The augmented matrix has a column of ones prepended to X\n",
        "arma::mat BuildAugmentedMatrix(const arma::mat &X);\n",
        "\n",
        "#endif\n",
        "EOF"
      ],
      "metadata": {
        "id": "wW9ltQJffU1J"
      },
      "execution_count": 7,
      "outputs": []
    },
    {
      "cell_type": "code",
      "source": [
        "%%bash\n",
        "cat > model.cpp << 'EOF'\n",
        "#include \"model.h\"\n",
        "\n",
        "arma::mat BuildAugmentedMatrix(const arma::mat &X) {\n",
        "    // Get the number of rows from X\n",
        "    arma::uword n = X.n_rows;\n",
        "    // Return a new matrix which is the horizontal concatenation of a column of ones and X\n",
        "    return arma::join_horiz(arma::ones<arma::vec>(n), X);\n",
        "}\n",
        "EOF"
      ],
      "metadata": {
        "id": "56lvlEvDfUyj"
      },
      "execution_count": 8,
      "outputs": []
    },
    {
      "cell_type": "code",
      "source": [
        "%%bash\n",
        "cat > train.h << 'EOF'\n",
        "#ifndef TRAIN_H\n",
        "#define TRAIN_H\n",
        "\n",
        "#include <armadillo>\n",
        "#include <chrono>\n",
        "\n",
        "// TrainModel trains the model using the augmented matrix X_aug and target vector y\n",
        "// It returns the computed theta and sets trainDuration (in milliseconds)\n",
        "arma::vec TrainModel(const arma::mat &X_aug, const arma::vec &y, double &trainDuration);\n",
        "\n",
        "#endif\n",
        "EOF"
      ],
      "metadata": {
        "id": "f4EDTLjgfUv8"
      },
      "execution_count": 9,
      "outputs": []
    },
    {
      "cell_type": "code",
      "source": [
        "%%bash\n",
        "cat > train.cpp << 'EOF'\n",
        "#include \"train.h\"\n",
        "\n",
        "arma::vec TrainModel(const arma::mat &X_aug, const arma::vec &y, double &trainDuration) {\n",
        "    auto start = std::chrono::high_resolution_clock::now();\n",
        "    // Solve the normal equation: theta = (X_aug^T * X_aug)^-1 * (X_aug^T * y)\n",
        "    arma::vec theta = arma::solve(X_aug, y);\n",
        "    auto end = std::chrono::high_resolution_clock::now();\n",
        "    std::chrono::duration<double, std::milli> dur = end - start;\n",
        "    trainDuration = dur.count();\n",
        "    return theta;\n",
        "}\n",
        "EOF"
      ],
      "metadata": {
        "id": "Lp-lixP9f5RM"
      },
      "execution_count": 10,
      "outputs": []
    },
    {
      "cell_type": "code",
      "source": [
        "%%bash\n",
        "cat > predict.h << 'EOF'\n",
        "#ifndef PREDICT_H\n",
        "#define PREDICT_H\n",
        "\n",
        "#include <armadillo>\n",
        "#include <chrono>\n",
        "\n",
        "// PredictValue predicts the output for a new input x_new using theta\n",
        "// It returns the predicted value and sets predDuration (in milliseconds)\n",
        "double PredictValue(const arma::vec &theta, double x_new, double &predDuration);\n",
        "\n",
        "#endif\n",
        "EOF"
      ],
      "metadata": {
        "id": "UqOztP3Af5NS"
      },
      "execution_count": 11,
      "outputs": []
    },
    {
      "cell_type": "code",
      "source": [
        "%%bash\n",
        "cat > predict.cpp << 'EOF'\n",
        "#include \"predict.h\"\n",
        "\n",
        "double PredictValue(const arma::vec &theta, double x_new, double &predDuration) {\n",
        "    // Create an augmented row for x_new: first element is 1, second is x_new\n",
        "    arma::mat X_new(1, 2);\n",
        "    X_new(0, 0) = 1.0;\n",
        "    X_new(0, 1) = x_new;\n",
        "    auto start = std::chrono::high_resolution_clock::now();\n",
        "    arma::vec y_pred = X_new * theta;\n",
        "    auto end = std::chrono::high_resolution_clock::now();\n",
        "    std::chrono::duration<double, std::milli> dur = end - start;\n",
        "    predDuration = dur.count();\n",
        "    return y_pred[0];\n",
        "}\n",
        "EOF"
      ],
      "metadata": {
        "id": "60rK_ydogBd8"
      },
      "execution_count": 12,
      "outputs": []
    },
    {
      "cell_type": "code",
      "source": [
        "%%bash\n",
        "cat > main.cpp << 'EOF'\n",
        "#include <armadillo>\n",
        "#include <iostream>\n",
        "#include <iomanip>\n",
        "#include \"dataset.h\"\n",
        "#include \"model.h\"\n",
        "#include \"train.h\"\n",
        "#include \"predict.h\"\n",
        "\n",
        "// normalizeZero returns 0.0 if x is very close to zero\n",
        "double normalizeZero(double x, double tol = 1e-12) {\n",
        "    return (std::abs(x) < tol) ? 0.0 : x;\n",
        "}\n",
        "\n",
        "int main() {\n",
        "    arma::mat X;\n",
        "    arma::vec y;\n",
        "    // Create the dataset\n",
        "    CreateDataset(X, y);\n",
        "\n",
        "    // Build the augmented matrix from X\n",
        "    arma::mat X_aug = BuildAugmentedMatrix(X);\n",
        "\n",
        "    double trainTime = 0.0;\n",
        "    arma::vec theta = TrainModel(X_aug, y, trainTime);\n",
        "\n",
        "    // Normalize theta values to avoid printing -0.0000\n",
        "    for (arma::uword i = 0; i < theta.n_elem; i++) {\n",
        "        theta(i) = normalizeZero(theta(i));\n",
        "    }\n",
        "\n",
        "    // Print learned parameters (theta) with fixed 4 decimal places\n",
        "    std::cout << \"Learned parameters (theta): [\";\n",
        "    for (arma::uword i = 0; i < theta.n_elem; i++) {\n",
        "        if (i > 0)\n",
        "            std::cout << \", \";\n",
        "        std::cout << std::fixed << std::setprecision(4) << theta(i);\n",
        "    }\n",
        "    std::cout << \"]\" << std::endl;\n",
        "    std::cout << \"Training time: \" << std::fixed << std::setprecision(6) << trainTime << \" ms\" << std::endl;\n",
        "\n",
        "    double predTime = 0.0;\n",
        "    double prediction = PredictValue(theta, 6.0, predTime);\n",
        "    std::cout << \"Prediction for x = 6: \" << std::fixed << std::setprecision(4) << prediction << std::endl;\n",
        "    std::cout << \"Prediction time: \" << std::fixed << std::setprecision(6) << predTime << \" ms\" << std::endl;\n",
        "\n",
        "    return 0;\n",
        "}\n",
        "EOF"
      ],
      "metadata": {
        "id": "_ZKegGsfgBbW"
      },
      "execution_count": 13,
      "outputs": []
    },
    {
      "cell_type": "code",
      "source": [
        "%%bash\n",
        "g++ -O2 -std=c++11 dataset.cpp model.cpp train.cpp predict.cpp main.cpp -o linear_regression -larmadillo -llapack -lblas"
      ],
      "metadata": {
        "id": "IbZmDNZ_gERH"
      },
      "execution_count": 14,
      "outputs": []
    },
    {
      "cell_type": "code",
      "source": [
        "!./linear_regression"
      ],
      "metadata": {
        "colab": {
          "base_uri": "https://localhost:8080/"
        },
        "id": "ikkuI57lgHVd",
        "outputId": "996988f2-f0e1-4522-bd0e-5212fd533969"
      },
      "execution_count": 15,
      "outputs": [
        {
          "output_type": "stream",
          "name": "stdout",
          "text": [
            "Learned parameters (theta): [0.0000, 2.0000]\n",
            "Training time: 0.200274 ms\n",
            "Prediction for x = 6: 12.0000\n",
            "Prediction time: 0.002297 ms\n"
          ]
        }
      ]
    },
    {
      "cell_type": "markdown",
      "source": [
        "# Rust"
      ],
      "metadata": {
        "id": "Xr6TTFsYnorj"
      }
    },
    {
      "cell_type": "markdown",
      "source": [
        "## Single-File"
      ],
      "metadata": {
        "id": "WZ08jAkelBA0"
      }
    },
    {
      "cell_type": "code",
      "source": [
        "%%bash\n",
        "curl https://sh.rustup.rs -sSf | sh -s -- -y\n",
        "export PATH=\"$HOME/.cargo/bin:$PATH\"\n",
        "rustc --version"
      ],
      "metadata": {
        "colab": {
          "base_uri": "https://localhost:8080/"
        },
        "id": "M6ZFYGXBnopN",
        "outputId": "38c7bbeb-23da-4b63-9ec8-1e3deeacf3e0"
      },
      "execution_count": 16,
      "outputs": [
        {
          "output_type": "stream",
          "name": "stdout",
          "text": [
            "\n",
            "  stable-x86_64-unknown-linux-gnu installed - rustc 1.84.1 (e71f9a9a9 2025-01-27)\n",
            "\n",
            "\n",
            "Rust is installed now. Great!\n",
            "\n",
            "To get started you may need to restart your current shell.\n",
            "This would reload your PATH environment variable to include\n",
            "Cargo's bin directory ($HOME/.cargo/bin).\n",
            "\n",
            "To configure your current shell, you need to source\n",
            "the corresponding env file under $HOME/.cargo.\n",
            "\n",
            "This is usually done by running one of the following (note the leading DOT):\n",
            ". \"$HOME/.cargo/env\"            # For sh/bash/zsh/ash/dash/pdksh\n",
            "source \"$HOME/.cargo/env.fish\"  # For fish\n",
            "rustc 1.84.1 (e71f9a9a9 2025-01-27)\n"
          ]
        },
        {
          "output_type": "stream",
          "name": "stderr",
          "text": [
            "info: downloading installer\n",
            "info: profile set to 'default'\n",
            "info: default host triple is x86_64-unknown-linux-gnu\n",
            "info: syncing channel updates for 'stable-x86_64-unknown-linux-gnu'\n",
            "info: latest update on 2025-01-30, rust version 1.84.1 (e71f9a9a9 2025-01-27)\n",
            "info: downloading component 'cargo'\n",
            "info: downloading component 'clippy'\n",
            "info: downloading component 'rust-docs'\n",
            "info: downloading component 'rust-std'\n",
            "info: downloading component 'rustc'\n",
            "info: downloading component 'rustfmt'\n",
            "info: installing component 'cargo'\n",
            "info: installing component 'clippy'\n",
            "info: installing component 'rust-docs'\n",
            "info: installing component 'rust-std'\n",
            "info: installing component 'rustc'\n",
            "info: installing component 'rustfmt'\n",
            "info: default toolchain set to 'stable-x86_64-unknown-linux-gnu'\n"
          ]
        }
      ]
    },
    {
      "cell_type": "code",
      "source": [
        "%%bash\n",
        "rm -rf rust_linear_regression\n",
        "$HOME/.cargo/bin/cargo init --bin rust_linear_regression"
      ],
      "metadata": {
        "colab": {
          "base_uri": "https://localhost:8080/"
        },
        "id": "JeNu5tedoIBU",
        "outputId": "ed0e2e5b-5f13-465e-ae07-12e4e8be337f"
      },
      "execution_count": 17,
      "outputs": [
        {
          "output_type": "stream",
          "name": "stderr",
          "text": [
            "    Creating binary (application) package\n",
            "note: see more `Cargo.toml` keys and their definitions at https://doc.rust-lang.org/cargo/reference/manifest.html\n"
          ]
        }
      ]
    },
    {
      "cell_type": "code",
      "source": [
        "%%bash\n",
        "cd rust_linear_regression\n",
        "# Append the dependency only if not already present\n",
        "grep -q 'nalgebra' Cargo.toml || echo 'nalgebra = \"0.32.0\"' >> Cargo.toml\n",
        "cd .."
      ],
      "metadata": {
        "id": "1epcf-NnoH4K"
      },
      "execution_count": 18,
      "outputs": []
    },
    {
      "cell_type": "code",
      "source": [
        "%%bash\n",
        "mkdir -p rust_linear_regression/src\n",
        "cat > rust_linear_regression/src/main.rs << 'EOF'\n",
        "use nalgebra::{DMatrix, DVector};\n",
        "use std::time::Instant;\n",
        "\n",
        "fn main() {\n",
        "    // Create a dataset:\n",
        "    // x = [1, 2, 3, 4, 5]\n",
        "    // y = [2, 4, 6, 8, 10] (i.e. y = 2 * x)\n",
        "    let x_values = vec![1.0, 2.0, 3.0, 4.0, 5.0];\n",
        "    let y_values = vec![2.0, 4.0, 6.0, 8.0, 10.0];\n",
        "    let n = x_values.len();\n",
        "\n",
        "    // Build an augmented matrix (x_aug) directly:\n",
        "    // The first column is ones (for the intercept), and the second column is x_values\n",
        "    let x_aug = DMatrix::from_fn(n, 2, |i, j| if j == 0 { 1.0 } else { x_values[i] });\n",
        "\n",
        "    // Build y as an n x 1 vector\n",
        "    let y = DVector::from_vec(y_values);\n",
        "\n",
        "    // Time the training (solving for theta)\n",
        "    let train_start = Instant::now();\n",
        "    let xt = x_aug.transpose();\n",
        "    let xtx = &xt * &x_aug;\n",
        "    let xty = &xt * &y;\n",
        "    let theta = xtx.try_inverse().expect(\"Matrix is invertible\") * xty;\n",
        "    let train_duration = train_start.elapsed();\n",
        "\n",
        "    // Print theta with 4 decimal places per element\n",
        "    print!(\"Learned parameters (theta): [\");\n",
        "    for i in 0..theta.len() {\n",
        "        if i > 0 {\n",
        "            print!(\", \");\n",
        "        }\n",
        "        // Print each element with 4 decimal places\n",
        "        print!(\"{:.4}\", theta[i]);\n",
        "    }\n",
        "    println!(\"]\");\n",
        "    println!(\"Training time: {:.4} ms\", train_duration.as_secs_f64() * 1000.0);\n",
        "\n",
        "    // For prediction, create an augmented matrix for x = 6: [1, 6]\n",
        "    let x_new_aug = DMatrix::from_fn(1, 2, |_, j| if j == 0 { 1.0 } else { 6.0 });\n",
        "    let pred_start = Instant::now();\n",
        "    let y_pred = &x_new_aug * &theta;\n",
        "    let pred_duration = pred_start.elapsed();\n",
        "\n",
        "    println!(\"Prediction for x = 6: {:.4}\", y_pred[0]);\n",
        "    println!(\"Prediction time: {:.4} ms\", pred_duration.as_secs_f64() * 1000.0);\n",
        "}\n",
        "EOF"
      ],
      "metadata": {
        "id": "2uAlAH34oHzv"
      },
      "execution_count": 19,
      "outputs": []
    },
    {
      "cell_type": "code",
      "source": [
        "%%bash\n",
        "cd rust_linear_regression\n",
        "$HOME/.cargo/bin/cargo run --release --quiet\n",
        "cd .."
      ],
      "metadata": {
        "colab": {
          "base_uri": "https://localhost:8080/"
        },
        "id": "9iW599bIoMFu",
        "outputId": "9d64ce43-11c9-4dd0-8127-69a7aa0667fa"
      },
      "execution_count": 20,
      "outputs": [
        {
          "output_type": "stream",
          "name": "stdout",
          "text": [
            "Learned parameters (theta): [0.0000, 2.0000]\n",
            "Training time: 0.0006 ms\n",
            "Prediction for x = 6: 12.0000\n",
            "Prediction time: 0.0003 ms\n"
          ]
        }
      ]
    },
    {
      "cell_type": "code",
      "source": [
        "# %%bash\n",
        "# cd rust_linear_regression\n",
        "# $HOME/.cargo/bin/cargo build --release --quiet\n",
        "# ./target/release/rust_linear_regression\n",
        "# cd .."
      ],
      "metadata": {
        "id": "cOYtYFDTyDoK"
      },
      "execution_count": 21,
      "outputs": []
    },
    {
      "cell_type": "markdown",
      "source": [
        "## Multi-File"
      ],
      "metadata": {
        "id": "bAsmh037fSIO"
      }
    },
    {
      "cell_type": "code",
      "source": [
        "%%bash\n",
        "curl https://sh.rustup.rs -sSf | sh -s -- -y\n",
        "export PATH=\"$HOME/.cargo/bin:$PATH\"\n",
        "rustc --version"
      ],
      "metadata": {
        "colab": {
          "base_uri": "https://localhost:8080/"
        },
        "id": "N5qZMgnffTk-",
        "outputId": "5ea9bcf6-434c-4e7d-dee8-2f0a14ae7eca"
      },
      "execution_count": 22,
      "outputs": [
        {
          "output_type": "stream",
          "name": "stdout",
          "text": [
            "\n",
            "  stable-x86_64-unknown-linux-gnu unchanged - rustc 1.84.1 (e71f9a9a9 2025-01-27)\n",
            "\n",
            "\n",
            "Rust is installed now. Great!\n",
            "\n",
            "To get started you may need to restart your current shell.\n",
            "This would reload your PATH environment variable to include\n",
            "Cargo's bin directory ($HOME/.cargo/bin).\n",
            "\n",
            "To configure your current shell, you need to source\n",
            "the corresponding env file under $HOME/.cargo.\n",
            "\n",
            "This is usually done by running one of the following (note the leading DOT):\n",
            ". \"$HOME/.cargo/env\"            # For sh/bash/zsh/ash/dash/pdksh\n",
            "source \"$HOME/.cargo/env.fish\"  # For fish\n",
            "rustc 1.84.1 (e71f9a9a9 2025-01-27)\n"
          ]
        },
        {
          "output_type": "stream",
          "name": "stderr",
          "text": [
            "info: downloading installer\n",
            "info: profile set to 'default'\n",
            "info: default host triple is x86_64-unknown-linux-gnu\n",
            "warning: Updating existing toolchain, profile choice will be ignored\n",
            "info: syncing channel updates for 'stable-x86_64-unknown-linux-gnu'\n",
            "info: default toolchain set to 'stable-x86_64-unknown-linux-gnu'\n"
          ]
        }
      ]
    },
    {
      "cell_type": "code",
      "source": [
        "%%bash\n",
        "rm -rf rust_linear_regression\n",
        "$HOME/.cargo/bin/cargo init --bin rust_linear_regression"
      ],
      "metadata": {
        "colab": {
          "base_uri": "https://localhost:8080/"
        },
        "id": "yGpdRlutfTin",
        "outputId": "0f1e1d4b-29ef-489c-ebf9-363fc766ef01"
      },
      "execution_count": 23,
      "outputs": [
        {
          "output_type": "stream",
          "name": "stderr",
          "text": [
            "    Creating binary (application) package\n",
            "note: see more `Cargo.toml` keys and their definitions at https://doc.rust-lang.org/cargo/reference/manifest.html\n"
          ]
        }
      ]
    },
    {
      "cell_type": "code",
      "source": [
        "%%bash\n",
        "cd rust_linear_regression\n",
        "# Append the dependency if not already present\n",
        "grep -q 'nalgebra' Cargo.toml || echo 'nalgebra = \"0.32.0\"' >> Cargo.toml\n",
        "cd .."
      ],
      "metadata": {
        "id": "NqpxskEvh30Z"
      },
      "execution_count": 24,
      "outputs": []
    },
    {
      "cell_type": "code",
      "source": [
        "%%bash\n",
        "cat > rust_linear_regression/src/dataset.rs << 'EOF'\n",
        "pub fn create_dataset() -> (Vec<f64>, Vec<f64>) {\n",
        "    let x_values = vec![1.0, 2.0, 3.0, 4.0, 5.0];\n",
        "    let y_values = vec![2.0, 4.0, 6.0, 8.0, 10.0];\n",
        "    (x_values, y_values)\n",
        "}\n",
        "EOF"
      ],
      "metadata": {
        "id": "cFTZaWTQfTf_"
      },
      "execution_count": 25,
      "outputs": []
    },
    {
      "cell_type": "code",
      "source": [
        "%%bash\n",
        "cat > rust_linear_regression/src/model.rs << 'EOF'\n",
        "use nalgebra::DMatrix;\n",
        "\n",
        "pub fn build_augmented_matrix(x_values: &Vec<f64>) -> DMatrix<f64> {\n",
        "    let n = x_values.len();\n",
        "    // Create an n x 2 matrix:\n",
        "    // first column: ones (for the intercept)\n",
        "    // second column: x_values\n",
        "    DMatrix::from_fn(n, 2, |i, j| if j == 0 { 1.0 } else { x_values[i] })\n",
        "}\n",
        "EOF"
      ],
      "metadata": {
        "id": "59fUGzMyfTdq"
      },
      "execution_count": 26,
      "outputs": []
    },
    {
      "cell_type": "code",
      "source": [
        "%%bash\n",
        "cat > rust_linear_regression/src/train.rs << 'EOF'\n",
        "use nalgebra::{DMatrix, DVector};\n",
        "use std::time::Instant;\n",
        "\n",
        "pub fn train_model(x_aug: &DMatrix<f64>, y_values: &Vec<f64>) -> (DVector<f64>, f64) {\n",
        "    // Build y as an n x 1 vector (the length is inferred from x_aug.nrows())\n",
        "    let y = DVector::from_vec(y_values.clone());\n",
        "    let start = Instant::now();\n",
        "    let xt = x_aug.transpose();\n",
        "    let xtx = &xt * x_aug;\n",
        "    let xty = &xt * &y;\n",
        "    let theta = xtx.try_inverse().expect(\"Matrix is invertible\") * xty;\n",
        "    let duration_ms = start.elapsed().as_secs_f64() * 1000.0;\n",
        "    (theta, duration_ms)\n",
        "}\n",
        "EOF"
      ],
      "metadata": {
        "id": "SVklYqD9hXEk"
      },
      "execution_count": 27,
      "outputs": []
    },
    {
      "cell_type": "code",
      "source": [
        "%%bash\n",
        "cat > rust_linear_regression/src/predict.rs << 'EOF'\n",
        "use nalgebra::DMatrix;\n",
        "use std::time::Instant;\n",
        "\n",
        "pub fn predict(theta: &nalgebra::DVector<f64>, x_new: f64) -> (f64, f64) {\n",
        "    // Build an augmented row for x_new: [1, x_new]\n",
        "    let x_new_aug = DMatrix::from_fn(1, 2, |_, j| if j == 0 { 1.0 } else { x_new });\n",
        "    let start = Instant::now();\n",
        "    let y_pred = &x_new_aug * theta;\n",
        "    let duration_ms = start.elapsed().as_secs_f64() * 1000.0;\n",
        "    (y_pred[0], duration_ms)\n",
        "}\n",
        "EOF"
      ],
      "metadata": {
        "id": "XQHkXz1nhXB8"
      },
      "execution_count": 28,
      "outputs": []
    },
    {
      "cell_type": "code",
      "source": [
        "%%bash\n",
        "cat > rust_linear_regression/src/main.rs << 'EOF'\n",
        "mod dataset;\n",
        "mod model;\n",
        "mod train;\n",
        "mod predict;\n",
        "\n",
        "use dataset::create_dataset;\n",
        "use model::build_augmented_matrix;\n",
        "use train::train_model;\n",
        "use predict::predict;\n",
        "use std::fmt::Write;\n",
        "\n",
        "fn normalize_zero(x: f64, tol: f64) -> f64 {\n",
        "    if x.abs() < tol { 0.0 } else { x }\n",
        "}\n",
        "\n",
        "fn main() {\n",
        "    // Create the dataset\n",
        "    let (x_values, y_values) = create_dataset();\n",
        "\n",
        "    // Build the augmented matrix from x_values\n",
        "    let x_aug = build_augmented_matrix(&x_values);\n",
        "\n",
        "    // Train the model and get training time (in ms)\n",
        "    let (theta, train_time_ms) = train_model(&x_aug, &y_values);\n",
        "\n",
        "    // Normalize theta values to avoid printing -0.0000\n",
        "    let tol = 1e-12;\n",
        "    let theta_norm: Vec<f64> = theta.iter().map(|&x| normalize_zero(x, tol)).collect();\n",
        "\n",
        "    // Format theta as a string with 4 decimal places per element\n",
        "    let mut theta_str = String::new();\n",
        "    theta_str.push('[');\n",
        "    for (i, v) in theta_norm.iter().enumerate() {\n",
        "        if i > 0 {\n",
        "            write!(&mut theta_str, \", \").unwrap();\n",
        "        }\n",
        "        write!(&mut theta_str, \"{:.4}\", v).unwrap();\n",
        "    }\n",
        "    theta_str.push(']');\n",
        "\n",
        "    println!(\"Learned parameters (theta): {}\", theta_str);\n",
        "    println!(\"Training time: {:.6} ms\", train_time_ms);\n",
        "\n",
        "    // Predict for a new data point: x = 6\n",
        "    let (prediction, pred_time_ms) = predict(&theta, 6.0);\n",
        "    println!(\"Prediction for x = 6: {:.4}\", prediction);\n",
        "    println!(\"Prediction time: {:.6} ms\", pred_time_ms);\n",
        "}\n",
        "EOF"
      ],
      "metadata": {
        "id": "nnGOItMDhW_m"
      },
      "execution_count": 29,
      "outputs": []
    },
    {
      "cell_type": "code",
      "source": [
        "%%bash\n",
        "cd rust_linear_regression\n",
        "$HOME/.cargo/bin/cargo run --release --quiet\n",
        "cd .."
      ],
      "metadata": {
        "colab": {
          "base_uri": "https://localhost:8080/"
        },
        "id": "QxQMhKjthW9R",
        "outputId": "0afd726e-0572-4f79-eec8-90f1dcfce8ef"
      },
      "execution_count": 30,
      "outputs": [
        {
          "output_type": "stream",
          "name": "stdout",
          "text": [
            "Learned parameters (theta): [0.0000, 2.0000]\n",
            "Training time: 0.002278 ms\n",
            "Prediction for x = 6: 12.0000\n",
            "Prediction time: 0.000168 ms\n"
          ]
        }
      ]
    },
    {
      "cell_type": "markdown",
      "source": [
        "# Golang"
      ],
      "metadata": {
        "id": "CMo2JEC5nomo"
      }
    },
    {
      "cell_type": "markdown",
      "source": [
        "## Single-File"
      ],
      "metadata": {
        "id": "EZXw2RUflCqi"
      }
    },
    {
      "cell_type": "code",
      "source": [
        "%%bash\n",
        "sudo apt-get update\n",
        "sudo apt-get install -y golang\n",
        "go version"
      ],
      "metadata": {
        "colab": {
          "base_uri": "https://localhost:8080/"
        },
        "id": "c0qiDY_hnqFS",
        "outputId": "d8339bf8-4f0c-42a8-8974-a4d49d0a996a"
      },
      "execution_count": 31,
      "outputs": [
        {
          "output_type": "stream",
          "name": "stdout",
          "text": [
            "Hit:1 http://archive.ubuntu.com/ubuntu jammy InRelease\n",
            "Get:2 http://archive.ubuntu.com/ubuntu jammy-updates InRelease [128 kB]\n",
            "Get:3 https://cloud.r-project.org/bin/linux/ubuntu jammy-cran40/ InRelease [3,626 B]\n",
            "Get:4 https://developer.download.nvidia.com/compute/cuda/repos/ubuntu2204/x86_64  InRelease [1,581 B]\n",
            "Get:5 http://archive.ubuntu.com/ubuntu jammy-backports InRelease [127 kB]\n",
            "Get:6 http://security.ubuntu.com/ubuntu jammy-security InRelease [129 kB]\n",
            "Get:7 https://r2u.stat.illinois.edu/ubuntu jammy InRelease [6,555 B]\n",
            "Get:8 https://ppa.launchpadcontent.net/deadsnakes/ppa/ubuntu jammy InRelease [18.1 kB]\n",
            "Get:9 https://developer.download.nvidia.com/compute/cuda/repos/ubuntu2204/x86_64  Packages [1,309 kB]\n",
            "Hit:10 https://ppa.launchpadcontent.net/graphics-drivers/ppa/ubuntu jammy InRelease\n",
            "Get:11 http://archive.ubuntu.com/ubuntu jammy-updates/main amd64 Packages [2,907 kB]\n",
            "Hit:12 https://ppa.launchpadcontent.net/ubuntugis/ppa/ubuntu jammy InRelease\n",
            "Get:13 http://archive.ubuntu.com/ubuntu jammy-updates/universe amd64 Packages [1,523 kB]\n",
            "Get:14 https://r2u.stat.illinois.edu/ubuntu jammy/main all Packages [8,660 kB]\n",
            "Get:15 http://security.ubuntu.com/ubuntu jammy-security/main amd64 Packages [2,606 kB]\n",
            "Get:16 https://r2u.stat.illinois.edu/ubuntu jammy/main amd64 Packages [2,653 kB]\n",
            "Get:17 http://security.ubuntu.com/ubuntu jammy-security/universe amd64 Packages [1,230 kB]\n",
            "Fetched 21.3 MB in 2s (8,986 kB/s)\n",
            "Reading package lists...\n",
            "Reading package lists...\n",
            "Building dependency tree...\n",
            "Reading state information...\n",
            "The following additional packages will be installed:\n",
            "  golang-1.18 golang-1.18-doc golang-1.18-go golang-1.18-src golang-doc\n",
            "  golang-go golang-src\n",
            "Suggested packages:\n",
            "  bzr | brz mercurial subversion\n",
            "The following NEW packages will be installed:\n",
            "  golang golang-1.18 golang-1.18-doc golang-1.18-go golang-1.18-src golang-doc\n",
            "  golang-go golang-src\n",
            "0 upgraded, 8 newly installed, 0 to remove and 27 not upgraded.\n",
            "Need to get 82.5 MB of archives.\n",
            "After this operation, 438 MB of additional disk space will be used.\n",
            "Get:1 http://archive.ubuntu.com/ubuntu jammy-updates/main amd64 golang-1.18-doc all 1.18.1-1ubuntu1.2 [104 kB]\n",
            "Get:2 http://archive.ubuntu.com/ubuntu jammy-updates/main amd64 golang-1.18-src all 1.18.1-1ubuntu1.2 [16.3 MB]\n",
            "Get:3 http://archive.ubuntu.com/ubuntu jammy-updates/main amd64 golang-1.18-go amd64 1.18.1-1ubuntu1.2 [66.1 MB]\n",
            "Get:4 http://archive.ubuntu.com/ubuntu jammy-updates/main amd64 golang-1.18 all 1.18.1-1ubuntu1.2 [11.2 kB]\n",
            "Get:5 http://archive.ubuntu.com/ubuntu jammy/main amd64 golang-src all 2:1.18~0ubuntu2 [4,438 B]\n",
            "Get:6 http://archive.ubuntu.com/ubuntu jammy/main amd64 golang-go amd64 2:1.18~0ubuntu2 [41.8 kB]\n",
            "Get:7 http://archive.ubuntu.com/ubuntu jammy/main amd64 golang-doc all 2:1.18~0ubuntu2 [2,784 B]\n",
            "Get:8 http://archive.ubuntu.com/ubuntu jammy/main amd64 golang amd64 2:1.18~0ubuntu2 [2,732 B]\n",
            "Fetched 82.5 MB in 1s (76.7 MB/s)\n",
            "Selecting previously unselected package golang-1.18-doc.\r\n",
            "(Reading database ... \r(Reading database ... 5%\r(Reading database ... 10%\r(Reading database ... 15%\r(Reading database ... 20%\r(Reading database ... 25%\r(Reading database ... 30%\r(Reading database ... 35%\r(Reading database ... 40%\r(Reading database ... 45%\r(Reading database ... 50%\r(Reading database ... 55%\r(Reading database ... 60%\r(Reading database ... 65%\r(Reading database ... 70%\r(Reading database ... 75%\r(Reading database ... 80%\r(Reading database ... 85%\r(Reading database ... 90%\r(Reading database ... 95%\r(Reading database ... 100%\r(Reading database ... 124926 files and directories currently installed.)\r\n",
            "Preparing to unpack .../0-golang-1.18-doc_1.18.1-1ubuntu1.2_all.deb ...\r\n",
            "Unpacking golang-1.18-doc (1.18.1-1ubuntu1.2) ...\r\n",
            "Selecting previously unselected package golang-1.18-src.\r\n",
            "Preparing to unpack .../1-golang-1.18-src_1.18.1-1ubuntu1.2_all.deb ...\r\n",
            "Unpacking golang-1.18-src (1.18.1-1ubuntu1.2) ...\r\n",
            "Selecting previously unselected package golang-1.18-go.\r\n",
            "Preparing to unpack .../2-golang-1.18-go_1.18.1-1ubuntu1.2_amd64.deb ...\r\n",
            "Unpacking golang-1.18-go (1.18.1-1ubuntu1.2) ...\r\n",
            "Selecting previously unselected package golang-1.18.\r\n",
            "Preparing to unpack .../3-golang-1.18_1.18.1-1ubuntu1.2_all.deb ...\r\n",
            "Unpacking golang-1.18 (1.18.1-1ubuntu1.2) ...\r\n",
            "Selecting previously unselected package golang-src.\r\n",
            "Preparing to unpack .../4-golang-src_2%3a1.18~0ubuntu2_all.deb ...\r\n",
            "Unpacking golang-src (2:1.18~0ubuntu2) ...\r\n",
            "Selecting previously unselected package golang-go:amd64.\r\n",
            "Preparing to unpack .../5-golang-go_2%3a1.18~0ubuntu2_amd64.deb ...\r\n",
            "Unpacking golang-go:amd64 (2:1.18~0ubuntu2) ...\r\n",
            "Selecting previously unselected package golang-doc.\r\n",
            "Preparing to unpack .../6-golang-doc_2%3a1.18~0ubuntu2_all.deb ...\r\n",
            "Unpacking golang-doc (2:1.18~0ubuntu2) ...\r\n",
            "Selecting previously unselected package golang:amd64.\r\n",
            "Preparing to unpack .../7-golang_2%3a1.18~0ubuntu2_amd64.deb ...\r\n",
            "Unpacking golang:amd64 (2:1.18~0ubuntu2) ...\r\n",
            "Setting up golang-1.18-doc (1.18.1-1ubuntu1.2) ...\r\n",
            "Setting up golang-1.18-src (1.18.1-1ubuntu1.2) ...\r\n",
            "Setting up golang-src (2:1.18~0ubuntu2) ...\r\n",
            "Setting up golang-1.18-go (1.18.1-1ubuntu1.2) ...\r\n",
            "Setting up golang-1.18 (1.18.1-1ubuntu1.2) ...\r\n",
            "Setting up golang-go:amd64 (2:1.18~0ubuntu2) ...\r\n",
            "Setting up golang-doc (2:1.18~0ubuntu2) ...\r\n",
            "Setting up golang:amd64 (2:1.18~0ubuntu2) ...\r\n",
            "Processing triggers for man-db (2.10.2-1) ...\r\n",
            "go version go1.18.1 linux/amd64\n"
          ]
        },
        {
          "output_type": "stream",
          "name": "stderr",
          "text": [
            "W: Skipping acquire of configured file 'main/source/Sources' as repository 'https://r2u.stat.illinois.edu/ubuntu jammy InRelease' does not seem to provide it (sources.list entry misspelt?)\n",
            "debconf: unable to initialize frontend: Dialog\n",
            "debconf: (No usable dialog-like program is installed, so the dialog based frontend cannot be used. at /usr/share/perl5/Debconf/FrontEnd/Dialog.pm line 78, <> line 8.)\n",
            "debconf: falling back to frontend: Readline\n",
            "debconf: unable to initialize frontend: Readline\n",
            "debconf: (This frontend requires a controlling tty.)\n",
            "debconf: falling back to frontend: Teletype\n",
            "dpkg-preconfigure: unable to re-open stdin: \n"
          ]
        }
      ]
    },
    {
      "cell_type": "code",
      "source": [
        "%%bash\n",
        "mkdir -p golang_linreg\n",
        "cd golang_linreg\n",
        "# Initialize the module if not already created\n",
        "go mod init example.com/linreg || echo \"Module already exists\"\n",
        "# Get Gonum v0.14.0 explicitly\n",
        "go get gonum.org/v1/gonum/mat@v0.14.0\n",
        "# Force the entire gonum.org/v1/gonum module to version v0.14.0\n",
        "go mod edit -replace=gonum.org/v1/gonum=gonum.org/v1/gonum@v0.14.0\n",
        "# Tidy up the module\n",
        "go mod tidy\n",
        "cd .."
      ],
      "metadata": {
        "colab": {
          "base_uri": "https://localhost:8080/"
        },
        "id": "Xe-6o7SwoPxo",
        "outputId": "513d8945-34bd-4aca-923e-ab2b312a731f"
      },
      "execution_count": 32,
      "outputs": [
        {
          "output_type": "stream",
          "name": "stderr",
          "text": [
            "go: creating new go.mod: module example.com/linreg\n",
            "go: downloading gonum.org/v1/gonum v0.14.0\n",
            "go: added gonum.org/v1/gonum v0.14.0\n",
            "go: warning: \"all\" matched no packages\n"
          ]
        }
      ]
    },
    {
      "cell_type": "code",
      "source": [
        "%%bash\n",
        "cat > golang_linreg/main.go << 'EOF'\n",
        "package main\n",
        "\n",
        "import (\n",
        "\t\"fmt\"\n",
        "\t\"math\"\n",
        "\t\"time\"\n",
        "\n",
        "\t\"gonum.org/v1/gonum/mat\"\n",
        ")\n",
        "\n",
        "// normalizeZero returns 0.0 if x is very close to zero\n",
        "func normalizeZero(x float64, tol float64) float64 {\n",
        "\tif math.Abs(x) < tol {\n",
        "\t\treturn 0.0\n",
        "\t}\n",
        "\treturn x\n",
        "}\n",
        "\n",
        "func main() {\n",
        "\t// Create a dataset:\n",
        "\t// x = [1, 2, 3, 4, 5]\n",
        "\t// y = [2, 4, 6, 8, 10] (i.e. y = 2 * x)\n",
        "\txValues := []float64{1, 2, 3, 4, 5}\n",
        "\tyValues := []float64{2, 4, 6, 8, 10}\n",
        "\tn := len(xValues)\n",
        "\n",
        "\t// Augment data: create an n x 2 matrix (first column ones, second column xValues)\n",
        "\tXAug := mat.NewDense(n, 2, nil)\n",
        "\tfor i := 0; i < n; i++ {\n",
        "\t\tXAug.Set(i, 0, 1.0)\n",
        "\t\tXAug.Set(i, 1, xValues[i])\n",
        "\t}\n",
        "\n",
        "\t// Build y as an n x 1 vector\n",
        "\ty := mat.NewVecDense(n, yValues)\n",
        "\n",
        "\t// Time the training (solving for theta)\n",
        "\ttrainStart := time.Now()\n",
        "\tvar Xt mat.Dense\n",
        "\tXt.Mul(XAug.T(), XAug) // Xt = XAug^T * XAug\n",
        "\n",
        "\tvar XtInv mat.Dense\n",
        "\tif err := XtInv.Inverse(&Xt); err != nil {\n",
        "\t\tfmt.Println(\"Matrix inversion failed:\", err)\n",
        "\t\treturn\n",
        "\t}\n",
        "\n",
        "\tvar Xty mat.VecDense\n",
        "\tXty.MulVec(XAug.T(), y)\n",
        "\n",
        "\tvar theta mat.VecDense\n",
        "\ttheta.MulVec(&XtInv, &Xty)\n",
        "\ttrainDuration := time.Since(trainStart)\n",
        "\n",
        "\t// Normalize theta values (so that very small numbers print as 0.0000)\n",
        "\ttol := 1e-12\n",
        "\tdata := theta.RawVector().Data\n",
        "\tfor i, v := range data {\n",
        "\t\tdata[i] = normalizeZero(v, tol)\n",
        "\t}\n",
        "\n",
        "\tfmt.Printf(\"Learned parameters (theta): [\")\n",
        "\tfor i, v := range data {\n",
        "\t\tif i > 0 {\n",
        "\t\t\tfmt.Printf(\", \")\n",
        "\t\t}\n",
        "\t\tfmt.Printf(\"%.4f\", v)\n",
        "\t}\n",
        "\tfmt.Println(\"]\")\n",
        "\n",
        "\t// Print training time in both milliseconds and microseconds\n",
        "\ttrainMillis := float64(trainDuration.Milliseconds())\n",
        "\ttrainMicros := float64(trainDuration.Microseconds())\n",
        "\tfmt.Printf(\"Training time: %.6f ms\\n\", trainMillis)\n",
        "\tfmt.Printf(\"Training time: %.6f µs\\n\", trainMicros)\n",
        "\n",
        "\t// Predict for a new data point: x = 6\n",
        "\t// Create an augmented row for x = 6: [1, 6]\n",
        "\tXNewAug := mat.NewDense(1, 2, []float64{1.0, 6.0})\n",
        "\n",
        "\tpredStart := time.Now()\n",
        "\tvar yPred mat.Dense\n",
        "\tyPred.Mul(XNewAug, &theta) // yPred is a 1 x 1 matrix\n",
        "\tpredDuration := time.Since(predStart)\n",
        "\n",
        "\tpredMillis := float64(predDuration.Milliseconds())\n",
        "\tpredMicros := float64(predDuration.Microseconds())\n",
        "\tfmt.Printf(\"Prediction for x = 6: %.4f\\n\", yPred.At(0, 0))\n",
        "\tfmt.Printf(\"Prediction time: %.6f ms\\n\", predMillis)\n",
        "\tfmt.Printf(\"Prediction time: %.6f µs\\n\", predMicros)\n",
        "}\n",
        "EOF"
      ],
      "metadata": {
        "id": "ZrYoinoFoPvS"
      },
      "execution_count": 33,
      "outputs": []
    },
    {
      "cell_type": "code",
      "source": [
        "%%bash\n",
        "cd golang_linreg\n",
        "export GO111MODULE=on\n",
        "go mod tidy && go mod download\n",
        "go run .\n",
        "cd .."
      ],
      "metadata": {
        "colab": {
          "base_uri": "https://localhost:8080/"
        },
        "id": "sASbHnnxoPtO",
        "outputId": "0c85ee0c-c54c-471e-9458-87ff2581ffe9"
      },
      "execution_count": 34,
      "outputs": [
        {
          "output_type": "stream",
          "name": "stdout",
          "text": [
            "Learned parameters (theta): [0.0000, 2.0000]\n",
            "Training time: 0.000000 ms\n",
            "Training time: 151.000000 µs\n",
            "Prediction for x = 6: 12.0000\n",
            "Prediction time: 0.000000 ms\n",
            "Prediction time: 1.000000 µs\n"
          ]
        },
        {
          "output_type": "stream",
          "name": "stderr",
          "text": [
            "go: found gonum.org/v1/gonum/mat in gonum.org/v1/gonum v0.0.0-00010101000000-000000000000\n",
            "go: downloading golang.org/x/exp v0.0.0-20230321023759-10a507213a29\n"
          ]
        }
      ]
    },
    {
      "cell_type": "markdown",
      "source": [
        "## Multi-File"
      ],
      "metadata": {
        "id": "hAEdMOaBa9w7"
      }
    },
    {
      "cell_type": "code",
      "source": [
        "%%bash\n",
        "sudo apt-get update\n",
        "sudo apt-get install -y golang\n",
        "go version"
      ],
      "metadata": {
        "colab": {
          "base_uri": "https://localhost:8080/"
        },
        "id": "Qxl047efaSU-",
        "outputId": "51fae48a-f784-4e40-f44f-169e31219061"
      },
      "execution_count": 35,
      "outputs": [
        {
          "output_type": "stream",
          "name": "stdout",
          "text": [
            "Hit:1 http://security.ubuntu.com/ubuntu jammy-security InRelease\n",
            "Hit:2 https://developer.download.nvidia.com/compute/cuda/repos/ubuntu2204/x86_64  InRelease\n",
            "Hit:3 https://cloud.r-project.org/bin/linux/ubuntu jammy-cran40/ InRelease\n",
            "Hit:4 http://archive.ubuntu.com/ubuntu jammy InRelease\n",
            "Hit:5 https://r2u.stat.illinois.edu/ubuntu jammy InRelease\n",
            "Hit:6 http://archive.ubuntu.com/ubuntu jammy-updates InRelease\n",
            "Hit:7 http://archive.ubuntu.com/ubuntu jammy-backports InRelease\n",
            "Hit:8 https://ppa.launchpadcontent.net/deadsnakes/ppa/ubuntu jammy InRelease\n",
            "Hit:9 https://ppa.launchpadcontent.net/graphics-drivers/ppa/ubuntu jammy InRelease\n",
            "Hit:10 https://ppa.launchpadcontent.net/ubuntugis/ppa/ubuntu jammy InRelease\n",
            "Reading package lists...\n",
            "Reading package lists...\n",
            "Building dependency tree...\n",
            "Reading state information...\n",
            "golang is already the newest version (2:1.18~0ubuntu2).\n",
            "0 upgraded, 0 newly installed, 0 to remove and 27 not upgraded.\n",
            "go version go1.18.1 linux/amd64\n"
          ]
        },
        {
          "output_type": "stream",
          "name": "stderr",
          "text": [
            "W: Skipping acquire of configured file 'main/source/Sources' as repository 'https://r2u.stat.illinois.edu/ubuntu jammy InRelease' does not seem to provide it (sources.list entry misspelt?)\n"
          ]
        }
      ]
    },
    {
      "cell_type": "code",
      "source": [
        "%%bash\n",
        "rm -rf golang_linreg"
      ],
      "metadata": {
        "id": "rbfV1MMaeFal"
      },
      "execution_count": 36,
      "outputs": []
    },
    {
      "cell_type": "code",
      "source": [
        "%%bash\n",
        "mkdir -p golang_linreg\n",
        "cd golang_linreg\n",
        "# Initialize the module\n",
        "go mod init example.com/linreg || echo \"Module already exists\"\n",
        "# Force using Gonum v0.14.0 (compatible with Go 1.18)\n",
        "go get gonum.org/v1/gonum/mat@v0.14.0\n",
        "go mod edit -replace=gonum.org/v1/gonum=gonum.org/v1/gonum@v0.14.0\n",
        "go mod tidy\n",
        "cd .."
      ],
      "metadata": {
        "colab": {
          "base_uri": "https://localhost:8080/"
        },
        "id": "u9WeeopHaSR1",
        "outputId": "5ae0c3a0-ac5a-40ae-c65f-beedcf2a9fc6"
      },
      "execution_count": 37,
      "outputs": [
        {
          "output_type": "stream",
          "name": "stderr",
          "text": [
            "go: creating new go.mod: module example.com/linreg\n",
            "go: added gonum.org/v1/gonum v0.14.0\n",
            "go: warning: \"all\" matched no packages\n"
          ]
        }
      ]
    },
    {
      "cell_type": "code",
      "source": [
        "%%bash\n",
        "cat > golang_linreg/dataset.go << 'EOF'\n",
        "package main\n",
        "\n",
        "// CreateDataset returns the x-values, y-values, and the number of data points\n",
        "func CreateDataset() ([]float64, []float64, int) {\n",
        "\txValues := []float64{1, 2, 3, 4, 5}\n",
        "\tyValues := []float64{2, 4, 6, 8, 10}\n",
        "\treturn xValues, yValues, len(xValues)\n",
        "}\n",
        "EOF"
      ],
      "metadata": {
        "id": "_kOKVd7qaSO_"
      },
      "execution_count": 38,
      "outputs": []
    },
    {
      "cell_type": "code",
      "source": [
        "%%bash\n",
        "cat > golang_linreg/model.go << 'EOF'\n",
        "package main\n",
        "\n",
        "import \"gonum.org/v1/gonum/mat\"\n",
        "\n",
        "// BuildAugmentedMatrix creates an n x 2 matrix from xValues\n",
        "// The first column is ones (for the intercept) and the second column is xValues\n",
        "func BuildAugmentedMatrix(xValues []float64) *mat.Dense {\n",
        "\tn := len(xValues)\n",
        "\tXAug := mat.NewDense(n, 2, nil)\n",
        "\tfor i := 0; i < n; i++ {\n",
        "\t\tXAug.Set(i, 0, 1.0)\n",
        "\t\tXAug.Set(i, 1, xValues[i])\n",
        "\t}\n",
        "\treturn XAug\n",
        "}\n",
        "EOF"
      ],
      "metadata": {
        "id": "jaP31SKkaYmo"
      },
      "execution_count": 39,
      "outputs": []
    },
    {
      "cell_type": "code",
      "source": [
        "%%bash\n",
        "cat > golang_linreg/train.go << 'EOF'\n",
        "package main\n",
        "\n",
        "import (\n",
        "\t\"fmt\"\n",
        "\t\"time\"\n",
        "\n",
        "\t\"gonum.org/v1/gonum/mat\"\n",
        ")\n",
        "\n",
        "// TrainModel trains the linear regression model using the augmented matrix XAug and yValues\n",
        "// It returns the computed theta (model parameters) and the training duration\n",
        "func TrainModel(XAug *mat.Dense, yValues []float64) (*mat.VecDense, time.Duration, error) {\n",
        "\tn, _ := XAug.Dims()\n",
        "\ty := mat.NewVecDense(n, yValues)\n",
        "\ttrainStart := time.Now()\n",
        "\tvar Xt mat.Dense\n",
        "\tXt.Mul(XAug.T(), XAug)\n",
        "\tvar XtInv mat.Dense\n",
        "\tif err := XtInv.Inverse(&Xt); err != nil {\n",
        "\t\treturn nil, 0, fmt.Errorf(\"matrix inversion failed: %v\", err)\n",
        "\t}\n",
        "\tvar Xty mat.VecDense\n",
        "\tXty.MulVec(XAug.T(), y)\n",
        "\tvar theta mat.VecDense\n",
        "\ttheta.MulVec(&XtInv, &Xty)\n",
        "\ttrainDuration := time.Since(trainStart)\n",
        "\treturn &theta, trainDuration, nil\n",
        "}\n",
        "EOF"
      ],
      "metadata": {
        "id": "9s8TA9V1aaY2"
      },
      "execution_count": 40,
      "outputs": []
    },
    {
      "cell_type": "code",
      "source": [
        "%%bash\n",
        "cat > golang_linreg/predict.go << 'EOF'\n",
        "package main\n",
        "\n",
        "import (\n",
        "\t\"time\"\n",
        "\n",
        "\t\"gonum.org/v1/gonum/mat\"\n",
        ")\n",
        "\n",
        "// Predict uses the trained model (theta) to predict the target value for xNew\n",
        "// It creates an augmented row for xNew and returns the predicted value and the prediction duration\n",
        "func Predict(theta *mat.VecDense, xNew float64) (float64, time.Duration) {\n",
        "\tXNewAug := mat.NewDense(1, 2, []float64{1.0, xNew})\n",
        "\tpredStart := time.Now()\n",
        "\tvar yPred mat.Dense\n",
        "\tyPred.Mul(XNewAug, theta)\n",
        "\tpredDuration := time.Since(predStart)\n",
        "\treturn yPred.At(0, 0), predDuration\n",
        "}\n",
        "EOF"
      ],
      "metadata": {
        "id": "opKfiyFqabtJ"
      },
      "execution_count": 41,
      "outputs": []
    },
    {
      "cell_type": "code",
      "source": [
        "%%bash\n",
        "cat > golang_linreg/main.go << 'EOF'\n",
        "package main\n",
        "\n",
        "import (\n",
        "\t\"fmt\"\n",
        "\t\"math\"\n",
        "\t\"time\" // Required for time.Duration and our dummy usage\n",
        ")\n",
        "\n",
        "var _ = time.Nanosecond // Dummy use of time to avoid \"imported and not used\" error\n",
        "\n",
        "// normalizeZero returns 0.0 if x is extremely close to zero\n",
        "func normalizeZero(x float64, tol float64) float64 {\n",
        "\tif math.Abs(x) < tol {\n",
        "\t\treturn 0.0\n",
        "\t}\n",
        "\treturn x\n",
        "}\n",
        "\n",
        "func main() {\n",
        "\t// Create the dataset\n",
        "\txValues, yValues, _ := CreateDataset()\n",
        "\n",
        "\t// Build the augmented matrix\n",
        "\tXAug := BuildAugmentedMatrix(xValues)\n",
        "\n",
        "\t// Train the model\n",
        "\ttheta, trainDuration, err := TrainModel(XAug, yValues)\n",
        "\tif err != nil {\n",
        "\t\tfmt.Println(err)\n",
        "\t\treturn\n",
        "\t}\n",
        "\n",
        "\t// Normalize theta values so that very small numbers print as 0.0000\n",
        "\ttol := 1e-12\n",
        "\tthetaData := theta.RawVector().Data\n",
        "\tfor i, v := range thetaData {\n",
        "\t\tthetaData[i] = normalizeZero(v, tol)\n",
        "\t}\n",
        "\n",
        "\t// Print the learned parameters (theta) with 4 decimal places\n",
        "\tfmt.Printf(\"Learned parameters (theta): [\")\n",
        "\tfor i, v := range thetaData {\n",
        "\t\tif i > 0 {\n",
        "\t\t\tfmt.Printf(\", \")\n",
        "\t\t}\n",
        "\t\tfmt.Printf(\"%.4f\", v)\n",
        "\t}\n",
        "\tfmt.Println(\"]\")\n",
        "\n",
        "\t// Print training time in both milliseconds and microseconds\n",
        "\ttrainMillis := float64(trainDuration.Milliseconds())\n",
        "\ttrainMicros := float64(trainDuration.Microseconds())\n",
        "\tfmt.Printf(\"Training time: %.6f ms\\n\", trainMillis)\n",
        "\tfmt.Printf(\"Training time: %.6f µs\\n\", trainMicros)\n",
        "\n",
        "\t// Predict for a new data point: x = 6\n",
        "\tprediction, predDuration := Predict(theta, 6.0)\n",
        "\tfmt.Printf(\"Prediction for x = 6: %.4f\\n\", prediction)\n",
        "\tpredMillis := float64(predDuration.Milliseconds())\n",
        "\tpredMicros := float64(predDuration.Microseconds())\n",
        "\tfmt.Printf(\"Prediction time: %.6f ms\\n\", predMillis)\n",
        "\tfmt.Printf(\"Prediction time: %.6f µs\\n\", predMicros)\n",
        "}\n",
        "EOF"
      ],
      "metadata": {
        "id": "WV2vZwSeadSe"
      },
      "execution_count": 42,
      "outputs": []
    },
    {
      "cell_type": "code",
      "source": [
        "%%bash\n",
        "cd golang_linreg\n",
        "export GO111MODULE=on\n",
        "go mod tidy && go mod download\n",
        "go run .\n",
        "cd .."
      ],
      "metadata": {
        "colab": {
          "base_uri": "https://localhost:8080/"
        },
        "id": "BFus0CxbaemE",
        "outputId": "c705bf37-95e2-44b5-9b12-a8e53608a720"
      },
      "execution_count": 43,
      "outputs": [
        {
          "output_type": "stream",
          "name": "stdout",
          "text": [
            "Learned parameters (theta): [0.0000, 2.0000]\n",
            "Training time: 0.000000 ms\n",
            "Training time: 208.000000 µs\n",
            "Prediction for x = 6: 12.0000\n",
            "Prediction time: 0.000000 ms\n",
            "Prediction time: 1.000000 µs\n"
          ]
        },
        {
          "output_type": "stream",
          "name": "stderr",
          "text": [
            "go: found gonum.org/v1/gonum/mat in gonum.org/v1/gonum v0.0.0-00010101000000-000000000000\n"
          ]
        }
      ]
    }
  ]
}