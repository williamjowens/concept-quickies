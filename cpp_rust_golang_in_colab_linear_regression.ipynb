{
  "nbformat": 4,
  "nbformat_minor": 0,
  "metadata": {
    "colab": {
      "provenance": [],
      "toc_visible": true
    },
    "kernelspec": {
      "name": "python3",
      "display_name": "Python 3"
    },
    "language_info": {
      "name": "python"
    }
  },
  "cells": [
    {
      "cell_type": "markdown",
      "source": [
        "# CPP"
      ],
      "metadata": {
        "id": "I5IE4kD4njtQ"
      }
    },
    {
      "cell_type": "code",
      "source": [
        "%%bash\n",
        "cat > main.cpp << 'EOF'\n",
        "#include <armadillo>\n",
        "#include <iostream>\n",
        "#include <chrono>\n",
        "\n",
        "using namespace arma;\n",
        "using namespace std;\n",
        "using namespace std::chrono;\n",
        "\n",
        "int main() {\n",
        "    // Create a simple dataset:\n",
        "    // X: a 5x1 matrix representing [1, 2, 3, 4, 5]\n",
        "    // y: a 5x1 vector representing [2, 4, 6, 8, 10] (i.e. y = 2 * x)\n",
        "    mat X(5, 1);\n",
        "    X(0, 0) = 1.0;\n",
        "    X(1, 0) = 2.0;\n",
        "    X(2, 0) = 3.0;\n",
        "    X(3, 0) = 4.0;\n",
        "    X(4, 0) = 5.0;\n",
        "\n",
        "    vec y(5);\n",
        "    y(0) = 2.0;\n",
        "    y(1) = 4.0;\n",
        "    y(2) = 6.0;\n",
        "    y(3) = 8.0;\n",
        "    y(4) = 10.0;\n",
        "\n",
        "    // Augment X with a column of ones for the intercept\n",
        "    mat X_aug = join_horiz(ones<vec>(X.n_rows), X);\n",
        "\n",
        "    // Time the training (solving for theta)\n",
        "    auto train_start = high_resolution_clock::now();\n",
        "    // Solve the normal equation: theta = (X_aug^T * X_aug)^-1 * (X_aug^T * y)\n",
        "    vec theta = solve(X_aug, y);\n",
        "    auto train_end = high_resolution_clock::now();\n",
        "    duration<double, milli> train_duration = train_end - train_start;\n",
        "\n",
        "    cout << \"Learned parameters (theta): \" << theta.t() << endl;\n",
        "    cout << \"Training time: \" << train_duration.count() << \" ms\" << endl;\n",
        "\n",
        "    // Predict for a new data point: x = 6\n",
        "    mat X_new(1, 1);\n",
        "    X_new(0, 0) = 6.0;\n",
        "    mat X_new_aug = join_horiz(ones<vec>(X_new.n_rows), X_new);\n",
        "\n",
        "    auto pred_start = high_resolution_clock::now();\n",
        "    vec y_pred = X_new_aug * theta;\n",
        "    auto pred_end = high_resolution_clock::now();\n",
        "    duration<double, milli> pred_duration = pred_end - pred_start;\n",
        "\n",
        "    cout << \"Prediction for x = 6: \" << y_pred[0] << endl;\n",
        "    cout << \"Prediction time: \" << pred_duration.count() << \" ms\" << endl;\n",
        "\n",
        "    return 0;\n",
        "}\n",
        "EOF"
      ],
      "metadata": {
        "id": "uthINfZ3nnu3"
      },
      "execution_count": 1,
      "outputs": []
    },
    {
      "cell_type": "code",
      "source": [
        "%%bash\n",
        "g++ -O2 -std=c++11 main.cpp -o linear_regression -larmadillo -llapack -lblas"
      ],
      "metadata": {
        "id": "9-A1h1JtoDSs"
      },
      "execution_count": 2,
      "outputs": []
    },
    {
      "cell_type": "code",
      "source": [
        "# %%bash\n",
        "# g++ -O2 -std=c++11 main.cpp -o linear_regression -larmadillo -lopenblas"
      ],
      "metadata": {
        "id": "j3kzZFIAp288"
      },
      "execution_count": 3,
      "outputs": []
    },
    {
      "cell_type": "code",
      "source": [
        "!./linear_regression"
      ],
      "metadata": {
        "colab": {
          "base_uri": "https://localhost:8080/"
        },
        "id": "AhWOVTPHoEO2",
        "outputId": "4247a1e5-50f7-46dd-fb69-79fb16839bdf"
      },
      "execution_count": 4,
      "outputs": [
        {
          "output_type": "stream",
          "name": "stdout",
          "text": [
            "Learned parameters (theta):   -2.3832e-15   2.0000e+00\n",
            "\n",
            "Training time: 18.9401 ms\n",
            "Prediction for x = 6: 12\n",
            "Prediction time: 0.008541 ms\n"
          ]
        }
      ]
    },
    {
      "cell_type": "markdown",
      "source": [
        "# Rust"
      ],
      "metadata": {
        "id": "Xr6TTFsYnorj"
      }
    },
    {
      "cell_type": "code",
      "source": [
        "%%bash\n",
        "curl https://sh.rustup.rs -sSf | sh -s -- -y\n",
        "export PATH=\"$HOME/.cargo/bin:$PATH\"\n",
        "rustc --version"
      ],
      "metadata": {
        "colab": {
          "base_uri": "https://localhost:8080/"
        },
        "id": "M6ZFYGXBnopN",
        "outputId": "29bf6569-dfbd-49a7-a22d-98fbb438fd31"
      },
      "execution_count": 5,
      "outputs": [
        {
          "output_type": "stream",
          "name": "stdout",
          "text": [
            "\n",
            "  stable-x86_64-unknown-linux-gnu installed - rustc 1.84.1 (e71f9a9a9 2025-01-27)\n",
            "\n",
            "\n",
            "Rust is installed now. Great!\n",
            "\n",
            "To get started you may need to restart your current shell.\n",
            "This would reload your PATH environment variable to include\n",
            "Cargo's bin directory ($HOME/.cargo/bin).\n",
            "\n",
            "To configure your current shell, you need to source\n",
            "the corresponding env file under $HOME/.cargo.\n",
            "\n",
            "This is usually done by running one of the following (note the leading DOT):\n",
            ". \"$HOME/.cargo/env\"            # For sh/bash/zsh/ash/dash/pdksh\n",
            "source \"$HOME/.cargo/env.fish\"  # For fish\n",
            "rustc 1.84.1 (e71f9a9a9 2025-01-27)\n"
          ]
        },
        {
          "output_type": "stream",
          "name": "stderr",
          "text": [
            "info: downloading installer\n",
            "info: profile set to 'default'\n",
            "info: default host triple is x86_64-unknown-linux-gnu\n",
            "info: syncing channel updates for 'stable-x86_64-unknown-linux-gnu'\n",
            "info: latest update on 2025-01-30, rust version 1.84.1 (e71f9a9a9 2025-01-27)\n",
            "info: downloading component 'cargo'\n",
            "info: downloading component 'clippy'\n",
            "info: downloading component 'rust-docs'\n",
            "info: downloading component 'rust-std'\n",
            "info: downloading component 'rustc'\n",
            "info: downloading component 'rustfmt'\n",
            "info: installing component 'cargo'\n",
            "info: installing component 'clippy'\n",
            "info: installing component 'rust-docs'\n",
            "info: installing component 'rust-std'\n",
            "info: installing component 'rustc'\n",
            "info: installing component 'rustfmt'\n",
            "info: default toolchain set to 'stable-x86_64-unknown-linux-gnu'\n"
          ]
        }
      ]
    },
    {
      "cell_type": "code",
      "source": [
        "%%bash\n",
        "rm -rf rust_linear_regression\n",
        "$HOME/.cargo/bin/cargo init --bin rust_linear_regression"
      ],
      "metadata": {
        "colab": {
          "base_uri": "https://localhost:8080/"
        },
        "id": "JeNu5tedoIBU",
        "outputId": "0e3bf57b-9e36-4563-8860-45d2afc31746"
      },
      "execution_count": 6,
      "outputs": [
        {
          "output_type": "stream",
          "name": "stderr",
          "text": [
            "    Creating binary (application) package\n",
            "note: see more `Cargo.toml` keys and their definitions at https://doc.rust-lang.org/cargo/reference/manifest.html\n"
          ]
        }
      ]
    },
    {
      "cell_type": "code",
      "source": [
        "%%bash\n",
        "cd rust_linear_regression\n",
        "# Append the dependency only if not already present\n",
        "grep -q 'nalgebra' Cargo.toml || echo 'nalgebra = \"0.32.0\"' >> Cargo.toml\n",
        "cd .."
      ],
      "metadata": {
        "id": "1epcf-NnoH4K"
      },
      "execution_count": 7,
      "outputs": []
    },
    {
      "cell_type": "code",
      "source": [
        "%%bash\n",
        "mkdir -p rust_linear_regression/src\n",
        "cat > rust_linear_regression/src/main.rs << 'EOF'\n",
        "use nalgebra::{DMatrix, DVector};\n",
        "use std::time::Instant;\n",
        "\n",
        "fn main() {\n",
        "    // Create a dataset:\n",
        "    // x = [1, 2, 3, 4, 5]\n",
        "    // y = [2, 4, 6, 8, 10] (i.e. y = 2 * x)\n",
        "    let x_values = vec![1.0, 2.0, 3.0, 4.0, 5.0];\n",
        "    let y_values = vec![2.0, 4.0, 6.0, 8.0, 10.0];\n",
        "    let n = x_values.len();\n",
        "\n",
        "    // Build an augmented matrix (x_aug) directly:\n",
        "    // The first column is ones (for the intercept), and the second column is x_values\n",
        "    let x_aug = DMatrix::from_fn(n, 2, |i, j| if j == 0 { 1.0 } else { x_values[i] });\n",
        "\n",
        "    // Build y as an n x 1 vector\n",
        "    let y = DVector::from_vec(y_values);\n",
        "\n",
        "    // Time the training (solving for theta)\n",
        "    let train_start = Instant::now();\n",
        "    let xt = x_aug.transpose();\n",
        "    let xtx = &xt * &x_aug;\n",
        "    let xty = &xt * &y;\n",
        "    let theta = xtx.try_inverse().expect(\"Matrix is invertible\") * xty;\n",
        "    let train_duration = train_start.elapsed();\n",
        "\n",
        "    // Print theta with 4 decimal places per element\n",
        "    print!(\"Learned parameters (theta): [\");\n",
        "    for i in 0..theta.len() {\n",
        "        if i > 0 {\n",
        "            print!(\", \");\n",
        "        }\n",
        "        // Print each element with 4 decimal places\n",
        "        print!(\"{:.4}\", theta[i]);\n",
        "    }\n",
        "    println!(\"]\");\n",
        "    println!(\"Training time: {:.4} ms\", train_duration.as_secs_f64() * 1000.0);\n",
        "\n",
        "    // For prediction, create an augmented matrix for x = 6: [1, 6]\n",
        "    let x_new_aug = DMatrix::from_fn(1, 2, |_, j| if j == 0 { 1.0 } else { 6.0 });\n",
        "    let pred_start = Instant::now();\n",
        "    let y_pred = &x_new_aug * &theta;\n",
        "    let pred_duration = pred_start.elapsed();\n",
        "\n",
        "    println!(\"Prediction for x = 6: {:.4}\", y_pred[0]);\n",
        "    println!(\"Prediction time: {:.4} ms\", pred_duration.as_secs_f64() * 1000.0);\n",
        "}\n",
        "EOF"
      ],
      "metadata": {
        "id": "2uAlAH34oHzv"
      },
      "execution_count": 8,
      "outputs": []
    },
    {
      "cell_type": "code",
      "source": [
        "%%bash\n",
        "cd rust_linear_regression\n",
        "$HOME/.cargo/bin/cargo run --release --quiet\n",
        "cd .."
      ],
      "metadata": {
        "colab": {
          "base_uri": "https://localhost:8080/"
        },
        "id": "9iW599bIoMFu",
        "outputId": "3589e622-622b-4900-f5cf-8ecf31bd9ea2"
      },
      "execution_count": 9,
      "outputs": [
        {
          "output_type": "stream",
          "name": "stdout",
          "text": [
            "Learned parameters (theta): [0.0000, 2.0000]\n",
            "Training time: 0.0006 ms\n",
            "Prediction for x = 6: 12.0000\n",
            "Prediction time: 0.0003 ms\n"
          ]
        }
      ]
    },
    {
      "cell_type": "code",
      "source": [
        "# %%bash\n",
        "# cd rust_linear_regression\n",
        "# $HOME/.cargo/bin/cargo build --release --quiet\n",
        "# ./target/release/rust_linear_regression\n",
        "# cd .."
      ],
      "metadata": {
        "id": "cOYtYFDTyDoK"
      },
      "execution_count": 10,
      "outputs": []
    },
    {
      "cell_type": "markdown",
      "source": [
        "# GoLang"
      ],
      "metadata": {
        "id": "CMo2JEC5nomo"
      }
    },
    {
      "cell_type": "code",
      "source": [
        "%%bash\n",
        "sudo apt-get update\n",
        "sudo apt-get install -y golang\n",
        "go version"
      ],
      "metadata": {
        "colab": {
          "base_uri": "https://localhost:8080/"
        },
        "id": "c0qiDY_hnqFS",
        "outputId": "962ede94-46d0-41e6-a663-16fafd047ecc"
      },
      "execution_count": 11,
      "outputs": [
        {
          "output_type": "stream",
          "name": "stdout",
          "text": [
            "Get:1 https://cloud.r-project.org/bin/linux/ubuntu jammy-cran40/ InRelease [3,626 B]\n",
            "Get:2 https://developer.download.nvidia.com/compute/cuda/repos/ubuntu2204/x86_64  InRelease [1,581 B]\n",
            "Get:3 http://security.ubuntu.com/ubuntu jammy-security InRelease [129 kB]\n",
            "Hit:4 http://archive.ubuntu.com/ubuntu jammy InRelease\n",
            "Get:5 http://archive.ubuntu.com/ubuntu jammy-updates InRelease [128 kB]\n",
            "Get:6 https://r2u.stat.illinois.edu/ubuntu jammy InRelease [6,555 B]\n",
            "Get:7 https://developer.download.nvidia.com/compute/cuda/repos/ubuntu2204/x86_64  Packages [1,309 kB]\n",
            "Get:8 http://archive.ubuntu.com/ubuntu jammy-backports InRelease [127 kB]\n",
            "Get:9 https://r2u.stat.illinois.edu/ubuntu jammy/main all Packages [8,660 kB]\n",
            "Get:10 https://ppa.launchpadcontent.net/deadsnakes/ppa/ubuntu jammy InRelease [18.1 kB]\n",
            "Get:11 http://security.ubuntu.com/ubuntu jammy-security/universe amd64 Packages [1,230 kB]\n",
            "Get:12 http://archive.ubuntu.com/ubuntu jammy-updates/universe amd64 Packages [1,523 kB]\n",
            "Hit:13 https://ppa.launchpadcontent.net/graphics-drivers/ppa/ubuntu jammy InRelease\n",
            "Hit:14 https://ppa.launchpadcontent.net/ubuntugis/ppa/ubuntu jammy InRelease\n",
            "Get:15 http://security.ubuntu.com/ubuntu jammy-security/main amd64 Packages [2,606 kB]\n",
            "Get:16 http://archive.ubuntu.com/ubuntu jammy-updates/main amd64 Packages [2,907 kB]\n",
            "Get:17 https://r2u.stat.illinois.edu/ubuntu jammy/main amd64 Packages [2,653 kB]\n",
            "Fetched 21.3 MB in 3s (8,101 kB/s)\n",
            "Reading package lists...\n",
            "Reading package lists...\n",
            "Building dependency tree...\n",
            "Reading state information...\n",
            "The following additional packages will be installed:\n",
            "  golang-1.18 golang-1.18-doc golang-1.18-go golang-1.18-src golang-doc\n",
            "  golang-go golang-src\n",
            "Suggested packages:\n",
            "  bzr | brz mercurial subversion\n",
            "The following NEW packages will be installed:\n",
            "  golang golang-1.18 golang-1.18-doc golang-1.18-go golang-1.18-src golang-doc\n",
            "  golang-go golang-src\n",
            "0 upgraded, 8 newly installed, 0 to remove and 27 not upgraded.\n",
            "Need to get 82.5 MB of archives.\n",
            "After this operation, 438 MB of additional disk space will be used.\n",
            "Get:1 http://archive.ubuntu.com/ubuntu jammy-updates/main amd64 golang-1.18-doc all 1.18.1-1ubuntu1.2 [104 kB]\n",
            "Get:2 http://archive.ubuntu.com/ubuntu jammy-updates/main amd64 golang-1.18-src all 1.18.1-1ubuntu1.2 [16.3 MB]\n",
            "Get:3 http://archive.ubuntu.com/ubuntu jammy-updates/main amd64 golang-1.18-go amd64 1.18.1-1ubuntu1.2 [66.1 MB]\n",
            "Get:4 http://archive.ubuntu.com/ubuntu jammy-updates/main amd64 golang-1.18 all 1.18.1-1ubuntu1.2 [11.2 kB]\n",
            "Get:5 http://archive.ubuntu.com/ubuntu jammy/main amd64 golang-src all 2:1.18~0ubuntu2 [4,438 B]\n",
            "Get:6 http://archive.ubuntu.com/ubuntu jammy/main amd64 golang-go amd64 2:1.18~0ubuntu2 [41.8 kB]\n",
            "Get:7 http://archive.ubuntu.com/ubuntu jammy/main amd64 golang-doc all 2:1.18~0ubuntu2 [2,784 B]\n",
            "Get:8 http://archive.ubuntu.com/ubuntu jammy/main amd64 golang amd64 2:1.18~0ubuntu2 [2,732 B]\n",
            "Fetched 82.5 MB in 2s (39.6 MB/s)\n",
            "Selecting previously unselected package golang-1.18-doc.\r\n",
            "(Reading database ... \r(Reading database ... 5%\r(Reading database ... 10%\r(Reading database ... 15%\r(Reading database ... 20%\r(Reading database ... 25%\r(Reading database ... 30%\r(Reading database ... 35%\r(Reading database ... 40%\r(Reading database ... 45%\r(Reading database ... 50%\r(Reading database ... 55%\r(Reading database ... 60%\r(Reading database ... 65%\r(Reading database ... 70%\r(Reading database ... 75%\r(Reading database ... 80%\r(Reading database ... 85%\r(Reading database ... 90%\r(Reading database ... 95%\r(Reading database ... 100%\r(Reading database ... 124926 files and directories currently installed.)\r\n",
            "Preparing to unpack .../0-golang-1.18-doc_1.18.1-1ubuntu1.2_all.deb ...\r\n",
            "Unpacking golang-1.18-doc (1.18.1-1ubuntu1.2) ...\r\n",
            "Selecting previously unselected package golang-1.18-src.\r\n",
            "Preparing to unpack .../1-golang-1.18-src_1.18.1-1ubuntu1.2_all.deb ...\r\n",
            "Unpacking golang-1.18-src (1.18.1-1ubuntu1.2) ...\r\n",
            "Selecting previously unselected package golang-1.18-go.\r\n",
            "Preparing to unpack .../2-golang-1.18-go_1.18.1-1ubuntu1.2_amd64.deb ...\r\n",
            "Unpacking golang-1.18-go (1.18.1-1ubuntu1.2) ...\r\n",
            "Selecting previously unselected package golang-1.18.\r\n",
            "Preparing to unpack .../3-golang-1.18_1.18.1-1ubuntu1.2_all.deb ...\r\n",
            "Unpacking golang-1.18 (1.18.1-1ubuntu1.2) ...\r\n",
            "Selecting previously unselected package golang-src.\r\n",
            "Preparing to unpack .../4-golang-src_2%3a1.18~0ubuntu2_all.deb ...\r\n",
            "Unpacking golang-src (2:1.18~0ubuntu2) ...\r\n",
            "Selecting previously unselected package golang-go:amd64.\r\n",
            "Preparing to unpack .../5-golang-go_2%3a1.18~0ubuntu2_amd64.deb ...\r\n",
            "Unpacking golang-go:amd64 (2:1.18~0ubuntu2) ...\r\n",
            "Selecting previously unselected package golang-doc.\r\n",
            "Preparing to unpack .../6-golang-doc_2%3a1.18~0ubuntu2_all.deb ...\r\n",
            "Unpacking golang-doc (2:1.18~0ubuntu2) ...\r\n",
            "Selecting previously unselected package golang:amd64.\r\n",
            "Preparing to unpack .../7-golang_2%3a1.18~0ubuntu2_amd64.deb ...\r\n",
            "Unpacking golang:amd64 (2:1.18~0ubuntu2) ...\r\n",
            "Setting up golang-1.18-doc (1.18.1-1ubuntu1.2) ...\r\n",
            "Setting up golang-1.18-src (1.18.1-1ubuntu1.2) ...\r\n",
            "Setting up golang-src (2:1.18~0ubuntu2) ...\r\n",
            "Setting up golang-1.18-go (1.18.1-1ubuntu1.2) ...\r\n",
            "Setting up golang-1.18 (1.18.1-1ubuntu1.2) ...\r\n",
            "Setting up golang-go:amd64 (2:1.18~0ubuntu2) ...\r\n",
            "Setting up golang-doc (2:1.18~0ubuntu2) ...\r\n",
            "Setting up golang:amd64 (2:1.18~0ubuntu2) ...\r\n",
            "Processing triggers for man-db (2.10.2-1) ...\r\n",
            "go version go1.18.1 linux/amd64\n"
          ]
        },
        {
          "output_type": "stream",
          "name": "stderr",
          "text": [
            "W: Skipping acquire of configured file 'main/source/Sources' as repository 'https://r2u.stat.illinois.edu/ubuntu jammy InRelease' does not seem to provide it (sources.list entry misspelt?)\n",
            "debconf: unable to initialize frontend: Dialog\n",
            "debconf: (No usable dialog-like program is installed, so the dialog based frontend cannot be used. at /usr/share/perl5/Debconf/FrontEnd/Dialog.pm line 78, <> line 8.)\n",
            "debconf: falling back to frontend: Readline\n",
            "debconf: unable to initialize frontend: Readline\n",
            "debconf: (This frontend requires a controlling tty.)\n",
            "debconf: falling back to frontend: Teletype\n",
            "dpkg-preconfigure: unable to re-open stdin: \n"
          ]
        }
      ]
    },
    {
      "cell_type": "code",
      "source": [
        "%%bash\n",
        "mkdir -p golang_linreg\n",
        "cd golang_linreg\n",
        "# Initialize the module if not already created\n",
        "go mod init example.com/linreg || echo \"Module already exists\"\n",
        "# Get Gonum v0.14.0 explicitly\n",
        "go get gonum.org/v1/gonum/mat@v0.14.0\n",
        "# Force the entire gonum.org/v1/gonum module to version v0.14.0\n",
        "go mod edit -replace=gonum.org/v1/gonum=gonum.org/v1/gonum@v0.14.0\n",
        "# Tidy up the module\n",
        "go mod tidy\n",
        "cd .."
      ],
      "metadata": {
        "colab": {
          "base_uri": "https://localhost:8080/"
        },
        "id": "Xe-6o7SwoPxo",
        "outputId": "354406e0-ce3d-44c2-85db-3b29a60f961a"
      },
      "execution_count": 12,
      "outputs": [
        {
          "output_type": "stream",
          "name": "stderr",
          "text": [
            "go: creating new go.mod: module example.com/linreg\n",
            "go: downloading gonum.org/v1/gonum v0.14.0\n",
            "go: added gonum.org/v1/gonum v0.14.0\n",
            "go: warning: \"all\" matched no packages\n"
          ]
        }
      ]
    },
    {
      "cell_type": "code",
      "source": [
        "%%bash\n",
        "cat > golang_linreg/main.go << 'EOF'\n",
        "package main\n",
        "\n",
        "import (\n",
        "\t\"fmt\"\n",
        "\t\"math\"\n",
        "\t\"time\"\n",
        "\n",
        "\t\"gonum.org/v1/gonum/mat\"\n",
        ")\n",
        "\n",
        "// normalizeZero returns 0.0 if x is very close to zero\n",
        "func normalizeZero(x float64, tol float64) float64 {\n",
        "\tif math.Abs(x) < tol {\n",
        "\t\treturn 0.0\n",
        "\t}\n",
        "\treturn x\n",
        "}\n",
        "\n",
        "func main() {\n",
        "\t// Create a dataset:\n",
        "\t// x = [1, 2, 3, 4, 5]\n",
        "\t// y = [2, 4, 6, 8, 10] (i.e. y = 2 * x)\n",
        "\txValues := []float64{1, 2, 3, 4, 5}\n",
        "\tyValues := []float64{2, 4, 6, 8, 10}\n",
        "\tn := len(xValues)\n",
        "\n",
        "\t// Augment data: create an n x 2 matrix (first column ones, second column xValues)\n",
        "\tXAug := mat.NewDense(n, 2, nil)\n",
        "\tfor i := 0; i < n; i++ {\n",
        "\t\tXAug.Set(i, 0, 1.0)\n",
        "\t\tXAug.Set(i, 1, xValues[i])\n",
        "\t}\n",
        "\n",
        "\t// Build y as an n x 1 vector\n",
        "\ty := mat.NewVecDense(n, yValues)\n",
        "\n",
        "\t// Time the training (solving for theta)\n",
        "\ttrainStart := time.Now()\n",
        "\tvar Xt mat.Dense\n",
        "\tXt.Mul(XAug.T(), XAug) // Xt = XAug^T * XAug\n",
        "\n",
        "\tvar XtInv mat.Dense\n",
        "\tif err := XtInv.Inverse(&Xt); err != nil {\n",
        "\t\tfmt.Println(\"Matrix inversion failed:\", err)\n",
        "\t\treturn\n",
        "\t}\n",
        "\n",
        "\tvar Xty mat.VecDense\n",
        "\tXty.MulVec(XAug.T(), y)\n",
        "\n",
        "\tvar theta mat.VecDense\n",
        "\ttheta.MulVec(&XtInv, &Xty)\n",
        "\ttrainDuration := time.Since(trainStart)\n",
        "\n",
        "\t// Normalize theta values (so that very-small numbers print as 0.0000)\n",
        "\ttol := 1e-12\n",
        "\tdata := theta.RawVector().Data\n",
        "\tfor i, v := range data {\n",
        "\t\tdata[i] = normalizeZero(v, tol)\n",
        "\t}\n",
        "\n",
        "\tfmt.Printf(\"Learned parameters (theta): [\")\n",
        "\tfor i, v := range data {\n",
        "\t\tif i > 0 {\n",
        "\t\t\tfmt.Printf(\", \")\n",
        "\t\t}\n",
        "\t\tfmt.Printf(\"%.4f\", v)\n",
        "\t}\n",
        "\tfmt.Println(\"]\")\n",
        "\n",
        "\t// Print training time in both milliseconds and microseconds\n",
        "\ttrainMillis := float64(trainDuration.Milliseconds())\n",
        "\ttrainMicros := float64(trainDuration.Microseconds())\n",
        "\tfmt.Printf(\"Training time: %.6f ms\\n\", trainMillis)\n",
        "\tfmt.Printf(\"Training time: %.6f µs\\n\", trainMicros)\n",
        "\n",
        "\t// Predict for a new data point: x = 6\n",
        "\t// Create an augmented row for x = 6: [1, 6]\n",
        "\tXNewAug := mat.NewDense(1, 2, []float64{1.0, 6.0})\n",
        "\n",
        "\tpredStart := time.Now()\n",
        "\tvar yPred mat.Dense\n",
        "\tyPred.Mul(XNewAug, &theta) // yPred is a 1 x 1 matrix\n",
        "\tpredDuration := time.Since(predStart)\n",
        "\n",
        "\tpredMillis := float64(predDuration.Milliseconds())\n",
        "\tpredMicros := float64(predDuration.Microseconds())\n",
        "\tfmt.Printf(\"Prediction for x = 6: %.4f\\n\", yPred.At(0, 0))\n",
        "\tfmt.Printf(\"Prediction time: %.6f ms\\n\", predMillis)\n",
        "\tfmt.Printf(\"Prediction time: %.6f µs\\n\", predMicros)\n",
        "}\n",
        "EOF"
      ],
      "metadata": {
        "id": "ZrYoinoFoPvS"
      },
      "execution_count": 13,
      "outputs": []
    },
    {
      "cell_type": "code",
      "source": [
        "%%bash\n",
        "cd golang_linreg\n",
        "export GO111MODULE=on\n",
        "go mod tidy && go mod download\n",
        "go run .\n",
        "cd .."
      ],
      "metadata": {
        "colab": {
          "base_uri": "https://localhost:8080/"
        },
        "id": "sASbHnnxoPtO",
        "outputId": "72b90eed-db48-4251-ee03-b90309754760"
      },
      "execution_count": 14,
      "outputs": [
        {
          "output_type": "stream",
          "name": "stdout",
          "text": [
            "Learned parameters (theta): [0.0000, 2.0000]\n",
            "Training time: 0.000000 ms\n",
            "Training time: 152.000000 µs\n",
            "Prediction for x = 6: 12.0000\n",
            "Prediction time: 0.000000 ms\n",
            "Prediction time: 1.000000 µs\n"
          ]
        },
        {
          "output_type": "stream",
          "name": "stderr",
          "text": [
            "go: found gonum.org/v1/gonum/mat in gonum.org/v1/gonum v0.0.0-00010101000000-000000000000\n",
            "go: downloading golang.org/x/exp v0.0.0-20230321023759-10a507213a29\n"
          ]
        }
      ]
    }
  ]
}