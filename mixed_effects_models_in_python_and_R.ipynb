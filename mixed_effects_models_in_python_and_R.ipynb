{
  "nbformat": 4,
  "nbformat_minor": 0,
  "metadata": {
    "colab": {
      "provenance": [],
      "machine_shape": "hm"
    },
    "kernelspec": {
      "name": "python3",
      "display_name": "Python 3"
    },
    "language_info": {
      "name": "python"
    }
  },
  "cells": [
    {
      "cell_type": "code",
      "execution_count": 1,
      "metadata": {
        "colab": {
          "base_uri": "https://localhost:8080/"
        },
        "id": "3P2gKNmdoCO3",
        "outputId": "b0afca0e-57f5-42bb-c427-f68ec3e65fdd"
      },
      "outputs": [
        {
          "output_type": "stream",
          "name": "stdout",
          "text": [
            "               Binomial Mixed GLM Results\n",
            "========================================================\n",
            "          Type Post. Mean Post. SD   SD  SD (LB) SD (UB)\n",
            "--------------------------------------------------------\n",
            "Intercept    M    -6.3008   1.2524                      \n",
            "score        M     0.1206   0.0240                      \n",
            "VC_1         V   -10.0000   1.0000 0.000   0.000   0.000\n",
            "========================================================\n",
            "Parameter types are mean structure (M) and variance\n",
            "structure (V)\n",
            "Variance parameters are modeled as log standard\n",
            "deviations\n"
          ]
        }
      ],
      "source": [
        "import numpy as np\n",
        "import pandas as pd\n",
        "import patsy\n",
        "import statsmodels.api as sm\n",
        "from statsmodels.genmod.bayes_mixed_glm import BinomialBayesMixedGLM\n",
        "import warnings\n",
        "\n",
        "# Suppress specific UserWarning\n",
        "warnings.filterwarnings(\n",
        "    \"ignore\",\n",
        "    message=\"Laplace fitting did not converge\"\n",
        ")\n",
        "\n",
        "# Simulate hierarchical data\n",
        "np.random.seed(42)\n",
        "n_depts, n_per_dept = 10, 30\n",
        "dept_labels = ['D{}'.format(i + 1) for i in range(n_depts)]\n",
        "dept_ids = np.repeat(dept_labels, n_per_dept)\n",
        "true_intercepts = np.random.normal(50, 5, size=n_depts)\n",
        "dept_map = dict(zip(dept_labels, true_intercepts))\n",
        "\n",
        "# Generate continuous 'score'\n",
        "score = np.array([dept_map[d] for d in dept_ids]) + \\\n",
        "    np.random.normal(0, 2, size=n_depts * n_per_dept)\n",
        "\n",
        "# Generate binary 'hired' via logistic link on score\n",
        "logit_p = 1 / (1 + np.exp(-(score - score.mean()) / 5))\n",
        "hired = np.random.binomial(1, logit_p, size=n_depts * n_per_dept)\n",
        "\n",
        "# Assemble DataFrame\n",
        "df = pd.DataFrame({\n",
        "    'dept': dept_ids,\n",
        "    'score': score,\n",
        "    'hired': hired\n",
        "})\n",
        "df['dept'] = df['dept'].astype('category')\n",
        "\n",
        "# Build design matrices for fixed and random effects\n",
        "exog = patsy.dmatrix(\n",
        "    '1 + score',\n",
        "    df,\n",
        "    return_type='dataframe'\n",
        ")\n",
        "exog_vc = patsy.dmatrix(\n",
        "    '0 + C(dept)',\n",
        "    df,\n",
        "    return_type='dataframe'\n",
        ")\n",
        "ident = np.zeros(exog_vc.shape[1], dtype=int)\n",
        "\n",
        "# Fit the BinomialBayesMixedGLM model\n",
        "model = BinomialBayesMixedGLM(\n",
        "    endog=df['hired'].values,\n",
        "    exog=exog,\n",
        "    exog_vc=exog_vc,\n",
        "    ident=ident\n",
        ")\n",
        "\n",
        "result = model.fit_map(\n",
        "    method='bfgs',\n",
        "    minim_opts={\n",
        "        'maxiter': 3000,\n",
        "        'gtol': 1e-6\n",
        "    }\n",
        ")\n",
        "\n",
        "# Print summary of fixed and random effects\n",
        "print(result.summary())"
      ]
    },
    {
      "cell_type": "code",
      "source": [
        "%load_ext rpy2.ipython"
      ],
      "metadata": {
        "id": "E4o62ZGaocpE"
      },
      "execution_count": 2,
      "outputs": []
    },
    {
      "cell_type": "code",
      "source": [
        "%%R\n",
        "# Install and load library\n",
        "if (!requireNamespace(\"lme4\", quietly = TRUE)) {\n",
        "  invisible(\n",
        "    suppressWarnings(\n",
        "      suppressMessages(\n",
        "        install.packages(\n",
        "          \"lme4\",\n",
        "          repos = \"https://cloud.r-project.org\",\n",
        "          dependencies = TRUE,\n",
        "          quiet = TRUE\n",
        "        )\n",
        "      )\n",
        "    )\n",
        "  )\n",
        "}\n",
        "\n",
        "suppressPackageStartupMessages(library(lme4))\n",
        "\n",
        "# Simulate hierarchical data\n",
        "set.seed(42)\n",
        "n_depts <- 10\n",
        "n_per_dept <- 30\n",
        "dept <- factor(rep(paste0(\"D\", 1:n_depts), each = n_per_dept))\n",
        "true_intercepts <- rnorm(n_depts, mean = 50, sd = 5)\n",
        "\n",
        "# Generate continuous 'score'\n",
        "score <- true_intercepts[as.integer(dept)] +\n",
        "         rnorm(n_depts * n_per_dept, mean = 0, sd = 2)\n",
        "\n",
        "# Generate binary 'hired' via logistic link on score\n",
        "logit_p <- plogis((score - mean(score)) / 5)\n",
        "hired <- rbinom(n_depts * n_per_dept, size = 1, prob = logit_p)\n",
        "\n",
        "# Assemble DataFrame\n",
        "df <- data.frame(dept, score, hired)\n",
        "\n",
        "# Fit mixed-effects logistic regression\n",
        "m_logit <- glmer(\n",
        "  hired ~ score + (1 | dept),\n",
        "  family = binomial(link = \"logit\"),\n",
        "  data = df\n",
        ")\n",
        "\n",
        "# Summarize results\n",
        "summary(m_logit)"
      ],
      "metadata": {
        "colab": {
          "base_uri": "https://localhost:8080/"
        },
        "id": "oL5YXp-2ocmv",
        "outputId": "d35db08f-4da2-48c5-fd23-d50f1061b65d"
      },
      "execution_count": 3,
      "outputs": [
        {
          "output_type": "stream",
          "name": "stdout",
          "text": [
            "Generalized linear mixed model fit by maximum likelihood (Laplace\n",
            "  Approximation) [glmerMod]\n",
            " Family: binomial  ( logit )\n",
            "Formula: hired ~ score + (1 | dept)\n",
            "   Data: df\n",
            "\n",
            "      AIC       BIC    logLik -2*log(L)  df.resid \n",
            "    356.9     368.0    -175.4     350.9       297 \n",
            "\n",
            "Scaled residuals: \n",
            "    Min      1Q  Median      3Q     Max \n",
            "-2.5461 -0.7650  0.2591  0.8130  2.5659 \n",
            "\n",
            "Random effects:\n",
            " Groups Name        Variance Std.Dev.\n",
            " dept   (Intercept) 0.02505  0.1583  \n",
            "Number of obs: 300, groups:  dept, 10\n",
            "\n",
            "Fixed effects:\n",
            "             Estimate Std. Error z value Pr(>|z|)    \n",
            "(Intercept) -12.74850    1.90052  -6.708 1.97e-11 ***\n",
            "score         0.24304    0.03623   6.708 1.97e-11 ***\n",
            "---\n",
            "Signif. codes:  0 ‘***’ 0.001 ‘**’ 0.01 ‘*’ 0.05 ‘.’ 0.1 ‘ ’ 1\n",
            "\n",
            "Correlation of Fixed Effects:\n",
            "      (Intr)\n",
            "score -0.997\n"
          ]
        }
      ]
    }
  ]
}